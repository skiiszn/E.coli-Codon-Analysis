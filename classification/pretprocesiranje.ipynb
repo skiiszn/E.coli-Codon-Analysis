{
 "cells": [
  {
   "cell_type": "code",
   "execution_count": 1,
   "id": "4bad6bc4-9aa0-4ff2-974d-2be8a0fb50c8",
   "metadata": {},
   "outputs": [],
   "source": [
    "import pandas as pd\n",
    "from sklearn.model_selection import train_test_split\n",
    "from matplotlib import pyplot as plt\n",
    "from imblearn.over_sampling import SMOTE"
   ]
  },
  {
   "cell_type": "code",
   "execution_count": 2,
   "id": "cb368f6a-b505-4216-9f3e-00e838af5607",
   "metadata": {},
   "outputs": [],
   "source": [
    "df = pd.read_csv('../data/konacna_tabela_normalizovana.csv')"
   ]
  },
  {
   "cell_type": "code",
   "execution_count": 3,
   "id": "7a775442-a3d0-4b45-abb5-08433d55b338",
   "metadata": {},
   "outputs": [
    {
     "data": {
      "text/plain": [
       "0"
      ]
     },
     "execution_count": 3,
     "metadata": {},
     "output_type": "execute_result"
    }
   ],
   "source": [
    "df.isna().sum().sum()"
   ]
  },
  {
   "cell_type": "code",
   "execution_count": 4,
   "id": "0fd3a4fb-cd84-4e7a-8040-74128dcb18f4",
   "metadata": {},
   "outputs": [],
   "source": [
    "X = df.drop(['ID', 'Tip', 'Pocetak', 'Kraj'], axis=1)\n",
    "y = df['Tip']\n",
    "X_train, X_test, y_train, y_test = train_test_split(X, y, test_size=0.2, random_state=42)\n",
    "X_train.to_csv('X_train.csv', index=False)\n",
    "X_test.to_csv('X_test.csv', index=False)\n",
    "y_train.to_csv('y_train.csv', index=False)\n",
    "y_test.to_csv('y_test.csv', index=False)"
   ]
  },
  {
   "cell_type": "code",
   "execution_count": 5,
   "id": "6e723810-c141-449c-84a7-ad9944dc3252",
   "metadata": {},
   "outputs": [],
   "source": [
    "X_train = pd.read_csv('./X_train.csv')\n",
    "y_train = pd.read_csv('./y_train.csv')\n",
    "X_test = pd.read_csv('./X_test.csv')\n",
    "y_test = pd.read_csv('./y_test.csv')"
   ]
  },
  {
   "cell_type": "code",
   "execution_count": 6,
   "id": "7ecf7a63-b811-4771-b38e-8cfeb1a33400",
   "metadata": {},
   "outputs": [
    {
     "data": {
      "text/plain": [
       "(607,)"
      ]
     },
     "execution_count": 6,
     "metadata": {},
     "output_type": "execute_result"
    }
   ],
   "source": [
    "y_train = y_train['Tip']\n",
    "y_train.shape"
   ]
  },
  {
   "cell_type": "code",
   "execution_count": 7,
   "id": "95f315de-1c6c-41df-8788-14d837babaff",
   "metadata": {},
   "outputs": [
    {
     "data": {
      "text/plain": [
       "(152,)"
      ]
     },
     "execution_count": 7,
     "metadata": {},
     "output_type": "execute_result"
    }
   ],
   "source": [
    "y_test = y_test['Tip']\n",
    "y_test.shape"
   ]
  },
  {
   "cell_type": "code",
   "execution_count": 8,
   "id": "b5f48b6c-6e58-48a3-b191-2fa59139c95d",
   "metadata": {},
   "outputs": [
    {
     "data": {
      "text/plain": [
       "array(['C', 'N', 'R', 'K', 'P'], dtype=object)"
      ]
     },
     "execution_count": 8,
     "metadata": {},
     "output_type": "execute_result"
    }
   ],
   "source": [
    "class_names = y_train.unique()\n",
    "class_names"
   ]
  },
  {
   "cell_type": "code",
   "execution_count": 9,
   "id": "f2df45ea-d649-48b4-a785-aa077d77e238",
   "metadata": {},
   "outputs": [
    {
     "data": {
      "text/plain": [
       "Tip\n",
       "C    338\n",
       "N    110\n",
       "R     75\n",
       "K     70\n",
       "P     14\n",
       "Name: count, dtype: int64"
      ]
     },
     "execution_count": 9,
     "metadata": {},
     "output_type": "execute_result"
    }
   ],
   "source": [
    "class_value_counts = y_train.value_counts()\n",
    "class_value_counts"
   ]
  },
  {
   "cell_type": "code",
   "execution_count": 10,
   "id": "3a994d9f-76c5-4362-9002-6b867fc23724",
   "metadata": {},
   "outputs": [
    {
     "data": {
      "image/png": "[encoded data removed]",
      "text/plain": [
       "<Figure size 640x480 with 1 Axes>"
      ]
     },
     "metadata": {},
     "output_type": "display_data"
    }
   ],
   "source": [
    "plt.bar(class_names, class_value_counts)\n",
    "plt.savefig('balansiranost_klasa.png')"
   ]
  },
  {
   "cell_type": "code",
   "execution_count": 18,
   "id": "da6c3116-c4e9-46bd-a473-194d08e6159f",
   "metadata": {},
   "outputs": [],
   "source": [
    "sm = SMOTE(random_state=42, k_neighbors=5)"
   ]
  },
  {
   "cell_type": "code",
   "execution_count": 19,
   "id": "baf5e212-c04b-4eca-b4c6-3b2190a67fab",
   "metadata": {},
   "outputs": [],
   "source": [
    "X_train_SMOTE, y_train_SMOTE = sm.fit_resample(X_train, y_train)"
   ]
  },
  {
   "cell_type": "code",
   "execution_count": 20,
   "id": "3e320f7a-8ff0-4a35-94b1-e15b0f35a4d7",
   "metadata": {},
   "outputs": [
    {
     "data": {
      "image/png": "[encoded data removed]",
      "text/plain": [
       "<Figure size 640x480 with 1 Axes>"
      ]
     },
     "metadata": {},
     "output_type": "display_data"
    }
   ],
   "source": [
    "plt.bar(y_train_SMOTE.unique(), y_train_SMOTE.value_counts())\n",
    "plt.savefig('balansiranost_klasa_SMOTE.png')"
   ]
  },
  {
   "cell_type": "code",
   "execution_count": 21,
   "id": "bb867373-eed7-4c75-9030-ccba34c1c0fd",
   "metadata": {},
   "outputs": [
    {
     "data": {
      "text/plain": [
       "{'C': 0.04142011834319527,\n",
       " 'N': 0.12727272727272726,\n",
       " 'R': 0.18666666666666668,\n",
       " 'K': 0.2,\n",
       " 'P': 1}"
      ]
     },
     "execution_count": 21,
     "metadata": {},
     "output_type": "execute_result"
    }
   ],
   "source": [
    "count_class_C = y_train.value_counts().iloc[0]\n",
    "count_class_N = y_train.value_counts().iloc[1]\n",
    "count_class_R = y_train.value_counts().iloc[2]\n",
    "count_class_K = y_train.value_counts().iloc[3]\n",
    "count_class_P = y_train.value_counts().iloc[4]\n",
    "\n",
    "ratio_C = count_class_P/count_class_C\n",
    "ratio_N = count_class_P/count_class_N\n",
    "ratio_R = count_class_P/count_class_R\n",
    "ratio_K = count_class_P/count_class_K\n",
    "\n",
    "class_weight = {'C':ratio_C, 'N':ratio_N, 'R':ratio_R, 'K':ratio_K, 'P':1}\n",
    "class_weight"
   ]
  },
  {
   "cell_type": "code",
   "execution_count": 22,
   "id": "e432dbca-f964-4964-944f-e778ecbd2748",
   "metadata": {},
   "outputs": [
    {
     "name": "stdout",
     "output_type": "stream",
     "text": [
      "Stored 'class_weight' (dict)\n"
     ]
    }
   ],
   "source": [
    "%store class_weight"
   ]
  },
  {
   "cell_type": "code",
   "execution_count": 23,
   "id": "e6088a15-f114-4ac1-a5c5-e1ae80496e6f",
   "metadata": {},
   "outputs": [
    {
     "name": "stdout",
     "output_type": "stream",
     "text": [
      "Stored 'X_train_SMOTE' (DataFrame)\n"
     ]
    }
   ],
   "source": [
    "%store X_train_SMOTE"
   ]
  },
  {
   "cell_type": "code",
   "execution_count": 24,
   "id": "9eea2a94-1b48-4203-9fc0-c9591539e4b7",
   "metadata": {},
   "outputs": [
    {
     "name": "stdout",
     "output_type": "stream",
     "text": [
      "Stored 'y_train_SMOTE' (Series)\n"
     ]
    }
   ],
   "source": [
    "%store y_train_SMOTE"
   ]
  },
  {
   "cell_type": "code",
   "execution_count": null,
   "id": "e4f9e547-c882-4ae3-8419-11a5012c82e4",
   "metadata": {},
   "outputs": [],
   "source": []
  },
  {
   "cell_type": "code",
   "execution_count": null,
   "id": "83a68e03-d25b-404f-8e5f-4839328be243",
   "metadata": {},
   "outputs": [],
   "source": []
  }
 ],
 "metadata": {
  "kernelspec": {
   "display_name": "Python (GPU)",
   "language": "python",
   "name": "gpu_env"
  },
  "language_info": {
   "codemirror_mode": {
    "name": "ipython",
    "version": 3
   },
   "file_extension": ".py",
   "mimetype": "text/x-python",
   "name": "python",
   "nbconvert_exporter": "python",
   "pygments_lexer": "ipython3",
   "version": "3.11.6"
  }
 },
 "nbformat": 4,
 "nbformat_minor": 5
}
