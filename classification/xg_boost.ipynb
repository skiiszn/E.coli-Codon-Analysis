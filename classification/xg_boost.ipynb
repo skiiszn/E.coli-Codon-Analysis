{
 "cells": [
  {
   "cell_type": "code",
   "execution_count": 1,
   "id": "567df7a1-5b56-466e-9fc8-06173da0c45e",
   "metadata": {},
   "outputs": [],
   "source": [
    "import pandas as pd\n",
    "from sklearn.metrics import accuracy_score, classification_report\n",
    "from sklearn.model_selection import GridSearchCV\n",
    "import matplotlib.pyplot as plt\n",
    "from sklearn.metrics import precision_score, recall_score, f1_score\n",
    "from xgboost import XGBClassifier\n",
    "from sklearn.preprocessing import OrdinalEncoder"
   ]
  },
  {
   "cell_type": "markdown",
   "id": "599e3834",
   "metadata": {},
   "source": [
    "# Za obican model"
   ]
  },
  {
   "cell_type": "code",
   "execution_count": 3,
   "id": "4897108b-8456-4ca9-940d-cfc9e3aeadd7",
   "metadata": {},
   "outputs": [],
   "source": [
    "X_train = pd.read_csv('./X_train.csv')\n",
    "y_train = pd.read_csv('./y_train.csv')\n",
    "X_test = pd.read_csv('./X_test.csv')\n",
    "y_test = pd.read_csv('./y_test.csv')"
   ]
  },
  {
   "cell_type": "markdown",
   "id": "c6c86d77",
   "metadata": {},
   "source": [
    "# Za SMOTE"
   ]
  },
  {
   "cell_type": "code",
   "execution_count": 4,
   "id": "691cb00b-e9cc-4d13-9492-3c796f9682b4",
   "metadata": {},
   "outputs": [],
   "source": [
    "%store -r class_weight\n",
    "%store -r X_train_SMOTE\n",
    "%store -r y_train_SMOTE\n",
    "X_train = pd.DataFrame(X_train.iloc[:, :-1], columns=X_train.columns[:-1])\n",
    "X_test = pd.DataFrame(X_test.iloc[:, :-1], columns=X_test.columns[:-1])\n",
    "y_train_SMOTE = pd.DataFrame(y_train_SMOTE, columns=['Tip'])\n",
    "X_train_SMOTE = pd.DataFrame(X_train_SMOTE.iloc[:, :-1], columns=X_train_SMOTE.columns[:-1])"
   ]
  },
  {
   "cell_type": "code",
   "execution_count": 7,
   "id": "e587d7a0-b6dc-44b8-8dbd-f23bedf2ef72",
   "metadata": {},
   "outputs": [],
   "source": [
    "oe = OrdinalEncoder()"
   ]
  },
  {
   "cell_type": "code",
   "execution_count": 8,
   "id": "bb3d8d3c-1cb5-4db5-9d4f-a77bdc8442dd",
   "metadata": {},
   "outputs": [
    {
     "data": {
      "text/html": [
       "<style>#sk-container-id-1 {color: black;}#sk-container-id-1 pre{padding: 0;}#sk-container-id-1 div.sk-toggleable {background-color: white;}#sk-container-id-1 label.sk-toggleable__label {cursor: pointer;display: block;width: 100%;margin-bottom: 0;padding: 0.3em;box-sizing: border-box;text-align: center;}#sk-container-id-1 label.sk-toggleable__label-arrow:before {content: \"▸\";float: left;margin-right: 0.25em;color: #696969;}#sk-container-id-1 label.sk-toggleable__label-arrow:hover:before {color: black;}#sk-container-id-1 div.sk-estimator:hover label.sk-toggleable__label-arrow:before {color: black;}#sk-container-id-1 div.sk-toggleable__content {max-height: 0;max-width: 0;overflow: hidden;text-align: left;background-color: #f0f8ff;}#sk-container-id-1 div.sk-toggleable__content pre {margin: 0.2em;color: black;border-radius: 0.25em;background-color: #f0f8ff;}#sk-container-id-1 input.sk-toggleable__control:checked~div.sk-toggleable__content {max-height: 200px;max-width: 100%;overflow: auto;}#sk-container-id-1 input.sk-toggleable__control:checked~label.sk-toggleable__label-arrow:before {content: \"▾\";}#sk-container-id-1 div.sk-estimator input.sk-toggleable__control:checked~label.sk-toggleable__label {background-color: #d4ebff;}#sk-container-id-1 div.sk-label input.sk-toggleable__control:checked~label.sk-toggleable__label {background-color: #d4ebff;}#sk-container-id-1 input.sk-hidden--visually {border: 0;clip: rect(1px 1px 1px 1px);clip: rect(1px, 1px, 1px, 1px);height: 1px;margin: -1px;overflow: hidden;padding: 0;position: absolute;width: 1px;}#sk-container-id-1 div.sk-estimator {font-family: monospace;background-color: #f0f8ff;border: 1px dotted black;border-radius: 0.25em;box-sizing: border-box;margin-bottom: 0.5em;}#sk-container-id-1 div.sk-estimator:hover {background-color: #d4ebff;}#sk-container-id-1 div.sk-parallel-item::after {content: \"\";width: 100%;border-bottom: 1px solid gray;flex-grow: 1;}#sk-container-id-1 div.sk-label:hover label.sk-toggleable__label {background-color: #d4ebff;}#sk-container-id-1 div.sk-serial::before {content: \"\";position: absolute;border-left: 1px solid gray;box-sizing: border-box;top: 0;bottom: 0;left: 50%;z-index: 0;}#sk-container-id-1 div.sk-serial {display: flex;flex-direction: column;align-items: center;background-color: white;padding-right: 0.2em;padding-left: 0.2em;position: relative;}#sk-container-id-1 div.sk-item {position: relative;z-index: 1;}#sk-container-id-1 div.sk-parallel {display: flex;align-items: stretch;justify-content: center;background-color: white;position: relative;}#sk-container-id-1 div.sk-item::before, #sk-container-id-1 div.sk-parallel-item::before {content: \"\";position: absolute;border-left: 1px solid gray;box-sizing: border-box;top: 0;bottom: 0;left: 50%;z-index: -1;}#sk-container-id-1 div.sk-parallel-item {display: flex;flex-direction: column;z-index: 1;position: relative;background-color: white;}#sk-container-id-1 div.sk-parallel-item:first-child::after {align-self: flex-end;width: 50%;}#sk-container-id-1 div.sk-parallel-item:last-child::after {align-self: flex-start;width: 50%;}#sk-container-id-1 div.sk-parallel-item:only-child::after {width: 0;}#sk-container-id-1 div.sk-dashed-wrapped {border: 1px dashed gray;margin: 0 0.4em 0.5em 0.4em;box-sizing: border-box;padding-bottom: 0.4em;background-color: white;}#sk-container-id-1 div.sk-label label {font-family: monospace;font-weight: bold;display: inline-block;line-height: 1.2em;}#sk-container-id-1 div.sk-label-container {text-align: center;}#sk-container-id-1 div.sk-container {/* jupyter's `normalize.less` sets `[hidden] { display: none; }` but bootstrap.min.css set `[hidden] { display: none !important; }` so we also need the `!important` here to be able to override the default hidden behavior on the sphinx rendered scikit-learn.org. See: https://github.com/scikit-learn/scikit-learn/issues/21755 */display: inline-block !important;position: relative;}#sk-container-id-1 div.sk-text-repr-fallback {display: none;}</style><div id=\"sk-container-id-1\" class=\"sk-top-container\"><div class=\"sk-text-repr-fallback\"><pre>OrdinalEncoder()</pre><b>In a Jupyter environment, please rerun this cell to show the HTML representation or trust the notebook. <br />On GitHub, the HTML representation is unable to render, please try loading this page with nbviewer.org.</b></div><div class=\"sk-container\" hidden><div class=\"sk-item\"><div class=\"sk-estimator sk-toggleable\"><input class=\"sk-toggleable__control sk-hidden--visually\" id=\"sk-estimator-id-1\" type=\"checkbox\" checked><label for=\"sk-estimator-id-1\" class=\"sk-toggleable__label sk-toggleable__label-arrow\">OrdinalEncoder</label><div class=\"sk-toggleable__content\"><pre>OrdinalEncoder()</pre></div></div></div></div></div>"
      ],
      "text/plain": [
       "OrdinalEncoder()"
      ]
     },
     "execution_count": 8,
     "metadata": {},
     "output_type": "execute_result"
    }
   ],
   "source": [
    "oe.fit(y_train)"
   ]
  },
  {
   "cell_type": "code",
   "execution_count": 9,
   "id": "37109093-8da5-478a-a6e2-bf359c26c0c6",
   "metadata": {},
   "outputs": [],
   "source": [
    "y_train = pd.DataFrame(oe.transform(y_train), columns=y_train.columns)['Tip']"
   ]
  },
  {
   "cell_type": "code",
   "execution_count": 10,
   "id": "55f6062f-89b7-492e-9605-4b7fb05f1132",
   "metadata": {},
   "outputs": [],
   "source": [
    "y_test = pd.DataFrame(oe.transform(y_test), columns=y_test.columns)['Tip']"
   ]
  },
  {
   "cell_type": "code",
   "execution_count": 11,
   "id": "de319ab4-3ad5-44b3-9257-071dc1a7fa34",
   "metadata": {},
   "outputs": [
    {
     "data": {
      "text/html": [
       "<style>#sk-container-id-2 {color: black;}#sk-container-id-2 pre{padding: 0;}#sk-container-id-2 div.sk-toggleable {background-color: white;}#sk-container-id-2 label.sk-toggleable__label {cursor: pointer;display: block;width: 100%;margin-bottom: 0;padding: 0.3em;box-sizing: border-box;text-align: center;}#sk-container-id-2 label.sk-toggleable__label-arrow:before {content: \"▸\";float: left;margin-right: 0.25em;color: #696969;}#sk-container-id-2 label.sk-toggleable__label-arrow:hover:before {color: black;}#sk-container-id-2 div.sk-estimator:hover label.sk-toggleable__label-arrow:before {color: black;}#sk-container-id-2 div.sk-toggleable__content {max-height: 0;max-width: 0;overflow: hidden;text-align: left;background-color: #f0f8ff;}#sk-container-id-2 div.sk-toggleable__content pre {margin: 0.2em;color: black;border-radius: 0.25em;background-color: #f0f8ff;}#sk-container-id-2 input.sk-toggleable__control:checked~div.sk-toggleable__content {max-height: 200px;max-width: 100%;overflow: auto;}#sk-container-id-2 input.sk-toggleable__control:checked~label.sk-toggleable__label-arrow:before {content: \"▾\";}#sk-container-id-2 div.sk-estimator input.sk-toggleable__control:checked~label.sk-toggleable__label {background-color: #d4ebff;}#sk-container-id-2 div.sk-label input.sk-toggleable__control:checked~label.sk-toggleable__label {background-color: #d4ebff;}#sk-container-id-2 input.sk-hidden--visually {border: 0;clip: rect(1px 1px 1px 1px);clip: rect(1px, 1px, 1px, 1px);height: 1px;margin: -1px;overflow: hidden;padding: 0;position: absolute;width: 1px;}#sk-container-id-2 div.sk-estimator {font-family: monospace;background-color: #f0f8ff;border: 1px dotted black;border-radius: 0.25em;box-sizing: border-box;margin-bottom: 0.5em;}#sk-container-id-2 div.sk-estimator:hover {background-color: #d4ebff;}#sk-container-id-2 div.sk-parallel-item::after {content: \"\";width: 100%;border-bottom: 1px solid gray;flex-grow: 1;}#sk-container-id-2 div.sk-label:hover label.sk-toggleable__label {background-color: #d4ebff;}#sk-container-id-2 div.sk-serial::before {content: \"\";position: absolute;border-left: 1px solid gray;box-sizing: border-box;top: 0;bottom: 0;left: 50%;z-index: 0;}#sk-container-id-2 div.sk-serial {display: flex;flex-direction: column;align-items: center;background-color: white;padding-right: 0.2em;padding-left: 0.2em;position: relative;}#sk-container-id-2 div.sk-item {position: relative;z-index: 1;}#sk-container-id-2 div.sk-parallel {display: flex;align-items: stretch;justify-content: center;background-color: white;position: relative;}#sk-container-id-2 div.sk-item::before, #sk-container-id-2 div.sk-parallel-item::before {content: \"\";position: absolute;border-left: 1px solid gray;box-sizing: border-box;top: 0;bottom: 0;left: 50%;z-index: -1;}#sk-container-id-2 div.sk-parallel-item {display: flex;flex-direction: column;z-index: 1;position: relative;background-color: white;}#sk-container-id-2 div.sk-parallel-item:first-child::after {align-self: flex-end;width: 50%;}#sk-container-id-2 div.sk-parallel-item:last-child::after {align-self: flex-start;width: 50%;}#sk-container-id-2 div.sk-parallel-item:only-child::after {width: 0;}#sk-container-id-2 div.sk-dashed-wrapped {border: 1px dashed gray;margin: 0 0.4em 0.5em 0.4em;box-sizing: border-box;padding-bottom: 0.4em;background-color: white;}#sk-container-id-2 div.sk-label label {font-family: monospace;font-weight: bold;display: inline-block;line-height: 1.2em;}#sk-container-id-2 div.sk-label-container {text-align: center;}#sk-container-id-2 div.sk-container {/* jupyter's `normalize.less` sets `[hidden] { display: none; }` but bootstrap.min.css set `[hidden] { display: none !important; }` so we also need the `!important` here to be able to override the default hidden behavior on the sphinx rendered scikit-learn.org. See: https://github.com/scikit-learn/scikit-learn/issues/21755 */display: inline-block !important;position: relative;}#sk-container-id-2 div.sk-text-repr-fallback {display: none;}</style><div id=\"sk-container-id-2\" class=\"sk-top-container\"><div class=\"sk-text-repr-fallback\"><pre>OrdinalEncoder()</pre><b>In a Jupyter environment, please rerun this cell to show the HTML representation or trust the notebook. <br />On GitHub, the HTML representation is unable to render, please try loading this page with nbviewer.org.</b></div><div class=\"sk-container\" hidden><div class=\"sk-item\"><div class=\"sk-estimator sk-toggleable\"><input class=\"sk-toggleable__control sk-hidden--visually\" id=\"sk-estimator-id-2\" type=\"checkbox\" checked><label for=\"sk-estimator-id-2\" class=\"sk-toggleable__label sk-toggleable__label-arrow\">OrdinalEncoder</label><div class=\"sk-toggleable__content\"><pre>OrdinalEncoder()</pre></div></div></div></div></div>"
      ],
      "text/plain": [
       "OrdinalEncoder()"
      ]
     },
     "execution_count": 11,
     "metadata": {},
     "output_type": "execute_result"
    }
   ],
   "source": [
    "oe.fit(y_train_SMOTE)"
   ]
  },
  {
   "cell_type": "code",
   "execution_count": 12,
   "id": "b3a56ea6-a8f1-4ef6-99ed-51b2837ed329",
   "metadata": {},
   "outputs": [],
   "source": [
    "y_train_SMOTE = pd.DataFrame(oe.transform(y_train_SMOTE), columns=y_train_SMOTE.columns)['Tip']"
   ]
  },
  {
   "cell_type": "markdown",
   "id": "70fda2dc-1f7e-4033-abd0-10afc3e7b037",
   "metadata": {},
   "source": [
    "**Model treniran nad obicnim podacima**"
   ]
  },
  {
   "cell_type": "code",
   "execution_count": 25,
   "id": "6dc43547-d320-4cea-a9d1-1bbe34a82f16",
   "metadata": {},
   "outputs": [
    {
     "name": "stdout",
     "output_type": "stream",
     "text": [
      "Fitting 5 folds for each of 24 candidates, totalling 120 fits\n",
      "[CV 1/5] END booster=gbtree, learning_rate=0.1, max_leaves=0, n_estimators=100;, score=0.795 total time=   0.9s\n",
      "[CV 2/5] END booster=gbtree, learning_rate=0.1, max_leaves=0, n_estimators=100;, score=0.803 total time=   0.8s\n",
      "[CV 3/5] END booster=gbtree, learning_rate=0.1, max_leaves=0, n_estimators=100;, score=0.884 total time=   0.8s\n",
      "[CV 4/5] END booster=gbtree, learning_rate=0.1, max_leaves=0, n_estimators=100;, score=0.843 total time=   0.8s\n",
      "[CV 5/5] END booster=gbtree, learning_rate=0.1, max_leaves=0, n_estimators=100;, score=0.843 total time=   0.9s\n",
      "[CV 1/5] END booster=gbtree, learning_rate=0.1, max_leaves=0, n_estimators=200;, score=0.795 total time=   1.3s\n",
      "[CV 2/5] END booster=gbtree, learning_rate=0.1, max_leaves=0, n_estimators=200;, score=0.787 total time=   1.2s\n",
      "[CV 3/5] END booster=gbtree, learning_rate=0.1, max_leaves=0, n_estimators=200;, score=0.876 total time=   1.2s\n",
      "[CV 4/5] END booster=gbtree, learning_rate=0.1, max_leaves=0, n_estimators=200;, score=0.843 total time=   1.2s\n",
      "[CV 5/5] END booster=gbtree, learning_rate=0.1, max_leaves=0, n_estimators=200;, score=0.835 total time=   1.2s\n",
      "[CV 1/5] END booster=gbtree, learning_rate=0.1, max_leaves=0, n_estimators=300;, score=0.795 total time=   1.5s\n",
      "[CV 2/5] END booster=gbtree, learning_rate=0.1, max_leaves=0, n_estimators=300;, score=0.770 total time=   1.6s\n",
      "[CV 3/5] END booster=gbtree, learning_rate=0.1, max_leaves=0, n_estimators=300;, score=0.884 total time=   1.6s\n",
      "[CV 4/5] END booster=gbtree, learning_rate=0.1, max_leaves=0, n_estimators=300;, score=0.851 total time=   1.6s\n",
      "[CV 5/5] END booster=gbtree, learning_rate=0.1, max_leaves=0, n_estimators=300;, score=0.826 total time=   1.5s\n",
      "[CV 1/5] END booster=gbtree, learning_rate=0.1, max_leaves=5, n_estimators=100;, score=0.811 total time=   0.4s\n",
      "[CV 2/5] END booster=gbtree, learning_rate=0.1, max_leaves=5, n_estimators=100;, score=0.795 total time=   0.4s\n",
      "[CV 3/5] END booster=gbtree, learning_rate=0.1, max_leaves=5, n_estimators=100;, score=0.851 total time=   0.4s\n",
      "[CV 4/5] END booster=gbtree, learning_rate=0.1, max_leaves=5, n_estimators=100;, score=0.826 total time=   0.4s\n",
      "[CV 5/5] END booster=gbtree, learning_rate=0.1, max_leaves=5, n_estimators=100;, score=0.810 total time=   0.4s\n",
      "[CV 1/5] END booster=gbtree, learning_rate=0.1, max_leaves=5, n_estimators=200;, score=0.811 total time=   0.8s\n",
      "[CV 2/5] END booster=gbtree, learning_rate=0.1, max_leaves=5, n_estimators=200;, score=0.795 total time=   0.8s\n",
      "[CV 3/5] END booster=gbtree, learning_rate=0.1, max_leaves=5, n_estimators=200;, score=0.860 total time=   0.8s\n",
      "[CV 4/5] END booster=gbtree, learning_rate=0.1, max_leaves=5, n_estimators=200;, score=0.818 total time=   0.8s\n",
      "[CV 5/5] END booster=gbtree, learning_rate=0.1, max_leaves=5, n_estimators=200;, score=0.843 total time=   0.8s\n",
      "[CV 1/5] END booster=gbtree, learning_rate=0.1, max_leaves=5, n_estimators=300;, score=0.811 total time=   1.2s\n",
      "[CV 2/5] END booster=gbtree, learning_rate=0.1, max_leaves=5, n_estimators=300;, score=0.795 total time=   1.2s\n",
      "[CV 3/5] END booster=gbtree, learning_rate=0.1, max_leaves=5, n_estimators=300;, score=0.876 total time=   1.2s\n",
      "[CV 4/5] END booster=gbtree, learning_rate=0.1, max_leaves=5, n_estimators=300;, score=0.826 total time=   1.2s\n",
      "[CV 5/5] END booster=gbtree, learning_rate=0.1, max_leaves=5, n_estimators=300;, score=0.843 total time=   1.2s\n",
      "[CV 1/5] END booster=gbtree, learning_rate=0.2, max_leaves=0, n_estimators=100;, score=0.795 total time=   0.6s\n",
      "[CV 2/5] END booster=gbtree, learning_rate=0.2, max_leaves=0, n_estimators=100;, score=0.770 total time=   0.5s\n",
      "[CV 3/5] END booster=gbtree, learning_rate=0.2, max_leaves=0, n_estimators=100;, score=0.876 total time=   0.6s\n",
      "[CV 4/5] END booster=gbtree, learning_rate=0.2, max_leaves=0, n_estimators=100;, score=0.843 total time=   0.6s\n",
      "[CV 5/5] END booster=gbtree, learning_rate=0.2, max_leaves=0, n_estimators=100;, score=0.835 total time=   0.6s\n",
      "[CV 1/5] END booster=gbtree, learning_rate=0.2, max_leaves=0, n_estimators=200;, score=0.795 total time=   0.8s\n",
      "[CV 2/5] END booster=gbtree, learning_rate=0.2, max_leaves=0, n_estimators=200;, score=0.770 total time=   0.8s\n",
      "[CV 3/5] END booster=gbtree, learning_rate=0.2, max_leaves=0, n_estimators=200;, score=0.884 total time=   0.9s\n",
      "[CV 4/5] END booster=gbtree, learning_rate=0.2, max_leaves=0, n_estimators=200;, score=0.843 total time=   1.0s\n",
      "[CV 5/5] END booster=gbtree, learning_rate=0.2, max_leaves=0, n_estimators=200;, score=0.818 total time=   0.9s\n",
      "[CV 1/5] END booster=gbtree, learning_rate=0.2, max_leaves=0, n_estimators=300;, score=0.795 total time=   1.1s\n",
      "[CV 2/5] END booster=gbtree, learning_rate=0.2, max_leaves=0, n_estimators=300;, score=0.770 total time=   1.1s\n",
      "[CV 3/5] END booster=gbtree, learning_rate=0.2, max_leaves=0, n_estimators=300;, score=0.876 total time=   1.2s\n",
      "[CV 4/5] END booster=gbtree, learning_rate=0.2, max_leaves=0, n_estimators=300;, score=0.843 total time=   1.2s\n",
      "[CV 5/5] END booster=gbtree, learning_rate=0.2, max_leaves=0, n_estimators=300;, score=0.826 total time=   1.2s\n",
      "[CV 1/5] END booster=gbtree, learning_rate=0.2, max_leaves=5, n_estimators=100;, score=0.820 total time=   0.4s\n",
      "[CV 2/5] END booster=gbtree, learning_rate=0.2, max_leaves=5, n_estimators=100;, score=0.779 total time=   0.4s\n",
      "[CV 3/5] END booster=gbtree, learning_rate=0.2, max_leaves=5, n_estimators=100;, score=0.868 total time=   0.4s\n",
      "[CV 4/5] END booster=gbtree, learning_rate=0.2, max_leaves=5, n_estimators=100;, score=0.826 total time=   0.5s\n",
      "[CV 5/5] END booster=gbtree, learning_rate=0.2, max_leaves=5, n_estimators=100;, score=0.860 total time=   0.4s\n",
      "[CV 1/5] END booster=gbtree, learning_rate=0.2, max_leaves=5, n_estimators=200;, score=0.828 total time=   0.8s\n",
      "[CV 2/5] END booster=gbtree, learning_rate=0.2, max_leaves=5, n_estimators=200;, score=0.795 total time=   0.8s\n",
      "[CV 3/5] END booster=gbtree, learning_rate=0.2, max_leaves=5, n_estimators=200;, score=0.893 total time=   0.7s\n",
      "[CV 4/5] END booster=gbtree, learning_rate=0.2, max_leaves=5, n_estimators=200;, score=0.826 total time=   0.9s\n",
      "[CV 5/5] END booster=gbtree, learning_rate=0.2, max_leaves=5, n_estimators=200;, score=0.843 total time=   0.8s\n",
      "[CV 1/5] END booster=gbtree, learning_rate=0.2, max_leaves=5, n_estimators=300;, score=0.828 total time=   1.1s\n",
      "[CV 2/5] END booster=gbtree, learning_rate=0.2, max_leaves=5, n_estimators=300;, score=0.795 total time=   1.0s\n",
      "[CV 3/5] END booster=gbtree, learning_rate=0.2, max_leaves=5, n_estimators=300;, score=0.901 total time=   1.1s\n",
      "[CV 4/5] END booster=gbtree, learning_rate=0.2, max_leaves=5, n_estimators=300;, score=0.826 total time=   1.2s\n",
      "[CV 5/5] END booster=gbtree, learning_rate=0.2, max_leaves=5, n_estimators=300;, score=0.843 total time=   1.0s\n",
      "[CV 1/5] END booster=gblinear, learning_rate=0.1, max_leaves=0, n_estimators=100;, score=0.574 total time=   0.0s\n"
     ]
    },
    {
     "name": "stderr",
     "output_type": "stream",
     "text": [
      "C:\\Users\\mihai\\anaconda3\\Lib\\site-packages\\xgboost\\core.py:160: UserWarning: [23:16:36] WARNING: C:\\buildkite-agent\\builds\\buildkite-windows-cpu-autoscaling-group-i-0b3782d1791676daf-1\\xgboost\\xgboost-ci-windows\\src\\learner.cc:742: \n",
      "Parameters: { \"max_leaves\" } are not used.\n",
      "\n",
      "  warnings.warn(smsg, UserWarning)\n",
      "C:\\Users\\mihai\\anaconda3\\Lib\\site-packages\\xgboost\\core.py:160: UserWarning: [23:16:36] WARNING: C:\\buildkite-agent\\builds\\buildkite-windows-cpu-autoscaling-group-i-0b3782d1791676daf-1\\xgboost\\xgboost-ci-windows\\src\\learner.cc:742: \n",
      "Parameters: { \"max_leaves\" } are not used.\n",
      "\n",
      "  warnings.warn(smsg, UserWarning)\n"
     ]
    },
    {
     "name": "stdout",
     "output_type": "stream",
     "text": [
      "[CV 2/5] END booster=gblinear, learning_rate=0.1, max_leaves=0, n_estimators=100;, score=0.623 total time=   0.0s\n",
      "[CV 3/5] END booster=gblinear, learning_rate=0.1, max_leaves=0, n_estimators=100;, score=0.653 total time=   0.0s\n"
     ]
    },
    {
     "name": "stderr",
     "output_type": "stream",
     "text": [
      "C:\\Users\\mihai\\anaconda3\\Lib\\site-packages\\xgboost\\core.py:160: UserWarning: [23:16:36] WARNING: C:\\buildkite-agent\\builds\\buildkite-windows-cpu-autoscaling-group-i-0b3782d1791676daf-1\\xgboost\\xgboost-ci-windows\\src\\learner.cc:742: \n",
      "Parameters: { \"max_leaves\" } are not used.\n",
      "\n",
      "  warnings.warn(smsg, UserWarning)\n",
      "C:\\Users\\mihai\\anaconda3\\Lib\\site-packages\\xgboost\\core.py:160: UserWarning: [23:16:36] WARNING: C:\\buildkite-agent\\builds\\buildkite-windows-cpu-autoscaling-group-i-0b3782d1791676daf-1\\xgboost\\xgboost-ci-windows\\src\\learner.cc:742: \n",
      "Parameters: { \"max_leaves\" } are not used.\n",
      "\n",
      "  warnings.warn(smsg, UserWarning)\n"
     ]
    },
    {
     "name": "stdout",
     "output_type": "stream",
     "text": [
      "[CV 4/5] END booster=gblinear, learning_rate=0.1, max_leaves=0, n_estimators=100;, score=0.661 total time=   0.0s\n",
      "[CV 5/5] END booster=gblinear, learning_rate=0.1, max_leaves=0, n_estimators=100;, score=0.636 total time=   0.0s\n"
     ]
    },
    {
     "name": "stderr",
     "output_type": "stream",
     "text": [
      "C:\\Users\\mihai\\anaconda3\\Lib\\site-packages\\xgboost\\core.py:160: UserWarning: [23:16:36] WARNING: C:\\buildkite-agent\\builds\\buildkite-windows-cpu-autoscaling-group-i-0b3782d1791676daf-1\\xgboost\\xgboost-ci-windows\\src\\learner.cc:742: \n",
      "Parameters: { \"max_leaves\" } are not used.\n",
      "\n",
      "  warnings.warn(smsg, UserWarning)\n",
      "C:\\Users\\mihai\\anaconda3\\Lib\\site-packages\\xgboost\\core.py:160: UserWarning: [23:16:36] WARNING: C:\\buildkite-agent\\builds\\buildkite-windows-cpu-autoscaling-group-i-0b3782d1791676daf-1\\xgboost\\xgboost-ci-windows\\src\\learner.cc:742: \n",
      "Parameters: { \"max_leaves\" } are not used.\n",
      "\n",
      "  warnings.warn(smsg, UserWarning)\n"
     ]
    },
    {
     "name": "stdout",
     "output_type": "stream",
     "text": [
      "[CV 1/5] END booster=gblinear, learning_rate=0.1, max_leaves=0, n_estimators=200;, score=0.574 total time=   0.1s\n"
     ]
    },
    {
     "name": "stderr",
     "output_type": "stream",
     "text": [
      "C:\\Users\\mihai\\anaconda3\\Lib\\site-packages\\xgboost\\core.py:160: UserWarning: [23:16:36] WARNING: C:\\buildkite-agent\\builds\\buildkite-windows-cpu-autoscaling-group-i-0b3782d1791676daf-1\\xgboost\\xgboost-ci-windows\\src\\learner.cc:742: \n",
      "Parameters: { \"max_leaves\" } are not used.\n",
      "\n",
      "  warnings.warn(smsg, UserWarning)\n"
     ]
    },
    {
     "name": "stdout",
     "output_type": "stream",
     "text": [
      "[CV 2/5] END booster=gblinear, learning_rate=0.1, max_leaves=0, n_estimators=200;, score=0.623 total time=   0.1s\n"
     ]
    },
    {
     "name": "stderr",
     "output_type": "stream",
     "text": [
      "C:\\Users\\mihai\\anaconda3\\Lib\\site-packages\\xgboost\\core.py:160: UserWarning: [23:16:37] WARNING: C:\\buildkite-agent\\builds\\buildkite-windows-cpu-autoscaling-group-i-0b3782d1791676daf-1\\xgboost\\xgboost-ci-windows\\src\\learner.cc:742: \n",
      "Parameters: { \"max_leaves\" } are not used.\n",
      "\n",
      "  warnings.warn(smsg, UserWarning)\n"
     ]
    },
    {
     "name": "stdout",
     "output_type": "stream",
     "text": [
      "[CV 3/5] END booster=gblinear, learning_rate=0.1, max_leaves=0, n_estimators=200;, score=0.661 total time=   0.1s\n",
      "[CV 4/5] END booster=gblinear, learning_rate=0.1, max_leaves=0, n_estimators=200;, score=0.661 total time=   0.1s\n"
     ]
    },
    {
     "name": "stderr",
     "output_type": "stream",
     "text": [
      "C:\\Users\\mihai\\anaconda3\\Lib\\site-packages\\xgboost\\core.py:160: UserWarning: [23:16:37] WARNING: C:\\buildkite-agent\\builds\\buildkite-windows-cpu-autoscaling-group-i-0b3782d1791676daf-1\\xgboost\\xgboost-ci-windows\\src\\learner.cc:742: \n",
      "Parameters: { \"max_leaves\" } are not used.\n",
      "\n",
      "  warnings.warn(smsg, UserWarning)\n",
      "C:\\Users\\mihai\\anaconda3\\Lib\\site-packages\\xgboost\\core.py:160: UserWarning: [23:16:37] WARNING: C:\\buildkite-agent\\builds\\buildkite-windows-cpu-autoscaling-group-i-0b3782d1791676daf-1\\xgboost\\xgboost-ci-windows\\src\\learner.cc:742: \n",
      "Parameters: { \"max_leaves\" } are not used.\n",
      "\n",
      "  warnings.warn(smsg, UserWarning)\n"
     ]
    },
    {
     "name": "stdout",
     "output_type": "stream",
     "text": [
      "[CV 5/5] END booster=gblinear, learning_rate=0.1, max_leaves=0, n_estimators=200;, score=0.636 total time=   0.1s\n"
     ]
    },
    {
     "name": "stderr",
     "output_type": "stream",
     "text": [
      "C:\\Users\\mihai\\anaconda3\\Lib\\site-packages\\xgboost\\core.py:160: UserWarning: [23:16:37] WARNING: C:\\buildkite-agent\\builds\\buildkite-windows-cpu-autoscaling-group-i-0b3782d1791676daf-1\\xgboost\\xgboost-ci-windows\\src\\learner.cc:742: \n",
      "Parameters: { \"max_leaves\" } are not used.\n",
      "\n",
      "  warnings.warn(smsg, UserWarning)\n"
     ]
    },
    {
     "name": "stdout",
     "output_type": "stream",
     "text": [
      "[CV 1/5] END booster=gblinear, learning_rate=0.1, max_leaves=0, n_estimators=300;, score=0.639 total time=   0.2s\n"
     ]
    },
    {
     "name": "stderr",
     "output_type": "stream",
     "text": [
      "C:\\Users\\mihai\\anaconda3\\Lib\\site-packages\\xgboost\\core.py:160: UserWarning: [23:16:37] WARNING: C:\\buildkite-agent\\builds\\buildkite-windows-cpu-autoscaling-group-i-0b3782d1791676daf-1\\xgboost\\xgboost-ci-windows\\src\\learner.cc:742: \n",
      "Parameters: { \"max_leaves\" } are not used.\n",
      "\n",
      "  warnings.warn(smsg, UserWarning)\n"
     ]
    },
    {
     "name": "stdout",
     "output_type": "stream",
     "text": [
      "[CV 2/5] END booster=gblinear, learning_rate=0.1, max_leaves=0, n_estimators=300;, score=0.697 total time=   0.2s\n"
     ]
    },
    {
     "name": "stderr",
     "output_type": "stream",
     "text": [
      "C:\\Users\\mihai\\anaconda3\\Lib\\site-packages\\xgboost\\core.py:160: UserWarning: [23:16:38] WARNING: C:\\buildkite-agent\\builds\\buildkite-windows-cpu-autoscaling-group-i-0b3782d1791676daf-1\\xgboost\\xgboost-ci-windows\\src\\learner.cc:742: \n",
      "Parameters: { \"max_leaves\" } are not used.\n",
      "\n",
      "  warnings.warn(smsg, UserWarning)\n"
     ]
    },
    {
     "name": "stdout",
     "output_type": "stream",
     "text": [
      "[CV 3/5] END booster=gblinear, learning_rate=0.1, max_leaves=0, n_estimators=300;, score=0.736 total time=   0.2s\n"
     ]
    },
    {
     "name": "stderr",
     "output_type": "stream",
     "text": [
      "C:\\Users\\mihai\\anaconda3\\Lib\\site-packages\\xgboost\\core.py:160: UserWarning: [23:16:38] WARNING: C:\\buildkite-agent\\builds\\buildkite-windows-cpu-autoscaling-group-i-0b3782d1791676daf-1\\xgboost\\xgboost-ci-windows\\src\\learner.cc:742: \n",
      "Parameters: { \"max_leaves\" } are not used.\n",
      "\n",
      "  warnings.warn(smsg, UserWarning)\n"
     ]
    },
    {
     "name": "stdout",
     "output_type": "stream",
     "text": [
      "[CV 4/5] END booster=gblinear, learning_rate=0.1, max_leaves=0, n_estimators=300;, score=0.686 total time=   0.2s\n"
     ]
    },
    {
     "name": "stderr",
     "output_type": "stream",
     "text": [
      "C:\\Users\\mihai\\anaconda3\\Lib\\site-packages\\xgboost\\core.py:160: UserWarning: [23:16:38] WARNING: C:\\buildkite-agent\\builds\\buildkite-windows-cpu-autoscaling-group-i-0b3782d1791676daf-1\\xgboost\\xgboost-ci-windows\\src\\learner.cc:742: \n",
      "Parameters: { \"max_leaves\" } are not used.\n",
      "\n",
      "  warnings.warn(smsg, UserWarning)\n"
     ]
    },
    {
     "name": "stdout",
     "output_type": "stream",
     "text": [
      "[CV 5/5] END booster=gblinear, learning_rate=0.1, max_leaves=0, n_estimators=300;, score=0.653 total time=   0.2s\n",
      "[CV 1/5] END booster=gblinear, learning_rate=0.1, max_leaves=5, n_estimators=100;, score=0.566 total time=   0.0s\n"
     ]
    },
    {
     "name": "stderr",
     "output_type": "stream",
     "text": [
      "C:\\Users\\mihai\\anaconda3\\Lib\\site-packages\\xgboost\\core.py:160: UserWarning: [23:16:39] WARNING: C:\\buildkite-agent\\builds\\buildkite-windows-cpu-autoscaling-group-i-0b3782d1791676daf-1\\xgboost\\xgboost-ci-windows\\src\\learner.cc:742: \n",
      "Parameters: { \"max_leaves\" } are not used.\n",
      "\n",
      "  warnings.warn(smsg, UserWarning)\n",
      "C:\\Users\\mihai\\anaconda3\\Lib\\site-packages\\xgboost\\core.py:160: UserWarning: [23:16:39] WARNING: C:\\buildkite-agent\\builds\\buildkite-windows-cpu-autoscaling-group-i-0b3782d1791676daf-1\\xgboost\\xgboost-ci-windows\\src\\learner.cc:742: \n",
      "Parameters: { \"max_leaves\" } are not used.\n",
      "\n",
      "  warnings.warn(smsg, UserWarning)\n"
     ]
    },
    {
     "name": "stdout",
     "output_type": "stream",
     "text": [
      "[CV 2/5] END booster=gblinear, learning_rate=0.1, max_leaves=5, n_estimators=100;, score=0.615 total time=   0.0s\n",
      "[CV 3/5] END booster=gblinear, learning_rate=0.1, max_leaves=5, n_estimators=100;, score=0.653 total time=   0.0s\n"
     ]
    },
    {
     "name": "stderr",
     "output_type": "stream",
     "text": [
      "C:\\Users\\mihai\\anaconda3\\Lib\\site-packages\\xgboost\\core.py:160: UserWarning: [23:16:39] WARNING: C:\\buildkite-agent\\builds\\buildkite-windows-cpu-autoscaling-group-i-0b3782d1791676daf-1\\xgboost\\xgboost-ci-windows\\src\\learner.cc:742: \n",
      "Parameters: { \"max_leaves\" } are not used.\n",
      "\n",
      "  warnings.warn(smsg, UserWarning)\n",
      "C:\\Users\\mihai\\anaconda3\\Lib\\site-packages\\xgboost\\core.py:160: UserWarning: [23:16:39] WARNING: C:\\buildkite-agent\\builds\\buildkite-windows-cpu-autoscaling-group-i-0b3782d1791676daf-1\\xgboost\\xgboost-ci-windows\\src\\learner.cc:742: \n",
      "Parameters: { \"max_leaves\" } are not used.\n",
      "\n",
      "  warnings.warn(smsg, UserWarning)\n"
     ]
    },
    {
     "name": "stdout",
     "output_type": "stream",
     "text": [
      "[CV 4/5] END booster=gblinear, learning_rate=0.1, max_leaves=5, n_estimators=100;, score=0.661 total time=   0.0s\n",
      "[CV 5/5] END booster=gblinear, learning_rate=0.1, max_leaves=5, n_estimators=100;, score=0.636 total time=   0.0s\n"
     ]
    },
    {
     "name": "stderr",
     "output_type": "stream",
     "text": [
      "C:\\Users\\mihai\\anaconda3\\Lib\\site-packages\\xgboost\\core.py:160: UserWarning: [23:16:39] WARNING: C:\\buildkite-agent\\builds\\buildkite-windows-cpu-autoscaling-group-i-0b3782d1791676daf-1\\xgboost\\xgboost-ci-windows\\src\\learner.cc:742: \n",
      "Parameters: { \"max_leaves\" } are not used.\n",
      "\n",
      "  warnings.warn(smsg, UserWarning)\n",
      "C:\\Users\\mihai\\anaconda3\\Lib\\site-packages\\xgboost\\core.py:160: UserWarning: [23:16:39] WARNING: C:\\buildkite-agent\\builds\\buildkite-windows-cpu-autoscaling-group-i-0b3782d1791676daf-1\\xgboost\\xgboost-ci-windows\\src\\learner.cc:742: \n",
      "Parameters: { \"max_leaves\" } are not used.\n",
      "\n",
      "  warnings.warn(smsg, UserWarning)\n"
     ]
    },
    {
     "name": "stdout",
     "output_type": "stream",
     "text": [
      "[CV 1/5] END booster=gblinear, learning_rate=0.1, max_leaves=5, n_estimators=200;, score=0.574 total time=   0.1s\n",
      "[CV 2/5] END booster=gblinear, learning_rate=0.1, max_leaves=5, n_estimators=200;, score=0.623 total time=   0.1s\n"
     ]
    },
    {
     "name": "stderr",
     "output_type": "stream",
     "text": [
      "C:\\Users\\mihai\\anaconda3\\Lib\\site-packages\\xgboost\\core.py:160: UserWarning: [23:16:39] WARNING: C:\\buildkite-agent\\builds\\buildkite-windows-cpu-autoscaling-group-i-0b3782d1791676daf-1\\xgboost\\xgboost-ci-windows\\src\\learner.cc:742: \n",
      "Parameters: { \"max_leaves\" } are not used.\n",
      "\n",
      "  warnings.warn(smsg, UserWarning)\n",
      "C:\\Users\\mihai\\anaconda3\\Lib\\site-packages\\xgboost\\core.py:160: UserWarning: [23:16:40] WARNING: C:\\buildkite-agent\\builds\\buildkite-windows-cpu-autoscaling-group-i-0b3782d1791676daf-1\\xgboost\\xgboost-ci-windows\\src\\learner.cc:742: \n",
      "Parameters: { \"max_leaves\" } are not used.\n",
      "\n",
      "  warnings.warn(smsg, UserWarning)\n"
     ]
    },
    {
     "name": "stdout",
     "output_type": "stream",
     "text": [
      "[CV 3/5] END booster=gblinear, learning_rate=0.1, max_leaves=5, n_estimators=200;, score=0.661 total time=   0.1s\n",
      "[CV 4/5] END booster=gblinear, learning_rate=0.1, max_leaves=5, n_estimators=200;, score=0.661 total time=   0.1s\n"
     ]
    },
    {
     "name": "stderr",
     "output_type": "stream",
     "text": [
      "C:\\Users\\mihai\\anaconda3\\Lib\\site-packages\\xgboost\\core.py:160: UserWarning: [23:16:40] WARNING: C:\\buildkite-agent\\builds\\buildkite-windows-cpu-autoscaling-group-i-0b3782d1791676daf-1\\xgboost\\xgboost-ci-windows\\src\\learner.cc:742: \n",
      "Parameters: { \"max_leaves\" } are not used.\n",
      "\n",
      "  warnings.warn(smsg, UserWarning)\n",
      "C:\\Users\\mihai\\anaconda3\\Lib\\site-packages\\xgboost\\core.py:160: UserWarning: [23:16:40] WARNING: C:\\buildkite-agent\\builds\\buildkite-windows-cpu-autoscaling-group-i-0b3782d1791676daf-1\\xgboost\\xgboost-ci-windows\\src\\learner.cc:742: \n",
      "Parameters: { \"max_leaves\" } are not used.\n",
      "\n",
      "  warnings.warn(smsg, UserWarning)\n"
     ]
    },
    {
     "name": "stdout",
     "output_type": "stream",
     "text": [
      "[CV 5/5] END booster=gblinear, learning_rate=0.1, max_leaves=5, n_estimators=200;, score=0.636 total time=   0.1s\n"
     ]
    },
    {
     "name": "stderr",
     "output_type": "stream",
     "text": [
      "C:\\Users\\mihai\\anaconda3\\Lib\\site-packages\\xgboost\\core.py:160: UserWarning: [23:16:40] WARNING: C:\\buildkite-agent\\builds\\buildkite-windows-cpu-autoscaling-group-i-0b3782d1791676daf-1\\xgboost\\xgboost-ci-windows\\src\\learner.cc:742: \n",
      "Parameters: { \"max_leaves\" } are not used.\n",
      "\n",
      "  warnings.warn(smsg, UserWarning)\n"
     ]
    },
    {
     "name": "stdout",
     "output_type": "stream",
     "text": [
      "[CV 1/5] END booster=gblinear, learning_rate=0.1, max_leaves=5, n_estimators=300;, score=0.631 total time=   0.2s\n"
     ]
    },
    {
     "name": "stderr",
     "output_type": "stream",
     "text": [
      "C:\\Users\\mihai\\anaconda3\\Lib\\site-packages\\xgboost\\core.py:160: UserWarning: [23:16:40] WARNING: C:\\buildkite-agent\\builds\\buildkite-windows-cpu-autoscaling-group-i-0b3782d1791676daf-1\\xgboost\\xgboost-ci-windows\\src\\learner.cc:742: \n",
      "Parameters: { \"max_leaves\" } are not used.\n",
      "\n",
      "  warnings.warn(smsg, UserWarning)\n"
     ]
    },
    {
     "name": "stdout",
     "output_type": "stream",
     "text": [
      "[CV 2/5] END booster=gblinear, learning_rate=0.1, max_leaves=5, n_estimators=300;, score=0.697 total time=   0.2s\n"
     ]
    },
    {
     "name": "stderr",
     "output_type": "stream",
     "text": [
      "C:\\Users\\mihai\\anaconda3\\Lib\\site-packages\\xgboost\\core.py:160: UserWarning: [23:16:41] WARNING: C:\\buildkite-agent\\builds\\buildkite-windows-cpu-autoscaling-group-i-0b3782d1791676daf-1\\xgboost\\xgboost-ci-windows\\src\\learner.cc:742: \n",
      "Parameters: { \"max_leaves\" } are not used.\n",
      "\n",
      "  warnings.warn(smsg, UserWarning)\n"
     ]
    },
    {
     "name": "stdout",
     "output_type": "stream",
     "text": [
      "[CV 3/5] END booster=gblinear, learning_rate=0.1, max_leaves=5, n_estimators=300;, score=0.736 total time=   0.2s\n"
     ]
    },
    {
     "name": "stderr",
     "output_type": "stream",
     "text": [
      "C:\\Users\\mihai\\anaconda3\\Lib\\site-packages\\xgboost\\core.py:160: UserWarning: [23:16:41] WARNING: C:\\buildkite-agent\\builds\\buildkite-windows-cpu-autoscaling-group-i-0b3782d1791676daf-1\\xgboost\\xgboost-ci-windows\\src\\learner.cc:742: \n",
      "Parameters: { \"max_leaves\" } are not used.\n",
      "\n",
      "  warnings.warn(smsg, UserWarning)\n"
     ]
    },
    {
     "name": "stdout",
     "output_type": "stream",
     "text": [
      "[CV 4/5] END booster=gblinear, learning_rate=0.1, max_leaves=5, n_estimators=300;, score=0.686 total time=   0.2s\n"
     ]
    },
    {
     "name": "stderr",
     "output_type": "stream",
     "text": [
      "C:\\Users\\mihai\\anaconda3\\Lib\\site-packages\\xgboost\\core.py:160: UserWarning: [23:16:41] WARNING: C:\\buildkite-agent\\builds\\buildkite-windows-cpu-autoscaling-group-i-0b3782d1791676daf-1\\xgboost\\xgboost-ci-windows\\src\\learner.cc:742: \n",
      "Parameters: { \"max_leaves\" } are not used.\n",
      "\n",
      "  warnings.warn(smsg, UserWarning)\n"
     ]
    },
    {
     "name": "stdout",
     "output_type": "stream",
     "text": [
      "[CV 5/5] END booster=gblinear, learning_rate=0.1, max_leaves=5, n_estimators=300;, score=0.645 total time=   0.2s\n",
      "[CV 1/5] END booster=gblinear, learning_rate=0.2, max_leaves=0, n_estimators=100;, score=0.574 total time=   0.0s\n"
     ]
    },
    {
     "name": "stderr",
     "output_type": "stream",
     "text": [
      "C:\\Users\\mihai\\anaconda3\\Lib\\site-packages\\xgboost\\core.py:160: UserWarning: [23:16:41] WARNING: C:\\buildkite-agent\\builds\\buildkite-windows-cpu-autoscaling-group-i-0b3782d1791676daf-1\\xgboost\\xgboost-ci-windows\\src\\learner.cc:742: \n",
      "Parameters: { \"max_leaves\" } are not used.\n",
      "\n",
      "  warnings.warn(smsg, UserWarning)\n",
      "C:\\Users\\mihai\\anaconda3\\Lib\\site-packages\\xgboost\\core.py:160: UserWarning: [23:16:41] WARNING: C:\\buildkite-agent\\builds\\buildkite-windows-cpu-autoscaling-group-i-0b3782d1791676daf-1\\xgboost\\xgboost-ci-windows\\src\\learner.cc:742: \n",
      "Parameters: { \"max_leaves\" } are not used.\n",
      "\n",
      "  warnings.warn(smsg, UserWarning)\n"
     ]
    },
    {
     "name": "stdout",
     "output_type": "stream",
     "text": [
      "[CV 2/5] END booster=gblinear, learning_rate=0.2, max_leaves=0, n_estimators=100;, score=0.623 total time=   0.0s\n",
      "[CV 3/5] END booster=gblinear, learning_rate=0.2, max_leaves=0, n_estimators=100;, score=0.661 total time=   0.0s\n"
     ]
    },
    {
     "name": "stderr",
     "output_type": "stream",
     "text": [
      "C:\\Users\\mihai\\anaconda3\\Lib\\site-packages\\xgboost\\core.py:160: UserWarning: [23:16:42] WARNING: C:\\buildkite-agent\\builds\\buildkite-windows-cpu-autoscaling-group-i-0b3782d1791676daf-1\\xgboost\\xgboost-ci-windows\\src\\learner.cc:742: \n",
      "Parameters: { \"max_leaves\" } are not used.\n",
      "\n",
      "  warnings.warn(smsg, UserWarning)\n",
      "C:\\Users\\mihai\\anaconda3\\Lib\\site-packages\\xgboost\\core.py:160: UserWarning: [23:16:42] WARNING: C:\\buildkite-agent\\builds\\buildkite-windows-cpu-autoscaling-group-i-0b3782d1791676daf-1\\xgboost\\xgboost-ci-windows\\src\\learner.cc:742: \n",
      "Parameters: { \"max_leaves\" } are not used.\n",
      "\n",
      "  warnings.warn(smsg, UserWarning)\n"
     ]
    },
    {
     "name": "stdout",
     "output_type": "stream",
     "text": [
      "[CV 4/5] END booster=gblinear, learning_rate=0.2, max_leaves=0, n_estimators=100;, score=0.661 total time=   0.0s\n",
      "[CV 5/5] END booster=gblinear, learning_rate=0.2, max_leaves=0, n_estimators=100;, score=0.636 total time=   0.0s\n"
     ]
    },
    {
     "name": "stderr",
     "output_type": "stream",
     "text": [
      "C:\\Users\\mihai\\anaconda3\\Lib\\site-packages\\xgboost\\core.py:160: UserWarning: [23:16:42] WARNING: C:\\buildkite-agent\\builds\\buildkite-windows-cpu-autoscaling-group-i-0b3782d1791676daf-1\\xgboost\\xgboost-ci-windows\\src\\learner.cc:742: \n",
      "Parameters: { \"max_leaves\" } are not used.\n",
      "\n",
      "  warnings.warn(smsg, UserWarning)\n",
      "C:\\Users\\mihai\\anaconda3\\Lib\\site-packages\\xgboost\\core.py:160: UserWarning: [23:16:42] WARNING: C:\\buildkite-agent\\builds\\buildkite-windows-cpu-autoscaling-group-i-0b3782d1791676daf-1\\xgboost\\xgboost-ci-windows\\src\\learner.cc:742: \n",
      "Parameters: { \"max_leaves\" } are not used.\n",
      "\n",
      "  warnings.warn(smsg, UserWarning)\n"
     ]
    },
    {
     "name": "stdout",
     "output_type": "stream",
     "text": [
      "[CV 1/5] END booster=gblinear, learning_rate=0.2, max_leaves=0, n_estimators=200;, score=0.639 total time=   0.1s\n",
      "[CV 2/5] END booster=gblinear, learning_rate=0.2, max_leaves=0, n_estimators=200;, score=0.721 total time=   0.1s\n"
     ]
    },
    {
     "name": "stderr",
     "output_type": "stream",
     "text": [
      "C:\\Users\\mihai\\anaconda3\\Lib\\site-packages\\xgboost\\core.py:160: UserWarning: [23:16:42] WARNING: C:\\buildkite-agent\\builds\\buildkite-windows-cpu-autoscaling-group-i-0b3782d1791676daf-1\\xgboost\\xgboost-ci-windows\\src\\learner.cc:742: \n",
      "Parameters: { \"max_leaves\" } are not used.\n",
      "\n",
      "  warnings.warn(smsg, UserWarning)\n",
      "C:\\Users\\mihai\\anaconda3\\Lib\\site-packages\\xgboost\\core.py:160: UserWarning: [23:16:42] WARNING: C:\\buildkite-agent\\builds\\buildkite-windows-cpu-autoscaling-group-i-0b3782d1791676daf-1\\xgboost\\xgboost-ci-windows\\src\\learner.cc:742: \n",
      "Parameters: { \"max_leaves\" } are not used.\n",
      "\n",
      "  warnings.warn(smsg, UserWarning)\n"
     ]
    },
    {
     "name": "stdout",
     "output_type": "stream",
     "text": [
      "[CV 3/5] END booster=gblinear, learning_rate=0.2, max_leaves=0, n_estimators=200;, score=0.769 total time=   0.1s\n",
      "[CV 4/5] END booster=gblinear, learning_rate=0.2, max_leaves=0, n_estimators=200;, score=0.736 total time=   0.1s\n"
     ]
    },
    {
     "name": "stderr",
     "output_type": "stream",
     "text": [
      "C:\\Users\\mihai\\anaconda3\\Lib\\site-packages\\xgboost\\core.py:160: UserWarning: [23:16:42] WARNING: C:\\buildkite-agent\\builds\\buildkite-windows-cpu-autoscaling-group-i-0b3782d1791676daf-1\\xgboost\\xgboost-ci-windows\\src\\learner.cc:742: \n",
      "Parameters: { \"max_leaves\" } are not used.\n",
      "\n",
      "  warnings.warn(smsg, UserWarning)\n",
      "C:\\Users\\mihai\\anaconda3\\Lib\\site-packages\\xgboost\\core.py:160: UserWarning: [23:16:43] WARNING: C:\\buildkite-agent\\builds\\buildkite-windows-cpu-autoscaling-group-i-0b3782d1791676daf-1\\xgboost\\xgboost-ci-windows\\src\\learner.cc:742: \n",
      "Parameters: { \"max_leaves\" } are not used.\n",
      "\n",
      "  warnings.warn(smsg, UserWarning)\n",
      "C:\\Users\\mihai\\anaconda3\\Lib\\site-packages\\xgboost\\core.py:160: UserWarning: [23:16:43] WARNING: C:\\buildkite-agent\\builds\\buildkite-windows-cpu-autoscaling-group-i-0b3782d1791676daf-1\\xgboost\\xgboost-ci-windows\\src\\learner.cc:742: \n",
      "Parameters: { \"max_leaves\" } are not used.\n",
      "\n",
      "  warnings.warn(smsg, UserWarning)\n"
     ]
    },
    {
     "name": "stdout",
     "output_type": "stream",
     "text": [
      "[CV 5/5] END booster=gblinear, learning_rate=0.2, max_leaves=0, n_estimators=200;, score=0.686 total time=   0.1s\n",
      "[CV 1/5] END booster=gblinear, learning_rate=0.2, max_leaves=0, n_estimators=300;, score=0.656 total time=   0.2s\n"
     ]
    },
    {
     "name": "stderr",
     "output_type": "stream",
     "text": [
      "C:\\Users\\mihai\\anaconda3\\Lib\\site-packages\\xgboost\\core.py:160: UserWarning: [23:16:43] WARNING: C:\\buildkite-agent\\builds\\buildkite-windows-cpu-autoscaling-group-i-0b3782d1791676daf-1\\xgboost\\xgboost-ci-windows\\src\\learner.cc:742: \n",
      "Parameters: { \"max_leaves\" } are not used.\n",
      "\n",
      "  warnings.warn(smsg, UserWarning)\n"
     ]
    },
    {
     "name": "stdout",
     "output_type": "stream",
     "text": [
      "[CV 2/5] END booster=gblinear, learning_rate=0.2, max_leaves=0, n_estimators=300;, score=0.705 total time=   0.2s\n"
     ]
    },
    {
     "name": "stderr",
     "output_type": "stream",
     "text": [
      "C:\\Users\\mihai\\anaconda3\\Lib\\site-packages\\xgboost\\core.py:160: UserWarning: [23:16:43] WARNING: C:\\buildkite-agent\\builds\\buildkite-windows-cpu-autoscaling-group-i-0b3782d1791676daf-1\\xgboost\\xgboost-ci-windows\\src\\learner.cc:742: \n",
      "Parameters: { \"max_leaves\" } are not used.\n",
      "\n",
      "  warnings.warn(smsg, UserWarning)\n"
     ]
    },
    {
     "name": "stdout",
     "output_type": "stream",
     "text": [
      "[CV 3/5] END booster=gblinear, learning_rate=0.2, max_leaves=0, n_estimators=300;, score=0.785 total time=   0.2s\n"
     ]
    },
    {
     "name": "stderr",
     "output_type": "stream",
     "text": [
      "C:\\Users\\mihai\\anaconda3\\Lib\\site-packages\\xgboost\\core.py:160: UserWarning: [23:16:44] WARNING: C:\\buildkite-agent\\builds\\buildkite-windows-cpu-autoscaling-group-i-0b3782d1791676daf-1\\xgboost\\xgboost-ci-windows\\src\\learner.cc:742: \n",
      "Parameters: { \"max_leaves\" } are not used.\n",
      "\n",
      "  warnings.warn(smsg, UserWarning)\n"
     ]
    },
    {
     "name": "stdout",
     "output_type": "stream",
     "text": [
      "[CV 4/5] END booster=gblinear, learning_rate=0.2, max_leaves=0, n_estimators=300;, score=0.777 total time=   0.2s\n"
     ]
    },
    {
     "name": "stderr",
     "output_type": "stream",
     "text": [
      "C:\\Users\\mihai\\anaconda3\\Lib\\site-packages\\xgboost\\core.py:160: UserWarning: [23:16:44] WARNING: C:\\buildkite-agent\\builds\\buildkite-windows-cpu-autoscaling-group-i-0b3782d1791676daf-1\\xgboost\\xgboost-ci-windows\\src\\learner.cc:742: \n",
      "Parameters: { \"max_leaves\" } are not used.\n",
      "\n",
      "  warnings.warn(smsg, UserWarning)\n"
     ]
    },
    {
     "name": "stdout",
     "output_type": "stream",
     "text": [
      "[CV 5/5] END booster=gblinear, learning_rate=0.2, max_leaves=0, n_estimators=300;, score=0.752 total time=   0.2s\n",
      "[CV 1/5] END booster=gblinear, learning_rate=0.2, max_leaves=5, n_estimators=100;, score=0.574 total time=   0.0s\n",
      "[CV 2/5] END booster=gblinear, learning_rate=0.2, max_leaves=5, n_estimators=100;, score=0.623 total time=   0.0s\n"
     ]
    },
    {
     "name": "stderr",
     "output_type": "stream",
     "text": [
      "C:\\Users\\mihai\\anaconda3\\Lib\\site-packages\\xgboost\\core.py:160: UserWarning: [23:16:44] WARNING: C:\\buildkite-agent\\builds\\buildkite-windows-cpu-autoscaling-group-i-0b3782d1791676daf-1\\xgboost\\xgboost-ci-windows\\src\\learner.cc:742: \n",
      "Parameters: { \"max_leaves\" } are not used.\n",
      "\n",
      "  warnings.warn(smsg, UserWarning)\n",
      "C:\\Users\\mihai\\anaconda3\\Lib\\site-packages\\xgboost\\core.py:160: UserWarning: [23:16:44] WARNING: C:\\buildkite-agent\\builds\\buildkite-windows-cpu-autoscaling-group-i-0b3782d1791676daf-1\\xgboost\\xgboost-ci-windows\\src\\learner.cc:742: \n",
      "Parameters: { \"max_leaves\" } are not used.\n",
      "\n",
      "  warnings.warn(smsg, UserWarning)\n",
      "C:\\Users\\mihai\\anaconda3\\Lib\\site-packages\\xgboost\\core.py:160: UserWarning: [23:16:44] WARNING: C:\\buildkite-agent\\builds\\buildkite-windows-cpu-autoscaling-group-i-0b3782d1791676daf-1\\xgboost\\xgboost-ci-windows\\src\\learner.cc:742: \n",
      "Parameters: { \"max_leaves\" } are not used.\n",
      "\n",
      "  warnings.warn(smsg, UserWarning)\n",
      "C:\\Users\\mihai\\anaconda3\\Lib\\site-packages\\xgboost\\core.py:160: UserWarning: [23:16:44] WARNING: C:\\buildkite-agent\\builds\\buildkite-windows-cpu-autoscaling-group-i-0b3782d1791676daf-1\\xgboost\\xgboost-ci-windows\\src\\learner.cc:742: \n",
      "Parameters: { \"max_leaves\" } are not used.\n",
      "\n",
      "  warnings.warn(smsg, UserWarning)\n"
     ]
    },
    {
     "name": "stdout",
     "output_type": "stream",
     "text": [
      "[CV 3/5] END booster=gblinear, learning_rate=0.2, max_leaves=5, n_estimators=100;, score=0.661 total time=   0.0s\n",
      "[CV 4/5] END booster=gblinear, learning_rate=0.2, max_leaves=5, n_estimators=100;, score=0.661 total time=   0.0s\n"
     ]
    },
    {
     "name": "stderr",
     "output_type": "stream",
     "text": [
      "C:\\Users\\mihai\\anaconda3\\Lib\\site-packages\\xgboost\\core.py:160: UserWarning: [23:16:45] WARNING: C:\\buildkite-agent\\builds\\buildkite-windows-cpu-autoscaling-group-i-0b3782d1791676daf-1\\xgboost\\xgboost-ci-windows\\src\\learner.cc:742: \n",
      "Parameters: { \"max_leaves\" } are not used.\n",
      "\n",
      "  warnings.warn(smsg, UserWarning)\n",
      "C:\\Users\\mihai\\anaconda3\\Lib\\site-packages\\xgboost\\core.py:160: UserWarning: [23:16:45] WARNING: C:\\buildkite-agent\\builds\\buildkite-windows-cpu-autoscaling-group-i-0b3782d1791676daf-1\\xgboost\\xgboost-ci-windows\\src\\learner.cc:742: \n",
      "Parameters: { \"max_leaves\" } are not used.\n",
      "\n",
      "  warnings.warn(smsg, UserWarning)\n"
     ]
    },
    {
     "name": "stdout",
     "output_type": "stream",
     "text": [
      "[CV 5/5] END booster=gblinear, learning_rate=0.2, max_leaves=5, n_estimators=100;, score=0.636 total time=   0.0s\n",
      "[CV 1/5] END booster=gblinear, learning_rate=0.2, max_leaves=5, n_estimators=200;, score=0.639 total time=   0.1s\n"
     ]
    },
    {
     "name": "stderr",
     "output_type": "stream",
     "text": [
      "C:\\Users\\mihai\\anaconda3\\Lib\\site-packages\\xgboost\\core.py:160: UserWarning: [23:16:45] WARNING: C:\\buildkite-agent\\builds\\buildkite-windows-cpu-autoscaling-group-i-0b3782d1791676daf-1\\xgboost\\xgboost-ci-windows\\src\\learner.cc:742: \n",
      "Parameters: { \"max_leaves\" } are not used.\n",
      "\n",
      "  warnings.warn(smsg, UserWarning)\n",
      "C:\\Users\\mihai\\anaconda3\\Lib\\site-packages\\xgboost\\core.py:160: UserWarning: [23:16:45] WARNING: C:\\buildkite-agent\\builds\\buildkite-windows-cpu-autoscaling-group-i-0b3782d1791676daf-1\\xgboost\\xgboost-ci-windows\\src\\learner.cc:742: \n",
      "Parameters: { \"max_leaves\" } are not used.\n",
      "\n",
      "  warnings.warn(smsg, UserWarning)\n"
     ]
    },
    {
     "name": "stdout",
     "output_type": "stream",
     "text": [
      "[CV 2/5] END booster=gblinear, learning_rate=0.2, max_leaves=5, n_estimators=200;, score=0.721 total time=   0.1s\n",
      "[CV 3/5] END booster=gblinear, learning_rate=0.2, max_leaves=5, n_estimators=200;, score=0.769 total time=   0.1s\n"
     ]
    },
    {
     "name": "stderr",
     "output_type": "stream",
     "text": [
      "C:\\Users\\mihai\\anaconda3\\Lib\\site-packages\\xgboost\\core.py:160: UserWarning: [23:16:45] WARNING: C:\\buildkite-agent\\builds\\buildkite-windows-cpu-autoscaling-group-i-0b3782d1791676daf-1\\xgboost\\xgboost-ci-windows\\src\\learner.cc:742: \n",
      "Parameters: { \"max_leaves\" } are not used.\n",
      "\n",
      "  warnings.warn(smsg, UserWarning)\n",
      "C:\\Users\\mihai\\anaconda3\\Lib\\site-packages\\xgboost\\core.py:160: UserWarning: [23:16:45] WARNING: C:\\buildkite-agent\\builds\\buildkite-windows-cpu-autoscaling-group-i-0b3782d1791676daf-1\\xgboost\\xgboost-ci-windows\\src\\learner.cc:742: \n",
      "Parameters: { \"max_leaves\" } are not used.\n",
      "\n",
      "  warnings.warn(smsg, UserWarning)\n"
     ]
    },
    {
     "name": "stdout",
     "output_type": "stream",
     "text": [
      "[CV 4/5] END booster=gblinear, learning_rate=0.2, max_leaves=5, n_estimators=200;, score=0.736 total time=   0.1s\n",
      "[CV 5/5] END booster=gblinear, learning_rate=0.2, max_leaves=5, n_estimators=200;, score=0.686 total time=   0.1s\n"
     ]
    },
    {
     "name": "stderr",
     "output_type": "stream",
     "text": [
      "C:\\Users\\mihai\\anaconda3\\Lib\\site-packages\\xgboost\\core.py:160: UserWarning: [23:16:46] WARNING: C:\\buildkite-agent\\builds\\buildkite-windows-cpu-autoscaling-group-i-0b3782d1791676daf-1\\xgboost\\xgboost-ci-windows\\src\\learner.cc:742: \n",
      "Parameters: { \"max_leaves\" } are not used.\n",
      "\n",
      "  warnings.warn(smsg, UserWarning)\n"
     ]
    },
    {
     "name": "stdout",
     "output_type": "stream",
     "text": [
      "[CV 1/5] END booster=gblinear, learning_rate=0.2, max_leaves=5, n_estimators=300;, score=0.656 total time=   0.2s\n"
     ]
    },
    {
     "name": "stderr",
     "output_type": "stream",
     "text": [
      "C:\\Users\\mihai\\anaconda3\\Lib\\site-packages\\xgboost\\core.py:160: UserWarning: [23:16:46] WARNING: C:\\buildkite-agent\\builds\\buildkite-windows-cpu-autoscaling-group-i-0b3782d1791676daf-1\\xgboost\\xgboost-ci-windows\\src\\learner.cc:742: \n",
      "Parameters: { \"max_leaves\" } are not used.\n",
      "\n",
      "  warnings.warn(smsg, UserWarning)\n"
     ]
    },
    {
     "name": "stdout",
     "output_type": "stream",
     "text": [
      "[CV 2/5] END booster=gblinear, learning_rate=0.2, max_leaves=5, n_estimators=300;, score=0.705 total time=   0.2s\n"
     ]
    },
    {
     "name": "stderr",
     "output_type": "stream",
     "text": [
      "C:\\Users\\mihai\\anaconda3\\Lib\\site-packages\\xgboost\\core.py:160: UserWarning: [23:16:46] WARNING: C:\\buildkite-agent\\builds\\buildkite-windows-cpu-autoscaling-group-i-0b3782d1791676daf-1\\xgboost\\xgboost-ci-windows\\src\\learner.cc:742: \n",
      "Parameters: { \"max_leaves\" } are not used.\n",
      "\n",
      "  warnings.warn(smsg, UserWarning)\n"
     ]
    },
    {
     "name": "stdout",
     "output_type": "stream",
     "text": [
      "[CV 3/5] END booster=gblinear, learning_rate=0.2, max_leaves=5, n_estimators=300;, score=0.785 total time=   0.2s\n"
     ]
    },
    {
     "name": "stderr",
     "output_type": "stream",
     "text": [
      "C:\\Users\\mihai\\anaconda3\\Lib\\site-packages\\xgboost\\core.py:160: UserWarning: [23:16:46] WARNING: C:\\buildkite-agent\\builds\\buildkite-windows-cpu-autoscaling-group-i-0b3782d1791676daf-1\\xgboost\\xgboost-ci-windows\\src\\learner.cc:742: \n",
      "Parameters: { \"max_leaves\" } are not used.\n",
      "\n",
      "  warnings.warn(smsg, UserWarning)\n"
     ]
    },
    {
     "name": "stdout",
     "output_type": "stream",
     "text": [
      "[CV 4/5] END booster=gblinear, learning_rate=0.2, max_leaves=5, n_estimators=300;, score=0.777 total time=   0.2s\n"
     ]
    },
    {
     "name": "stderr",
     "output_type": "stream",
     "text": [
      "C:\\Users\\mihai\\anaconda3\\Lib\\site-packages\\xgboost\\core.py:160: UserWarning: [23:16:47] WARNING: C:\\buildkite-agent\\builds\\buildkite-windows-cpu-autoscaling-group-i-0b3782d1791676daf-1\\xgboost\\xgboost-ci-windows\\src\\learner.cc:742: \n",
      "Parameters: { \"max_leaves\" } are not used.\n",
      "\n",
      "  warnings.warn(smsg, UserWarning)\n"
     ]
    },
    {
     "name": "stdout",
     "output_type": "stream",
     "text": [
      "[CV 5/5] END booster=gblinear, learning_rate=0.2, max_leaves=5, n_estimators=300;, score=0.752 total time=   0.2s\n",
      "\n",
      "Najbolji parametri: {'booster': 'gbtree', 'learning_rate': 0.2, 'max_leaves': 5, 'n_estimators': 300}\n",
      "Tacnost modela sa najboljim parametrima: 0.81579\n",
      "Precision modela sa najboljim parametrima: 0.80926\n",
      "Recall modela sa najboljim parametrima: 0.81579\n",
      "F1 score modela sa najboljim parametrima: 0.81202\n"
     ]
    }
   ],
   "source": [
    "param_grid = {\n",
    "    'n_estimators': [100, 200, 300],\n",
    "    'learning_rate': [0.1, 0.2],\n",
    "    'max_leaves': [0, 5],\n",
    "    'booster': ['gbtree', 'gblinear'],\n",
    "}\n",
    "\n",
    "clf = XGBClassifier(objective=\"multi:softmax\", random_state=42, num_class=5)\n",
    "\n",
    "grid_search = GridSearchCV(clf, param_grid, cv=5, scoring='accuracy', verbose=4)\n",
    "grid_search.fit(X_train, y_train)\n",
    "\n",
    "best_params = grid_search.best_params_\n",
    "\n",
    "best_clf = XGBClassifier(objective=\"multi:softmax\", random_state=42, num_class=5, **best_params)\n",
    "best_clf.fit(X_train, y_train)\n",
    "\n",
    "y_pred_best = best_clf.predict(X_test)\n",
    "accuracy_best = accuracy_score(y_test, y_pred_best)\n",
    "precision_best = precision_score(y_test, y_pred_best, average='weighted')\n",
    "recall_best = recall_score(y_test, y_pred_best, average='weighted')\n",
    "f1_best = f1_score(y_test, y_pred_best, average='weighted')\n",
    "\n",
    "classification_rep = classification_report(y_test, y_pred_best)\n",
    "feature_importance_dict = best_clf.get_booster().get_score(importance_type='gain')\n",
    "\n",
    "print(\"\\nNajbolji parametri:\", best_params)\n",
    "print(\"Tacnost modela sa najboljim parametrima:\", round(accuracy_best, 5))\n",
    "print(\"Precision modela sa najboljim parametrima:\", round(precision_best, 5))\n",
    "print(\"Recall modela sa najboljim parametrima:\", round(recall_best, 5))\n",
    "print(\"F1 score modela sa najboljim parametrima:\", round(f1_best, 5))\n",
    "#print(\"\\nIzvestaj o klasifikaciji:\\n\", classification_rep)"
   ]
  },
  {
   "cell_type": "code",
   "execution_count": 26,
   "id": "8b408d21-ffbc-475e-84b9-381b404304d5",
   "metadata": {
    "scrolled": true
   },
   "outputs": [
    {
     "data": {
      "image/png": "[encoded data removed]",
      "text/plain": [
       "<Figure size 1000x1500 with 1 Axes>"
      ]
     },
     "metadata": {},
     "output_type": "display_data"
    }
   ],
   "source": [
    "feature_names = X_train.columns\n",
    "plt.figure(figsize=(10, 15))\n",
    "\n",
    "plt.barh(range(len(feature_names)), feature_importance_dict.values(), align='center')\n",
    "plt.yticks(range(len(feature_names)), feature_importance_dict.keys())\n",
    "plt.xlabel('Feature Importance')\n",
    "plt.title('XGBoost Feature Importance')\n",
    "\n",
    "plt.show()"
   ]
  },
  {
   "cell_type": "markdown",
   "id": "55c37a27-556a-4c90-a024-17c457c97042",
   "metadata": {},
   "source": [
    "**Model treniran nad podacima na kojima je primenjena SMOTE tehnika**"
   ]
  },
  {
   "cell_type": "code",
   "execution_count": 27,
   "id": "de1c1b7e-9678-4f2f-a49a-768520993358",
   "metadata": {},
   "outputs": [
    {
     "name": "stdout",
     "output_type": "stream",
     "text": [
      "Fitting 5 folds for each of 24 candidates, totalling 120 fits\n",
      "[CV 1/5] END booster=gbtree, learning_rate=0.1, max_leaves=0, n_estimators=100;, score=0.911 total time=   1.0s\n",
      "[CV 2/5] END booster=gbtree, learning_rate=0.1, max_leaves=0, n_estimators=100;, score=0.929 total time=   1.2s\n",
      "[CV 3/5] END booster=gbtree, learning_rate=0.1, max_leaves=0, n_estimators=100;, score=0.959 total time=   1.2s\n",
      "[CV 4/5] END booster=gbtree, learning_rate=0.1, max_leaves=0, n_estimators=100;, score=0.941 total time=   1.1s\n",
      "[CV 5/5] END booster=gbtree, learning_rate=0.1, max_leaves=0, n_estimators=100;, score=0.959 total time=   1.1s\n",
      "[CV 1/5] END booster=gbtree, learning_rate=0.1, max_leaves=0, n_estimators=200;, score=0.914 total time=   1.7s\n",
      "[CV 2/5] END booster=gbtree, learning_rate=0.1, max_leaves=0, n_estimators=200;, score=0.938 total time=   1.8s\n",
      "[CV 3/5] END booster=gbtree, learning_rate=0.1, max_leaves=0, n_estimators=200;, score=0.953 total time=   1.8s\n",
      "[CV 4/5] END booster=gbtree, learning_rate=0.1, max_leaves=0, n_estimators=200;, score=0.947 total time=   1.9s\n",
      "[CV 5/5] END booster=gbtree, learning_rate=0.1, max_leaves=0, n_estimators=200;, score=0.962 total time=   1.9s\n",
      "[CV 1/5] END booster=gbtree, learning_rate=0.1, max_leaves=0, n_estimators=300;, score=0.917 total time=   2.3s\n",
      "[CV 2/5] END booster=gbtree, learning_rate=0.1, max_leaves=0, n_estimators=300;, score=0.929 total time=   2.5s\n",
      "[CV 3/5] END booster=gbtree, learning_rate=0.1, max_leaves=0, n_estimators=300;, score=0.953 total time=   2.4s\n",
      "[CV 4/5] END booster=gbtree, learning_rate=0.1, max_leaves=0, n_estimators=300;, score=0.947 total time=   2.6s\n",
      "[CV 5/5] END booster=gbtree, learning_rate=0.1, max_leaves=0, n_estimators=300;, score=0.962 total time=   2.4s\n",
      "[CV 1/5] END booster=gbtree, learning_rate=0.1, max_leaves=5, n_estimators=100;, score=0.882 total time=   0.5s\n",
      "[CV 2/5] END booster=gbtree, learning_rate=0.1, max_leaves=5, n_estimators=100;, score=0.911 total time=   0.5s\n",
      "[CV 3/5] END booster=gbtree, learning_rate=0.1, max_leaves=5, n_estimators=100;, score=0.938 total time=   0.5s\n",
      "[CV 4/5] END booster=gbtree, learning_rate=0.1, max_leaves=5, n_estimators=100;, score=0.914 total time=   0.5s\n",
      "[CV 5/5] END booster=gbtree, learning_rate=0.1, max_leaves=5, n_estimators=100;, score=0.914 total time=   0.5s\n",
      "[CV 1/5] END booster=gbtree, learning_rate=0.1, max_leaves=5, n_estimators=200;, score=0.902 total time=   1.0s\n",
      "[CV 2/5] END booster=gbtree, learning_rate=0.1, max_leaves=5, n_estimators=200;, score=0.929 total time=   1.0s\n",
      "[CV 3/5] END booster=gbtree, learning_rate=0.1, max_leaves=5, n_estimators=200;, score=0.947 total time=   1.0s\n",
      "[CV 4/5] END booster=gbtree, learning_rate=0.1, max_leaves=5, n_estimators=200;, score=0.938 total time=   1.0s\n",
      "[CV 5/5] END booster=gbtree, learning_rate=0.1, max_leaves=5, n_estimators=200;, score=0.941 total time=   1.0s\n",
      "[CV 1/5] END booster=gbtree, learning_rate=0.1, max_leaves=5, n_estimators=300;, score=0.914 total time=   1.6s\n",
      "[CV 2/5] END booster=gbtree, learning_rate=0.1, max_leaves=5, n_estimators=300;, score=0.935 total time=   1.7s\n",
      "[CV 3/5] END booster=gbtree, learning_rate=0.1, max_leaves=5, n_estimators=300;, score=0.956 total time=   1.7s\n",
      "[CV 4/5] END booster=gbtree, learning_rate=0.1, max_leaves=5, n_estimators=300;, score=0.944 total time=   1.6s\n",
      "[CV 5/5] END booster=gbtree, learning_rate=0.1, max_leaves=5, n_estimators=300;, score=0.947 total time=   1.7s\n",
      "[CV 1/5] END booster=gbtree, learning_rate=0.2, max_leaves=0, n_estimators=100;, score=0.917 total time=   0.9s\n",
      "[CV 2/5] END booster=gbtree, learning_rate=0.2, max_leaves=0, n_estimators=100;, score=0.932 total time=   1.1s\n",
      "[CV 3/5] END booster=gbtree, learning_rate=0.2, max_leaves=0, n_estimators=100;, score=0.956 total time=   1.0s\n",
      "[CV 4/5] END booster=gbtree, learning_rate=0.2, max_leaves=0, n_estimators=100;, score=0.944 total time=   1.0s\n",
      "[CV 5/5] END booster=gbtree, learning_rate=0.2, max_leaves=0, n_estimators=100;, score=0.967 total time=   1.0s\n",
      "[CV 1/5] END booster=gbtree, learning_rate=0.2, max_leaves=0, n_estimators=200;, score=0.911 total time=   1.6s\n",
      "[CV 2/5] END booster=gbtree, learning_rate=0.2, max_leaves=0, n_estimators=200;, score=0.941 total time=   1.8s\n",
      "[CV 3/5] END booster=gbtree, learning_rate=0.2, max_leaves=0, n_estimators=200;, score=0.962 total time=   1.6s\n",
      "[CV 4/5] END booster=gbtree, learning_rate=0.2, max_leaves=0, n_estimators=200;, score=0.950 total time=   1.6s\n",
      "[CV 5/5] END booster=gbtree, learning_rate=0.2, max_leaves=0, n_estimators=200;, score=0.967 total time=   1.6s\n",
      "[CV 1/5] END booster=gbtree, learning_rate=0.2, max_leaves=0, n_estimators=300;, score=0.914 total time=   1.9s\n",
      "[CV 2/5] END booster=gbtree, learning_rate=0.2, max_leaves=0, n_estimators=300;, score=0.935 total time=   2.2s\n",
      "[CV 3/5] END booster=gbtree, learning_rate=0.2, max_leaves=0, n_estimators=300;, score=0.959 total time=   2.5s\n",
      "[CV 4/5] END booster=gbtree, learning_rate=0.2, max_leaves=0, n_estimators=300;, score=0.950 total time=   2.2s\n",
      "[CV 5/5] END booster=gbtree, learning_rate=0.2, max_leaves=0, n_estimators=300;, score=0.964 total time=   2.0s\n",
      "[CV 1/5] END booster=gbtree, learning_rate=0.2, max_leaves=5, n_estimators=100;, score=0.908 total time=   0.7s\n",
      "[CV 2/5] END booster=gbtree, learning_rate=0.2, max_leaves=5, n_estimators=100;, score=0.926 total time=   0.5s\n",
      "[CV 3/5] END booster=gbtree, learning_rate=0.2, max_leaves=5, n_estimators=100;, score=0.956 total time=   0.5s\n",
      "[CV 4/5] END booster=gbtree, learning_rate=0.2, max_leaves=5, n_estimators=100;, score=0.929 total time=   0.5s\n",
      "[CV 5/5] END booster=gbtree, learning_rate=0.2, max_leaves=5, n_estimators=100;, score=0.950 total time=   0.5s\n",
      "[CV 1/5] END booster=gbtree, learning_rate=0.2, max_leaves=5, n_estimators=200;, score=0.905 total time=   1.1s\n",
      "[CV 2/5] END booster=gbtree, learning_rate=0.2, max_leaves=5, n_estimators=200;, score=0.938 total time=   1.1s\n",
      "[CV 3/5] END booster=gbtree, learning_rate=0.2, max_leaves=5, n_estimators=200;, score=0.959 total time=   1.1s\n",
      "[CV 4/5] END booster=gbtree, learning_rate=0.2, max_leaves=5, n_estimators=200;, score=0.938 total time=   1.1s\n",
      "[CV 5/5] END booster=gbtree, learning_rate=0.2, max_leaves=5, n_estimators=200;, score=0.953 total time=   1.1s\n",
      "[CV 1/5] END booster=gbtree, learning_rate=0.2, max_leaves=5, n_estimators=300;, score=0.905 total time=   1.6s\n",
      "[CV 2/5] END booster=gbtree, learning_rate=0.2, max_leaves=5, n_estimators=300;, score=0.938 total time=   1.7s\n",
      "[CV 3/5] END booster=gbtree, learning_rate=0.2, max_leaves=5, n_estimators=300;, score=0.956 total time=   1.8s\n",
      "[CV 4/5] END booster=gbtree, learning_rate=0.2, max_leaves=5, n_estimators=300;, score=0.935 total time=   2.0s\n",
      "[CV 5/5] END booster=gbtree, learning_rate=0.2, max_leaves=5, n_estimators=300;, score=0.956 total time=   2.0s\n",
      "[CV 1/5] END booster=gblinear, learning_rate=0.1, max_leaves=0, n_estimators=100;, score=0.515 total time=   0.1s\n"
     ]
    },
    {
     "name": "stderr",
     "output_type": "stream",
     "text": [
      "C:\\Users\\mihai\\anaconda3\\Lib\\site-packages\\xgboost\\core.py:160: UserWarning: [23:19:09] WARNING: C:\\buildkite-agent\\builds\\buildkite-windows-cpu-autoscaling-group-i-0b3782d1791676daf-1\\xgboost\\xgboost-ci-windows\\src\\learner.cc:742: \n",
      "Parameters: { \"max_leaves\" } are not used.\n",
      "\n",
      "  warnings.warn(smsg, UserWarning)\n",
      "C:\\Users\\mihai\\anaconda3\\Lib\\site-packages\\xgboost\\core.py:160: UserWarning: [23:19:09] WARNING: C:\\buildkite-agent\\builds\\buildkite-windows-cpu-autoscaling-group-i-0b3782d1791676daf-1\\xgboost\\xgboost-ci-windows\\src\\learner.cc:742: \n",
      "Parameters: { \"max_leaves\" } are not used.\n",
      "\n",
      "  warnings.warn(smsg, UserWarning)\n"
     ]
    },
    {
     "name": "stdout",
     "output_type": "stream",
     "text": [
      "[CV 2/5] END booster=gblinear, learning_rate=0.1, max_leaves=0, n_estimators=100;, score=0.524 total time=   0.1s\n",
      "[CV 3/5] END booster=gblinear, learning_rate=0.1, max_leaves=0, n_estimators=100;, score=0.524 total time=   0.1s\n"
     ]
    },
    {
     "name": "stderr",
     "output_type": "stream",
     "text": [
      "C:\\Users\\mihai\\anaconda3\\Lib\\site-packages\\xgboost\\core.py:160: UserWarning: [23:19:09] WARNING: C:\\buildkite-agent\\builds\\buildkite-windows-cpu-autoscaling-group-i-0b3782d1791676daf-1\\xgboost\\xgboost-ci-windows\\src\\learner.cc:742: \n",
      "Parameters: { \"max_leaves\" } are not used.\n",
      "\n",
      "  warnings.warn(smsg, UserWarning)\n",
      "C:\\Users\\mihai\\anaconda3\\Lib\\site-packages\\xgboost\\core.py:160: UserWarning: [23:19:09] WARNING: C:\\buildkite-agent\\builds\\buildkite-windows-cpu-autoscaling-group-i-0b3782d1791676daf-1\\xgboost\\xgboost-ci-windows\\src\\learner.cc:742: \n",
      "Parameters: { \"max_leaves\" } are not used.\n",
      "\n",
      "  warnings.warn(smsg, UserWarning)\n"
     ]
    },
    {
     "name": "stdout",
     "output_type": "stream",
     "text": [
      "[CV 4/5] END booster=gblinear, learning_rate=0.1, max_leaves=0, n_estimators=100;, score=0.556 total time=   0.1s\n",
      "[CV 5/5] END booster=gblinear, learning_rate=0.1, max_leaves=0, n_estimators=100;, score=0.538 total time=   0.1s\n"
     ]
    },
    {
     "name": "stderr",
     "output_type": "stream",
     "text": [
      "C:\\Users\\mihai\\anaconda3\\Lib\\site-packages\\xgboost\\core.py:160: UserWarning: [23:19:09] WARNING: C:\\buildkite-agent\\builds\\buildkite-windows-cpu-autoscaling-group-i-0b3782d1791676daf-1\\xgboost\\xgboost-ci-windows\\src\\learner.cc:742: \n",
      "Parameters: { \"max_leaves\" } are not used.\n",
      "\n",
      "  warnings.warn(smsg, UserWarning)\n",
      "C:\\Users\\mihai\\anaconda3\\Lib\\site-packages\\xgboost\\core.py:160: UserWarning: [23:19:10] WARNING: C:\\buildkite-agent\\builds\\buildkite-windows-cpu-autoscaling-group-i-0b3782d1791676daf-1\\xgboost\\xgboost-ci-windows\\src\\learner.cc:742: \n",
      "Parameters: { \"max_leaves\" } are not used.\n",
      "\n",
      "  warnings.warn(smsg, UserWarning)\n"
     ]
    },
    {
     "name": "stdout",
     "output_type": "stream",
     "text": [
      "[CV 1/5] END booster=gblinear, learning_rate=0.1, max_leaves=0, n_estimators=200;, score=0.541 total time=   0.2s\n"
     ]
    },
    {
     "name": "stderr",
     "output_type": "stream",
     "text": [
      "C:\\Users\\mihai\\anaconda3\\Lib\\site-packages\\xgboost\\core.py:160: UserWarning: [23:19:10] WARNING: C:\\buildkite-agent\\builds\\buildkite-windows-cpu-autoscaling-group-i-0b3782d1791676daf-1\\xgboost\\xgboost-ci-windows\\src\\learner.cc:742: \n",
      "Parameters: { \"max_leaves\" } are not used.\n",
      "\n",
      "  warnings.warn(smsg, UserWarning)\n"
     ]
    },
    {
     "name": "stdout",
     "output_type": "stream",
     "text": [
      "[CV 2/5] END booster=gblinear, learning_rate=0.1, max_leaves=0, n_estimators=200;, score=0.553 total time=   0.2s\n"
     ]
    },
    {
     "name": "stderr",
     "output_type": "stream",
     "text": [
      "C:\\Users\\mihai\\anaconda3\\Lib\\site-packages\\xgboost\\core.py:160: UserWarning: [23:19:10] WARNING: C:\\buildkite-agent\\builds\\buildkite-windows-cpu-autoscaling-group-i-0b3782d1791676daf-1\\xgboost\\xgboost-ci-windows\\src\\learner.cc:742: \n",
      "Parameters: { \"max_leaves\" } are not used.\n",
      "\n",
      "  warnings.warn(smsg, UserWarning)\n"
     ]
    },
    {
     "name": "stdout",
     "output_type": "stream",
     "text": [
      "[CV 3/5] END booster=gblinear, learning_rate=0.1, max_leaves=0, n_estimators=200;, score=0.541 total time=   0.2s\n"
     ]
    },
    {
     "name": "stderr",
     "output_type": "stream",
     "text": [
      "C:\\Users\\mihai\\anaconda3\\Lib\\site-packages\\xgboost\\core.py:160: UserWarning: [23:19:11] WARNING: C:\\buildkite-agent\\builds\\buildkite-windows-cpu-autoscaling-group-i-0b3782d1791676daf-1\\xgboost\\xgboost-ci-windows\\src\\learner.cc:742: \n",
      "Parameters: { \"max_leaves\" } are not used.\n",
      "\n",
      "  warnings.warn(smsg, UserWarning)\n"
     ]
    },
    {
     "name": "stdout",
     "output_type": "stream",
     "text": [
      "[CV 4/5] END booster=gblinear, learning_rate=0.1, max_leaves=0, n_estimators=200;, score=0.592 total time=   0.2s\n"
     ]
    },
    {
     "name": "stderr",
     "output_type": "stream",
     "text": [
      "C:\\Users\\mihai\\anaconda3\\Lib\\site-packages\\xgboost\\core.py:160: UserWarning: [23:19:11] WARNING: C:\\buildkite-agent\\builds\\buildkite-windows-cpu-autoscaling-group-i-0b3782d1791676daf-1\\xgboost\\xgboost-ci-windows\\src\\learner.cc:742: \n",
      "Parameters: { \"max_leaves\" } are not used.\n",
      "\n",
      "  warnings.warn(smsg, UserWarning)\n"
     ]
    },
    {
     "name": "stdout",
     "output_type": "stream",
     "text": [
      "[CV 5/5] END booster=gblinear, learning_rate=0.1, max_leaves=0, n_estimators=200;, score=0.577 total time=   0.2s\n"
     ]
    },
    {
     "name": "stderr",
     "output_type": "stream",
     "text": [
      "C:\\Users\\mihai\\anaconda3\\Lib\\site-packages\\xgboost\\core.py:160: UserWarning: [23:19:11] WARNING: C:\\buildkite-agent\\builds\\buildkite-windows-cpu-autoscaling-group-i-0b3782d1791676daf-1\\xgboost\\xgboost-ci-windows\\src\\learner.cc:742: \n",
      "Parameters: { \"max_leaves\" } are not used.\n",
      "\n",
      "  warnings.warn(smsg, UserWarning)\n"
     ]
    },
    {
     "name": "stdout",
     "output_type": "stream",
     "text": [
      "[CV 1/5] END booster=gblinear, learning_rate=0.1, max_leaves=0, n_estimators=300;, score=0.562 total time=   0.4s\n"
     ]
    },
    {
     "name": "stderr",
     "output_type": "stream",
     "text": [
      "C:\\Users\\mihai\\anaconda3\\Lib\\site-packages\\xgboost\\core.py:160: UserWarning: [23:19:12] WARNING: C:\\buildkite-agent\\builds\\buildkite-windows-cpu-autoscaling-group-i-0b3782d1791676daf-1\\xgboost\\xgboost-ci-windows\\src\\learner.cc:742: \n",
      "Parameters: { \"max_leaves\" } are not used.\n",
      "\n",
      "  warnings.warn(smsg, UserWarning)\n"
     ]
    },
    {
     "name": "stdout",
     "output_type": "stream",
     "text": [
      "[CV 2/5] END booster=gblinear, learning_rate=0.1, max_leaves=0, n_estimators=300;, score=0.562 total time=   0.4s\n"
     ]
    },
    {
     "name": "stderr",
     "output_type": "stream",
     "text": [
      "C:\\Users\\mihai\\anaconda3\\Lib\\site-packages\\xgboost\\core.py:160: UserWarning: [23:19:12] WARNING: C:\\buildkite-agent\\builds\\buildkite-windows-cpu-autoscaling-group-i-0b3782d1791676daf-1\\xgboost\\xgboost-ci-windows\\src\\learner.cc:742: \n",
      "Parameters: { \"max_leaves\" } are not used.\n",
      "\n",
      "  warnings.warn(smsg, UserWarning)\n"
     ]
    },
    {
     "name": "stdout",
     "output_type": "stream",
     "text": [
      "[CV 3/5] END booster=gblinear, learning_rate=0.1, max_leaves=0, n_estimators=300;, score=0.559 total time=   0.4s\n"
     ]
    },
    {
     "name": "stderr",
     "output_type": "stream",
     "text": [
      "C:\\Users\\mihai\\anaconda3\\Lib\\site-packages\\xgboost\\core.py:160: UserWarning: [23:19:13] WARNING: C:\\buildkite-agent\\builds\\buildkite-windows-cpu-autoscaling-group-i-0b3782d1791676daf-1\\xgboost\\xgboost-ci-windows\\src\\learner.cc:742: \n",
      "Parameters: { \"max_leaves\" } are not used.\n",
      "\n",
      "  warnings.warn(smsg, UserWarning)\n"
     ]
    },
    {
     "name": "stdout",
     "output_type": "stream",
     "text": [
      "[CV 4/5] END booster=gblinear, learning_rate=0.1, max_leaves=0, n_estimators=300;, score=0.624 total time=   0.4s\n"
     ]
    },
    {
     "name": "stderr",
     "output_type": "stream",
     "text": [
      "C:\\Users\\mihai\\anaconda3\\Lib\\site-packages\\xgboost\\core.py:160: UserWarning: [23:19:13] WARNING: C:\\buildkite-agent\\builds\\buildkite-windows-cpu-autoscaling-group-i-0b3782d1791676daf-1\\xgboost\\xgboost-ci-windows\\src\\learner.cc:742: \n",
      "Parameters: { \"max_leaves\" } are not used.\n",
      "\n",
      "  warnings.warn(smsg, UserWarning)\n"
     ]
    },
    {
     "name": "stdout",
     "output_type": "stream",
     "text": [
      "[CV 5/5] END booster=gblinear, learning_rate=0.1, max_leaves=0, n_estimators=300;, score=0.592 total time=   0.4s\n",
      "[CV 1/5] END booster=gblinear, learning_rate=0.1, max_leaves=5, n_estimators=100;, score=0.515 total time=   0.1s\n"
     ]
    },
    {
     "name": "stderr",
     "output_type": "stream",
     "text": [
      "C:\\Users\\mihai\\anaconda3\\Lib\\site-packages\\xgboost\\core.py:160: UserWarning: [23:19:14] WARNING: C:\\buildkite-agent\\builds\\buildkite-windows-cpu-autoscaling-group-i-0b3782d1791676daf-1\\xgboost\\xgboost-ci-windows\\src\\learner.cc:742: \n",
      "Parameters: { \"max_leaves\" } are not used.\n",
      "\n",
      "  warnings.warn(smsg, UserWarning)\n",
      "C:\\Users\\mihai\\anaconda3\\Lib\\site-packages\\xgboost\\core.py:160: UserWarning: [23:19:14] WARNING: C:\\buildkite-agent\\builds\\buildkite-windows-cpu-autoscaling-group-i-0b3782d1791676daf-1\\xgboost\\xgboost-ci-windows\\src\\learner.cc:742: \n",
      "Parameters: { \"max_leaves\" } are not used.\n",
      "\n",
      "  warnings.warn(smsg, UserWarning)\n"
     ]
    },
    {
     "name": "stdout",
     "output_type": "stream",
     "text": [
      "[CV 2/5] END booster=gblinear, learning_rate=0.1, max_leaves=5, n_estimators=100;, score=0.518 total time=   0.1s\n",
      "[CV 3/5] END booster=gblinear, learning_rate=0.1, max_leaves=5, n_estimators=100;, score=0.518 total time=   0.1s\n"
     ]
    },
    {
     "name": "stderr",
     "output_type": "stream",
     "text": [
      "C:\\Users\\mihai\\anaconda3\\Lib\\site-packages\\xgboost\\core.py:160: UserWarning: [23:19:14] WARNING: C:\\buildkite-agent\\builds\\buildkite-windows-cpu-autoscaling-group-i-0b3782d1791676daf-1\\xgboost\\xgboost-ci-windows\\src\\learner.cc:742: \n",
      "Parameters: { \"max_leaves\" } are not used.\n",
      "\n",
      "  warnings.warn(smsg, UserWarning)\n",
      "C:\\Users\\mihai\\anaconda3\\Lib\\site-packages\\xgboost\\core.py:160: UserWarning: [23:19:14] WARNING: C:\\buildkite-agent\\builds\\buildkite-windows-cpu-autoscaling-group-i-0b3782d1791676daf-1\\xgboost\\xgboost-ci-windows\\src\\learner.cc:742: \n",
      "Parameters: { \"max_leaves\" } are not used.\n",
      "\n",
      "  warnings.warn(smsg, UserWarning)\n"
     ]
    },
    {
     "name": "stdout",
     "output_type": "stream",
     "text": [
      "[CV 4/5] END booster=gblinear, learning_rate=0.1, max_leaves=5, n_estimators=100;, score=0.562 total time=   0.1s\n",
      "[CV 5/5] END booster=gblinear, learning_rate=0.1, max_leaves=5, n_estimators=100;, score=0.536 total time=   0.1s\n"
     ]
    },
    {
     "name": "stderr",
     "output_type": "stream",
     "text": [
      "C:\\Users\\mihai\\anaconda3\\Lib\\site-packages\\xgboost\\core.py:160: UserWarning: [23:19:14] WARNING: C:\\buildkite-agent\\builds\\buildkite-windows-cpu-autoscaling-group-i-0b3782d1791676daf-1\\xgboost\\xgboost-ci-windows\\src\\learner.cc:742: \n",
      "Parameters: { \"max_leaves\" } are not used.\n",
      "\n",
      "  warnings.warn(smsg, UserWarning)\n",
      "C:\\Users\\mihai\\anaconda3\\Lib\\site-packages\\xgboost\\core.py:160: UserWarning: [23:19:14] WARNING: C:\\buildkite-agent\\builds\\buildkite-windows-cpu-autoscaling-group-i-0b3782d1791676daf-1\\xgboost\\xgboost-ci-windows\\src\\learner.cc:742: \n",
      "Parameters: { \"max_leaves\" } are not used.\n",
      "\n",
      "  warnings.warn(smsg, UserWarning)\n"
     ]
    },
    {
     "name": "stdout",
     "output_type": "stream",
     "text": [
      "[CV 1/5] END booster=gblinear, learning_rate=0.1, max_leaves=5, n_estimators=200;, score=0.536 total time=   0.2s\n"
     ]
    },
    {
     "name": "stderr",
     "output_type": "stream",
     "text": [
      "C:\\Users\\mihai\\anaconda3\\Lib\\site-packages\\xgboost\\core.py:160: UserWarning: [23:19:15] WARNING: C:\\buildkite-agent\\builds\\buildkite-windows-cpu-autoscaling-group-i-0b3782d1791676daf-1\\xgboost\\xgboost-ci-windows\\src\\learner.cc:742: \n",
      "Parameters: { \"max_leaves\" } are not used.\n",
      "\n",
      "  warnings.warn(smsg, UserWarning)\n"
     ]
    },
    {
     "name": "stdout",
     "output_type": "stream",
     "text": [
      "[CV 2/5] END booster=gblinear, learning_rate=0.1, max_leaves=5, n_estimators=200;, score=0.556 total time=   0.2s\n"
     ]
    },
    {
     "name": "stderr",
     "output_type": "stream",
     "text": [
      "C:\\Users\\mihai\\anaconda3\\Lib\\site-packages\\xgboost\\core.py:160: UserWarning: [23:19:15] WARNING: C:\\buildkite-agent\\builds\\buildkite-windows-cpu-autoscaling-group-i-0b3782d1791676daf-1\\xgboost\\xgboost-ci-windows\\src\\learner.cc:742: \n",
      "Parameters: { \"max_leaves\" } are not used.\n",
      "\n",
      "  warnings.warn(smsg, UserWarning)\n"
     ]
    },
    {
     "name": "stdout",
     "output_type": "stream",
     "text": [
      "[CV 3/5] END booster=gblinear, learning_rate=0.1, max_leaves=5, n_estimators=200;, score=0.544 total time=   0.2s\n"
     ]
    },
    {
     "name": "stderr",
     "output_type": "stream",
     "text": [
      "C:\\Users\\mihai\\anaconda3\\Lib\\site-packages\\xgboost\\core.py:160: UserWarning: [23:19:15] WARNING: C:\\buildkite-agent\\builds\\buildkite-windows-cpu-autoscaling-group-i-0b3782d1791676daf-1\\xgboost\\xgboost-ci-windows\\src\\learner.cc:742: \n",
      "Parameters: { \"max_leaves\" } are not used.\n",
      "\n",
      "  warnings.warn(smsg, UserWarning)\n"
     ]
    },
    {
     "name": "stdout",
     "output_type": "stream",
     "text": [
      "[CV 4/5] END booster=gblinear, learning_rate=0.1, max_leaves=5, n_estimators=200;, score=0.589 total time=   0.2s\n"
     ]
    },
    {
     "name": "stderr",
     "output_type": "stream",
     "text": [
      "C:\\Users\\mihai\\anaconda3\\Lib\\site-packages\\xgboost\\core.py:160: UserWarning: [23:19:16] WARNING: C:\\buildkite-agent\\builds\\buildkite-windows-cpu-autoscaling-group-i-0b3782d1791676daf-1\\xgboost\\xgboost-ci-windows\\src\\learner.cc:742: \n",
      "Parameters: { \"max_leaves\" } are not used.\n",
      "\n",
      "  warnings.warn(smsg, UserWarning)\n"
     ]
    },
    {
     "name": "stdout",
     "output_type": "stream",
     "text": [
      "[CV 5/5] END booster=gblinear, learning_rate=0.1, max_leaves=5, n_estimators=200;, score=0.577 total time=   0.2s\n"
     ]
    },
    {
     "name": "stderr",
     "output_type": "stream",
     "text": [
      "C:\\Users\\mihai\\anaconda3\\Lib\\site-packages\\xgboost\\core.py:160: UserWarning: [23:19:16] WARNING: C:\\buildkite-agent\\builds\\buildkite-windows-cpu-autoscaling-group-i-0b3782d1791676daf-1\\xgboost\\xgboost-ci-windows\\src\\learner.cc:742: \n",
      "Parameters: { \"max_leaves\" } are not used.\n",
      "\n",
      "  warnings.warn(smsg, UserWarning)\n"
     ]
    },
    {
     "name": "stdout",
     "output_type": "stream",
     "text": [
      "[CV 1/5] END booster=gblinear, learning_rate=0.1, max_leaves=5, n_estimators=300;, score=0.571 total time=   0.4s\n"
     ]
    },
    {
     "name": "stderr",
     "output_type": "stream",
     "text": [
      "C:\\Users\\mihai\\anaconda3\\Lib\\site-packages\\xgboost\\core.py:160: UserWarning: [23:19:17] WARNING: C:\\buildkite-agent\\builds\\buildkite-windows-cpu-autoscaling-group-i-0b3782d1791676daf-1\\xgboost\\xgboost-ci-windows\\src\\learner.cc:742: \n",
      "Parameters: { \"max_leaves\" } are not used.\n",
      "\n",
      "  warnings.warn(smsg, UserWarning)\n"
     ]
    },
    {
     "name": "stdout",
     "output_type": "stream",
     "text": [
      "[CV 2/5] END booster=gblinear, learning_rate=0.1, max_leaves=5, n_estimators=300;, score=0.565 total time=   0.3s\n"
     ]
    },
    {
     "name": "stderr",
     "output_type": "stream",
     "text": [
      "C:\\Users\\mihai\\anaconda3\\Lib\\site-packages\\xgboost\\core.py:160: UserWarning: [23:19:17] WARNING: C:\\buildkite-agent\\builds\\buildkite-windows-cpu-autoscaling-group-i-0b3782d1791676daf-1\\xgboost\\xgboost-ci-windows\\src\\learner.cc:742: \n",
      "Parameters: { \"max_leaves\" } are not used.\n",
      "\n",
      "  warnings.warn(smsg, UserWarning)\n"
     ]
    },
    {
     "name": "stdout",
     "output_type": "stream",
     "text": [
      "[CV 3/5] END booster=gblinear, learning_rate=0.1, max_leaves=5, n_estimators=300;, score=0.559 total time=   0.4s\n"
     ]
    },
    {
     "name": "stderr",
     "output_type": "stream",
     "text": [
      "C:\\Users\\mihai\\anaconda3\\Lib\\site-packages\\xgboost\\core.py:160: UserWarning: [23:19:17] WARNING: C:\\buildkite-agent\\builds\\buildkite-windows-cpu-autoscaling-group-i-0b3782d1791676daf-1\\xgboost\\xgboost-ci-windows\\src\\learner.cc:742: \n",
      "Parameters: { \"max_leaves\" } are not used.\n",
      "\n",
      "  warnings.warn(smsg, UserWarning)\n"
     ]
    },
    {
     "name": "stdout",
     "output_type": "stream",
     "text": [
      "[CV 4/5] END booster=gblinear, learning_rate=0.1, max_leaves=5, n_estimators=300;, score=0.618 total time=   0.4s\n"
     ]
    },
    {
     "name": "stderr",
     "output_type": "stream",
     "text": [
      "C:\\Users\\mihai\\anaconda3\\Lib\\site-packages\\xgboost\\core.py:160: UserWarning: [23:19:18] WARNING: C:\\buildkite-agent\\builds\\buildkite-windows-cpu-autoscaling-group-i-0b3782d1791676daf-1\\xgboost\\xgboost-ci-windows\\src\\learner.cc:742: \n",
      "Parameters: { \"max_leaves\" } are not used.\n",
      "\n",
      "  warnings.warn(smsg, UserWarning)\n"
     ]
    },
    {
     "name": "stdout",
     "output_type": "stream",
     "text": [
      "[CV 5/5] END booster=gblinear, learning_rate=0.1, max_leaves=5, n_estimators=300;, score=0.589 total time=   0.3s\n",
      "[CV 1/5] END booster=gblinear, learning_rate=0.2, max_leaves=0, n_estimators=100;, score=0.538 total time=   0.1s\n"
     ]
    },
    {
     "name": "stderr",
     "output_type": "stream",
     "text": [
      "C:\\Users\\mihai\\anaconda3\\Lib\\site-packages\\xgboost\\core.py:160: UserWarning: [23:19:18] WARNING: C:\\buildkite-agent\\builds\\buildkite-windows-cpu-autoscaling-group-i-0b3782d1791676daf-1\\xgboost\\xgboost-ci-windows\\src\\learner.cc:742: \n",
      "Parameters: { \"max_leaves\" } are not used.\n",
      "\n",
      "  warnings.warn(smsg, UserWarning)\n",
      "C:\\Users\\mihai\\anaconda3\\Lib\\site-packages\\xgboost\\core.py:160: UserWarning: [23:19:19] WARNING: C:\\buildkite-agent\\builds\\buildkite-windows-cpu-autoscaling-group-i-0b3782d1791676daf-1\\xgboost\\xgboost-ci-windows\\src\\learner.cc:742: \n",
      "Parameters: { \"max_leaves\" } are not used.\n",
      "\n",
      "  warnings.warn(smsg, UserWarning)\n",
      "C:\\Users\\mihai\\anaconda3\\Lib\\site-packages\\xgboost\\core.py:160: UserWarning: [23:19:19] WARNING: C:\\buildkite-agent\\builds\\buildkite-windows-cpu-autoscaling-group-i-0b3782d1791676daf-1\\xgboost\\xgboost-ci-windows\\src\\learner.cc:742: \n",
      "Parameters: { \"max_leaves\" } are not used.\n",
      "\n",
      "  warnings.warn(smsg, UserWarning)\n"
     ]
    },
    {
     "name": "stdout",
     "output_type": "stream",
     "text": [
      "[CV 2/5] END booster=gblinear, learning_rate=0.2, max_leaves=0, n_estimators=100;, score=0.556 total time=   0.1s\n",
      "[CV 3/5] END booster=gblinear, learning_rate=0.2, max_leaves=0, n_estimators=100;, score=0.547 total time=   0.1s\n"
     ]
    },
    {
     "name": "stderr",
     "output_type": "stream",
     "text": [
      "C:\\Users\\mihai\\anaconda3\\Lib\\site-packages\\xgboost\\core.py:160: UserWarning: [23:19:19] WARNING: C:\\buildkite-agent\\builds\\buildkite-windows-cpu-autoscaling-group-i-0b3782d1791676daf-1\\xgboost\\xgboost-ci-windows\\src\\learner.cc:742: \n",
      "Parameters: { \"max_leaves\" } are not used.\n",
      "\n",
      "  warnings.warn(smsg, UserWarning)\n",
      "C:\\Users\\mihai\\anaconda3\\Lib\\site-packages\\xgboost\\core.py:160: UserWarning: [23:19:19] WARNING: C:\\buildkite-agent\\builds\\buildkite-windows-cpu-autoscaling-group-i-0b3782d1791676daf-1\\xgboost\\xgboost-ci-windows\\src\\learner.cc:742: \n",
      "Parameters: { \"max_leaves\" } are not used.\n",
      "\n",
      "  warnings.warn(smsg, UserWarning)\n"
     ]
    },
    {
     "name": "stdout",
     "output_type": "stream",
     "text": [
      "[CV 4/5] END booster=gblinear, learning_rate=0.2, max_leaves=0, n_estimators=100;, score=0.589 total time=   0.1s\n",
      "[CV 5/5] END booster=gblinear, learning_rate=0.2, max_leaves=0, n_estimators=100;, score=0.583 total time=   0.1s\n"
     ]
    },
    {
     "name": "stderr",
     "output_type": "stream",
     "text": [
      "C:\\Users\\mihai\\anaconda3\\Lib\\site-packages\\xgboost\\core.py:160: UserWarning: [23:19:19] WARNING: C:\\buildkite-agent\\builds\\buildkite-windows-cpu-autoscaling-group-i-0b3782d1791676daf-1\\xgboost\\xgboost-ci-windows\\src\\learner.cc:742: \n",
      "Parameters: { \"max_leaves\" } are not used.\n",
      "\n",
      "  warnings.warn(smsg, UserWarning)\n"
     ]
    },
    {
     "name": "stdout",
     "output_type": "stream",
     "text": [
      "[CV 1/5] END booster=gblinear, learning_rate=0.2, max_leaves=0, n_estimators=200;, score=0.568 total time=   0.2s\n"
     ]
    },
    {
     "name": "stderr",
     "output_type": "stream",
     "text": [
      "C:\\Users\\mihai\\anaconda3\\Lib\\site-packages\\xgboost\\core.py:160: UserWarning: [23:19:20] WARNING: C:\\buildkite-agent\\builds\\buildkite-windows-cpu-autoscaling-group-i-0b3782d1791676daf-1\\xgboost\\xgboost-ci-windows\\src\\learner.cc:742: \n",
      "Parameters: { \"max_leaves\" } are not used.\n",
      "\n",
      "  warnings.warn(smsg, UserWarning)\n"
     ]
    },
    {
     "name": "stdout",
     "output_type": "stream",
     "text": [
      "[CV 2/5] END booster=gblinear, learning_rate=0.2, max_leaves=0, n_estimators=200;, score=0.586 total time=   0.2s\n"
     ]
    },
    {
     "name": "stderr",
     "output_type": "stream",
     "text": [
      "C:\\Users\\mihai\\anaconda3\\Lib\\site-packages\\xgboost\\core.py:160: UserWarning: [23:19:20] WARNING: C:\\buildkite-agent\\builds\\buildkite-windows-cpu-autoscaling-group-i-0b3782d1791676daf-1\\xgboost\\xgboost-ci-windows\\src\\learner.cc:742: \n",
      "Parameters: { \"max_leaves\" } are not used.\n",
      "\n",
      "  warnings.warn(smsg, UserWarning)\n"
     ]
    },
    {
     "name": "stdout",
     "output_type": "stream",
     "text": [
      "[CV 3/5] END booster=gblinear, learning_rate=0.2, max_leaves=0, n_estimators=200;, score=0.574 total time=   0.2s\n"
     ]
    },
    {
     "name": "stderr",
     "output_type": "stream",
     "text": [
      "C:\\Users\\mihai\\anaconda3\\Lib\\site-packages\\xgboost\\core.py:160: UserWarning: [23:19:20] WARNING: C:\\buildkite-agent\\builds\\buildkite-windows-cpu-autoscaling-group-i-0b3782d1791676daf-1\\xgboost\\xgboost-ci-windows\\src\\learner.cc:742: \n",
      "Parameters: { \"max_leaves\" } are not used.\n",
      "\n",
      "  warnings.warn(smsg, UserWarning)\n"
     ]
    },
    {
     "name": "stdout",
     "output_type": "stream",
     "text": [
      "[CV 4/5] END booster=gblinear, learning_rate=0.2, max_leaves=0, n_estimators=200;, score=0.657 total time=   0.2s\n"
     ]
    },
    {
     "name": "stderr",
     "output_type": "stream",
     "text": [
      "C:\\Users\\mihai\\anaconda3\\Lib\\site-packages\\xgboost\\core.py:160: UserWarning: [23:19:21] WARNING: C:\\buildkite-agent\\builds\\buildkite-windows-cpu-autoscaling-group-i-0b3782d1791676daf-1\\xgboost\\xgboost-ci-windows\\src\\learner.cc:742: \n",
      "Parameters: { \"max_leaves\" } are not used.\n",
      "\n",
      "  warnings.warn(smsg, UserWarning)\n"
     ]
    },
    {
     "name": "stdout",
     "output_type": "stream",
     "text": [
      "[CV 5/5] END booster=gblinear, learning_rate=0.2, max_leaves=0, n_estimators=200;, score=0.598 total time=   0.2s\n"
     ]
    },
    {
     "name": "stderr",
     "output_type": "stream",
     "text": [
      "C:\\Users\\mihai\\anaconda3\\Lib\\site-packages\\xgboost\\core.py:160: UserWarning: [23:19:21] WARNING: C:\\buildkite-agent\\builds\\buildkite-windows-cpu-autoscaling-group-i-0b3782d1791676daf-1\\xgboost\\xgboost-ci-windows\\src\\learner.cc:742: \n",
      "Parameters: { \"max_leaves\" } are not used.\n",
      "\n",
      "  warnings.warn(smsg, UserWarning)\n"
     ]
    },
    {
     "name": "stdout",
     "output_type": "stream",
     "text": [
      "[CV 1/5] END booster=gblinear, learning_rate=0.2, max_leaves=0, n_estimators=300;, score=0.615 total time=   0.4s\n"
     ]
    },
    {
     "name": "stderr",
     "output_type": "stream",
     "text": [
      "C:\\Users\\mihai\\anaconda3\\Lib\\site-packages\\xgboost\\core.py:160: UserWarning: [23:19:21] WARNING: C:\\buildkite-agent\\builds\\buildkite-windows-cpu-autoscaling-group-i-0b3782d1791676daf-1\\xgboost\\xgboost-ci-windows\\src\\learner.cc:742: \n",
      "Parameters: { \"max_leaves\" } are not used.\n",
      "\n",
      "  warnings.warn(smsg, UserWarning)\n"
     ]
    },
    {
     "name": "stdout",
     "output_type": "stream",
     "text": [
      "[CV 2/5] END booster=gblinear, learning_rate=0.2, max_leaves=0, n_estimators=300;, score=0.615 total time=   0.4s\n"
     ]
    },
    {
     "name": "stderr",
     "output_type": "stream",
     "text": [
      "C:\\Users\\mihai\\anaconda3\\Lib\\site-packages\\xgboost\\core.py:160: UserWarning: [23:19:22] WARNING: C:\\buildkite-agent\\builds\\buildkite-windows-cpu-autoscaling-group-i-0b3782d1791676daf-1\\xgboost\\xgboost-ci-windows\\src\\learner.cc:742: \n",
      "Parameters: { \"max_leaves\" } are not used.\n",
      "\n",
      "  warnings.warn(smsg, UserWarning)\n"
     ]
    },
    {
     "name": "stdout",
     "output_type": "stream",
     "text": [
      "[CV 3/5] END booster=gblinear, learning_rate=0.2, max_leaves=0, n_estimators=300;, score=0.612 total time=   0.3s\n"
     ]
    },
    {
     "name": "stderr",
     "output_type": "stream",
     "text": [
      "C:\\Users\\mihai\\anaconda3\\Lib\\site-packages\\xgboost\\core.py:160: UserWarning: [23:19:22] WARNING: C:\\buildkite-agent\\builds\\buildkite-windows-cpu-autoscaling-group-i-0b3782d1791676daf-1\\xgboost\\xgboost-ci-windows\\src\\learner.cc:742: \n",
      "Parameters: { \"max_leaves\" } are not used.\n",
      "\n",
      "  warnings.warn(smsg, UserWarning)\n"
     ]
    },
    {
     "name": "stdout",
     "output_type": "stream",
     "text": [
      "[CV 4/5] END booster=gblinear, learning_rate=0.2, max_leaves=0, n_estimators=300;, score=0.672 total time=   0.4s\n"
     ]
    },
    {
     "name": "stderr",
     "output_type": "stream",
     "text": [
      "C:\\Users\\mihai\\anaconda3\\Lib\\site-packages\\xgboost\\core.py:160: UserWarning: [23:19:23] WARNING: C:\\buildkite-agent\\builds\\buildkite-windows-cpu-autoscaling-group-i-0b3782d1791676daf-1\\xgboost\\xgboost-ci-windows\\src\\learner.cc:742: \n",
      "Parameters: { \"max_leaves\" } are not used.\n",
      "\n",
      "  warnings.warn(smsg, UserWarning)\n"
     ]
    },
    {
     "name": "stdout",
     "output_type": "stream",
     "text": [
      "[CV 5/5] END booster=gblinear, learning_rate=0.2, max_leaves=0, n_estimators=300;, score=0.651 total time=   0.3s\n",
      "[CV 1/5] END booster=gblinear, learning_rate=0.2, max_leaves=5, n_estimators=100;, score=0.536 total time=   0.1s\n"
     ]
    },
    {
     "name": "stderr",
     "output_type": "stream",
     "text": [
      "C:\\Users\\mihai\\anaconda3\\Lib\\site-packages\\xgboost\\core.py:160: UserWarning: [23:19:23] WARNING: C:\\buildkite-agent\\builds\\buildkite-windows-cpu-autoscaling-group-i-0b3782d1791676daf-1\\xgboost\\xgboost-ci-windows\\src\\learner.cc:742: \n",
      "Parameters: { \"max_leaves\" } are not used.\n",
      "\n",
      "  warnings.warn(smsg, UserWarning)\n",
      "C:\\Users\\mihai\\anaconda3\\Lib\\site-packages\\xgboost\\core.py:160: UserWarning: [23:19:23] WARNING: C:\\buildkite-agent\\builds\\buildkite-windows-cpu-autoscaling-group-i-0b3782d1791676daf-1\\xgboost\\xgboost-ci-windows\\src\\learner.cc:742: \n",
      "Parameters: { \"max_leaves\" } are not used.\n",
      "\n",
      "  warnings.warn(smsg, UserWarning)\n"
     ]
    },
    {
     "name": "stdout",
     "output_type": "stream",
     "text": [
      "[CV 2/5] END booster=gblinear, learning_rate=0.2, max_leaves=5, n_estimators=100;, score=0.553 total time=   0.1s\n",
      "[CV 3/5] END booster=gblinear, learning_rate=0.2, max_leaves=5, n_estimators=100;, score=0.547 total time=   0.1s\n"
     ]
    },
    {
     "name": "stderr",
     "output_type": "stream",
     "text": [
      "C:\\Users\\mihai\\anaconda3\\Lib\\site-packages\\xgboost\\core.py:160: UserWarning: [23:19:24] WARNING: C:\\buildkite-agent\\builds\\buildkite-windows-cpu-autoscaling-group-i-0b3782d1791676daf-1\\xgboost\\xgboost-ci-windows\\src\\learner.cc:742: \n",
      "Parameters: { \"max_leaves\" } are not used.\n",
      "\n",
      "  warnings.warn(smsg, UserWarning)\n",
      "C:\\Users\\mihai\\anaconda3\\Lib\\site-packages\\xgboost\\core.py:160: UserWarning: [23:19:24] WARNING: C:\\buildkite-agent\\builds\\buildkite-windows-cpu-autoscaling-group-i-0b3782d1791676daf-1\\xgboost\\xgboost-ci-windows\\src\\learner.cc:742: \n",
      "Parameters: { \"max_leaves\" } are not used.\n",
      "\n",
      "  warnings.warn(smsg, UserWarning)\n"
     ]
    },
    {
     "name": "stdout",
     "output_type": "stream",
     "text": [
      "[CV 4/5] END booster=gblinear, learning_rate=0.2, max_leaves=5, n_estimators=100;, score=0.589 total time=   0.1s\n",
      "[CV 5/5] END booster=gblinear, learning_rate=0.2, max_leaves=5, n_estimators=100;, score=0.580 total time=   0.1s\n"
     ]
    },
    {
     "name": "stderr",
     "output_type": "stream",
     "text": [
      "C:\\Users\\mihai\\anaconda3\\Lib\\site-packages\\xgboost\\core.py:160: UserWarning: [23:19:24] WARNING: C:\\buildkite-agent\\builds\\buildkite-windows-cpu-autoscaling-group-i-0b3782d1791676daf-1\\xgboost\\xgboost-ci-windows\\src\\learner.cc:742: \n",
      "Parameters: { \"max_leaves\" } are not used.\n",
      "\n",
      "  warnings.warn(smsg, UserWarning)\n",
      "C:\\Users\\mihai\\anaconda3\\Lib\\site-packages\\xgboost\\core.py:160: UserWarning: [23:19:24] WARNING: C:\\buildkite-agent\\builds\\buildkite-windows-cpu-autoscaling-group-i-0b3782d1791676daf-1\\xgboost\\xgboost-ci-windows\\src\\learner.cc:742: \n",
      "Parameters: { \"max_leaves\" } are not used.\n",
      "\n",
      "  warnings.warn(smsg, UserWarning)\n"
     ]
    },
    {
     "name": "stdout",
     "output_type": "stream",
     "text": [
      "[CV 1/5] END booster=gblinear, learning_rate=0.2, max_leaves=5, n_estimators=200;, score=0.568 total time=   0.2s\n"
     ]
    },
    {
     "name": "stderr",
     "output_type": "stream",
     "text": [
      "C:\\Users\\mihai\\anaconda3\\Lib\\site-packages\\xgboost\\core.py:160: UserWarning: [23:19:24] WARNING: C:\\buildkite-agent\\builds\\buildkite-windows-cpu-autoscaling-group-i-0b3782d1791676daf-1\\xgboost\\xgboost-ci-windows\\src\\learner.cc:742: \n",
      "Parameters: { \"max_leaves\" } are not used.\n",
      "\n",
      "  warnings.warn(smsg, UserWarning)\n"
     ]
    },
    {
     "name": "stdout",
     "output_type": "stream",
     "text": [
      "[CV 2/5] END booster=gblinear, learning_rate=0.2, max_leaves=5, n_estimators=200;, score=0.586 total time=   0.2s\n"
     ]
    },
    {
     "name": "stderr",
     "output_type": "stream",
     "text": [
      "C:\\Users\\mihai\\anaconda3\\Lib\\site-packages\\xgboost\\core.py:160: UserWarning: [23:19:25] WARNING: C:\\buildkite-agent\\builds\\buildkite-windows-cpu-autoscaling-group-i-0b3782d1791676daf-1\\xgboost\\xgboost-ci-windows\\src\\learner.cc:742: \n",
      "Parameters: { \"max_leaves\" } are not used.\n",
      "\n",
      "  warnings.warn(smsg, UserWarning)\n"
     ]
    },
    {
     "name": "stdout",
     "output_type": "stream",
     "text": [
      "[CV 3/5] END booster=gblinear, learning_rate=0.2, max_leaves=5, n_estimators=200;, score=0.574 total time=   0.2s\n"
     ]
    },
    {
     "name": "stderr",
     "output_type": "stream",
     "text": [
      "C:\\Users\\mihai\\anaconda3\\Lib\\site-packages\\xgboost\\core.py:160: UserWarning: [23:19:25] WARNING: C:\\buildkite-agent\\builds\\buildkite-windows-cpu-autoscaling-group-i-0b3782d1791676daf-1\\xgboost\\xgboost-ci-windows\\src\\learner.cc:742: \n",
      "Parameters: { \"max_leaves\" } are not used.\n",
      "\n",
      "  warnings.warn(smsg, UserWarning)\n"
     ]
    },
    {
     "name": "stdout",
     "output_type": "stream",
     "text": [
      "[CV 4/5] END booster=gblinear, learning_rate=0.2, max_leaves=5, n_estimators=200;, score=0.657 total time=   0.2s\n"
     ]
    },
    {
     "name": "stderr",
     "output_type": "stream",
     "text": [
      "C:\\Users\\mihai\\anaconda3\\Lib\\site-packages\\xgboost\\core.py:160: UserWarning: [23:19:25] WARNING: C:\\buildkite-agent\\builds\\buildkite-windows-cpu-autoscaling-group-i-0b3782d1791676daf-1\\xgboost\\xgboost-ci-windows\\src\\learner.cc:742: \n",
      "Parameters: { \"max_leaves\" } are not used.\n",
      "\n",
      "  warnings.warn(smsg, UserWarning)\n"
     ]
    },
    {
     "name": "stdout",
     "output_type": "stream",
     "text": [
      "[CV 5/5] END booster=gblinear, learning_rate=0.2, max_leaves=5, n_estimators=200;, score=0.604 total time=   0.2s\n"
     ]
    },
    {
     "name": "stderr",
     "output_type": "stream",
     "text": [
      "C:\\Users\\mihai\\anaconda3\\Lib\\site-packages\\xgboost\\core.py:160: UserWarning: [23:19:26] WARNING: C:\\buildkite-agent\\builds\\buildkite-windows-cpu-autoscaling-group-i-0b3782d1791676daf-1\\xgboost\\xgboost-ci-windows\\src\\learner.cc:742: \n",
      "Parameters: { \"max_leaves\" } are not used.\n",
      "\n",
      "  warnings.warn(smsg, UserWarning)\n"
     ]
    },
    {
     "name": "stdout",
     "output_type": "stream",
     "text": [
      "[CV 1/5] END booster=gblinear, learning_rate=0.2, max_leaves=5, n_estimators=300;, score=0.615 total time=   0.4s\n"
     ]
    },
    {
     "name": "stderr",
     "output_type": "stream",
     "text": [
      "C:\\Users\\mihai\\anaconda3\\Lib\\site-packages\\xgboost\\core.py:160: UserWarning: [23:19:26] WARNING: C:\\buildkite-agent\\builds\\buildkite-windows-cpu-autoscaling-group-i-0b3782d1791676daf-1\\xgboost\\xgboost-ci-windows\\src\\learner.cc:742: \n",
      "Parameters: { \"max_leaves\" } are not used.\n",
      "\n",
      "  warnings.warn(smsg, UserWarning)\n"
     ]
    },
    {
     "name": "stdout",
     "output_type": "stream",
     "text": [
      "[CV 2/5] END booster=gblinear, learning_rate=0.2, max_leaves=5, n_estimators=300;, score=0.615 total time=   0.4s\n"
     ]
    },
    {
     "name": "stderr",
     "output_type": "stream",
     "text": [
      "C:\\Users\\mihai\\anaconda3\\Lib\\site-packages\\xgboost\\core.py:160: UserWarning: [23:19:27] WARNING: C:\\buildkite-agent\\builds\\buildkite-windows-cpu-autoscaling-group-i-0b3782d1791676daf-1\\xgboost\\xgboost-ci-windows\\src\\learner.cc:742: \n",
      "Parameters: { \"max_leaves\" } are not used.\n",
      "\n",
      "  warnings.warn(smsg, UserWarning)\n"
     ]
    },
    {
     "name": "stdout",
     "output_type": "stream",
     "text": [
      "[CV 3/5] END booster=gblinear, learning_rate=0.2, max_leaves=5, n_estimators=300;, score=0.633 total time=   0.3s\n"
     ]
    },
    {
     "name": "stderr",
     "output_type": "stream",
     "text": [
      "C:\\Users\\mihai\\anaconda3\\Lib\\site-packages\\xgboost\\core.py:160: UserWarning: [23:19:27] WARNING: C:\\buildkite-agent\\builds\\buildkite-windows-cpu-autoscaling-group-i-0b3782d1791676daf-1\\xgboost\\xgboost-ci-windows\\src\\learner.cc:742: \n",
      "Parameters: { \"max_leaves\" } are not used.\n",
      "\n",
      "  warnings.warn(smsg, UserWarning)\n"
     ]
    },
    {
     "name": "stdout",
     "output_type": "stream",
     "text": [
      "[CV 4/5] END booster=gblinear, learning_rate=0.2, max_leaves=5, n_estimators=300;, score=0.663 total time=   0.4s\n"
     ]
    },
    {
     "name": "stderr",
     "output_type": "stream",
     "text": [
      "C:\\Users\\mihai\\anaconda3\\Lib\\site-packages\\xgboost\\core.py:160: UserWarning: [23:19:28] WARNING: C:\\buildkite-agent\\builds\\buildkite-windows-cpu-autoscaling-group-i-0b3782d1791676daf-1\\xgboost\\xgboost-ci-windows\\src\\learner.cc:742: \n",
      "Parameters: { \"max_leaves\" } are not used.\n",
      "\n",
      "  warnings.warn(smsg, UserWarning)\n"
     ]
    },
    {
     "name": "stdout",
     "output_type": "stream",
     "text": [
      "[CV 5/5] END booster=gblinear, learning_rate=0.2, max_leaves=5, n_estimators=300;, score=0.651 total time=   0.4s\n",
      "\n",
      "Najbolji parametri: {'booster': 'gbtree', 'learning_rate': 0.2, 'max_leaves': 0, 'n_estimators': 200}\n",
      "Tacnost modela sa najboljim parametrima: 0.83553\n",
      "Precision modela sa najboljim parametrima: 0.83841\n",
      "Recall modela sa najboljim parametrima: 0.83553\n",
      "F1 score modela sa najboljim parametrima: 0.83627\n"
     ]
    }
   ],
   "source": [
    "param_grid = {\n",
    "    'n_estimators': [100, 200, 300],\n",
    "    'learning_rate': [0.1, 0.2],\n",
    "    'max_leaves': [0, 5],\n",
    "    'booster': ['gbtree', 'gblinear'],\n",
    "}\n",
    "\n",
    "clf = XGBClassifier(objective=\"multi:softmax\", random_state=42, num_class=5)\n",
    "\n",
    "grid_search = GridSearchCV(clf, param_grid, cv=5, scoring='accuracy', verbose=4)\n",
    "grid_search.fit(X_train_SMOTE, y_train_SMOTE)\n",
    "\n",
    "best_params = grid_search.best_params_\n",
    "\n",
    "best_clf = XGBClassifier(objective=\"multi:softmax\", random_state=42, num_class=5, **best_params)\n",
    "best_clf.fit(X_train_SMOTE, y_train_SMOTE)\n",
    "\n",
    "y_pred_best = best_clf.predict(X_test)\n",
    "accuracy_best_SMOTE = accuracy_score(y_test, y_pred_best)\n",
    "precision_best_SMOTE = precision_score(y_test, y_pred_best, average='weighted')\n",
    "recall_best_SMOTE = recall_score(y_test, y_pred_best, average='weighted')\n",
    "f1_best_SMOTE = f1_score(y_test, y_pred_best, average='weighted')\n",
    "\n",
    "classification_rep = classification_report(y_test, y_pred_best)\n",
    "feature_importance_dict = best_clf.get_booster().get_score(importance_type='gain')\n",
    "\n",
    "print(\"\\nNajbolji parametri:\", best_params)\n",
    "print(\"Tacnost modela sa najboljim parametrima:\", round(accuracy_best_SMOTE, 5))\n",
    "print(\"Precision modela sa najboljim parametrima:\", round(precision_best_SMOTE, 5))\n",
    "print(\"Recall modela sa najboljim parametrima:\", round(recall_best_SMOTE, 5))\n",
    "print(\"F1 score modela sa najboljim parametrima:\", round(f1_best_SMOTE, 5))\n",
    "#print(\"\\nIzvestaj o klasifikaciji:\\n\", classification_rep)"
   ]
  },
  {
   "cell_type": "code",
   "execution_count": 28,
   "id": "d45d91cb-4ddf-4fee-8dff-23c280b7e94c",
   "metadata": {
    "scrolled": true
   },
   "outputs": [
    {
     "data": {
      "image/png": "[encoded data removed]",
      "text/plain": [
       "<Figure size 1000x1500 with 1 Axes>"
      ]
     },
     "metadata": {},
     "output_type": "display_data"
    }
   ],
   "source": [
    "feature_names = X_train_SMOTE.columns\n",
    "plt.figure(figsize=(10, 15))\n",
    "\n",
    "plt.barh(range(len(feature_names)), feature_importance_dict.values(), align='center')\n",
    "plt.yticks(range(len(feature_names)), feature_importance_dict.keys())\n",
    "plt.xlabel('Feature Importance')\n",
    "plt.title('XGBoost Feature Importance')\n",
    "\n",
    "plt.show()"
   ]
  },
  {
   "cell_type": "markdown",
   "id": "1e46ac4e-ac91-41de-9572-ce3e2351f4d3",
   "metadata": {},
   "source": [
    "**Poredjenje modela**"
   ]
  },
  {
   "cell_type": "code",
   "execution_count": 32,
   "id": "3b8a509e-78b7-4876-9bbf-8b53064f9602",
   "metadata": {},
   "outputs": [
    {
     "data": {
      "image/png": "[encoded data removed]",
      "text/plain": [
       "<Figure size 1200x1200 with 4 Axes>"
      ]
     },
     "metadata": {},
     "output_type": "display_data"
    }
   ],
   "source": [
    "plt.rcParams.update({'font.size': 16})\n",
    "fig = plt.figure(figsize=(12, 12))\n",
    "\n",
    "plt.subplot(2, 2, 1)\n",
    "plt.bar(['običan', 'SMOTE'], [accuracy_best, accuracy_best_SMOTE])\n",
    "plt.title('Poređenje tačnosti')\n",
    "plt.ylim(0.7, 0.9)\n",
    "\n",
    "plt.subplot(2, 2, 2)\n",
    "plt.bar(['običan', 'SMOTE'], [precision_best, precision_best_SMOTE], color='yellow')\n",
    "plt.title('Poređenje preciznosti')\n",
    "plt.ylim(0.7, 0.9)\n",
    "\n",
    "plt.subplot(2, 2, 3)\n",
    "plt.bar(['običan', 'SMOTE'], [recall_best, recall_best_SMOTE], color='red')\n",
    "plt.title('Poređenje odziva')\n",
    "plt.ylim(0.7, 0.9)\n",
    "\n",
    "plt.subplot(2, 2, 4)\n",
    "plt.bar(['običan', 'SMOTE'], [f1_best, f1_best_SMOTE], color='green')\n",
    "plt.title('Poređenje f1 mere')\n",
    "plt.ylim(0.7, 0.9)\n",
    "\n",
    "plt.savefig('XGB_poredjenje.png')\n",
    "plt.tight_layout()\n",
    "plt.show()"
   ]
  },
  {
   "cell_type": "code",
   "execution_count": 30,
   "id": "85b6e4f9-6ce5-49a9-a7dd-6fe7a2620583",
   "metadata": {},
   "outputs": [],
   "source": [
    "xgb_best_accuracy = accuracy_best_SMOTE"
   ]
  },
  {
   "cell_type": "code",
   "execution_count": 31,
   "id": "e78d0fd4-bd58-410d-af89-c89d556d0ee9",
   "metadata": {},
   "outputs": [
    {
     "name": "stdout",
     "output_type": "stream",
     "text": [
      "Stored 'xgb_best_accuracy' (float64)\n"
     ]
    }
   ],
   "source": [
    "%store xgb_best_accuracy"
   ]
  }
 ],
 "metadata": {
  "kernelspec": {
   "display_name": "Python (GPU)",
   "language": "python",
   "name": "gpu_env"
  },
  "language_info": {
   "codemirror_mode": {
    "name": "ipython",
    "version": 3
   },
   "file_extension": ".py",
   "mimetype": "text/x-python",
   "name": "python",
   "nbconvert_exporter": "python",
   "pygments_lexer": "ipython3",
   "version": "3.11.6"
  }
 },
 "nbformat": 4,
 "nbformat_minor": 5
}
