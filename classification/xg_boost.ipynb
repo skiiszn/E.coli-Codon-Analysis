{
 "cells": [
  {
   "cell_type": "code",
   "execution_count": 1,
   "id": "567df7a1-5b56-466e-9fc8-06173da0c45e",
   "metadata": {},
   "outputs": [],
   "source": [
    "import pandas as pd\n",
    "from sklearn.model_selection import train_test_split\n",
    "from sklearn.metrics import accuracy_score, classification_report\n",
    "from sklearn.model_selection import GridSearchCV\n",
    "import matplotlib.pyplot as plt"
   ]
  },
  {
   "cell_type": "code",
   "execution_count": 2,
   "id": "61f062cf-e143-4c49-93b5-39cd4e61e901",
   "metadata": {},
   "outputs": [],
   "source": [
    "import xgboost as xgb\n",
    "from xgboost import XGBClassifier\n",
    "from sklearn.model_selection import cross_val_score"
   ]
  },
  {
   "cell_type": "code",
   "execution_count": 12,
   "id": "4897108b-8456-4ca9-940d-cfc9e3aeadd7",
   "metadata": {},
   "outputs": [],
   "source": [
    "X_train = pd.read_csv('./X_train.csv')\n",
    "y_train = pd.read_csv('./y_train.csv')\n",
    "X_test = pd.read_csv('./X_test.csv')\n",
    "y_test = pd.read_csv('./y_test.csv')"
   ]
  },
  {
   "cell_type": "code",
   "execution_count": 13,
   "id": "691cb00b-e9cc-4d13-9492-3c796f9682b4",
   "metadata": {},
   "outputs": [],
   "source": [
    "%store -r class_weight\n",
    "%store -r X_train_SMOTE\n",
    "%store -r y_train_SMOTE"
   ]
  },
  {
   "cell_type": "code",
   "execution_count": 28,
   "id": "e3696644-d9c0-4e8b-b290-e0a305664364",
   "metadata": {},
   "outputs": [],
   "source": [
    "X_train = pd.DataFrame(X_train.iloc[:, :-1], columns=X_train.columns[:-1])\n",
    "X_test = pd.DataFrame(X_test.iloc[:, :-1], columns=X_test.columns[:-1])\n",
    "#y_train = y_train['Tip']\n",
    "#y_test = y_test['Tip']\n",
    "y_train_SMOTE = pd.DataFrame(y_train_SMOTE, columns=['Tip'])\n",
    "X_train_SMOTE = pd.DataFrame(X_train_SMOTE.iloc[:, :-1], columns=X_train_SMOTE.columns[:-1])"
   ]
  },
  {
   "cell_type": "code",
   "execution_count": 15,
   "id": "2de61de2-b68e-4715-9c43-1ffb64834069",
   "metadata": {},
   "outputs": [],
   "source": [
    "from sklearn.preprocessing import OrdinalEncoder"
   ]
  },
  {
   "cell_type": "code",
   "execution_count": 16,
   "id": "e587d7a0-b6dc-44b8-8dbd-f23bedf2ef72",
   "metadata": {},
   "outputs": [],
   "source": [
    "oe = OrdinalEncoder()"
   ]
  },
  {
   "cell_type": "code",
   "execution_count": 17,
   "id": "bb3d8d3c-1cb5-4db5-9d4f-a77bdc8442dd",
   "metadata": {},
   "outputs": [
    {
     "data": {
      "text/html": [
       "<style>#sk-container-id-1 {color: black;}#sk-container-id-1 pre{padding: 0;}#sk-container-id-1 div.sk-toggleable {background-color: white;}#sk-container-id-1 label.sk-toggleable__label {cursor: pointer;display: block;width: 100%;margin-bottom: 0;padding: 0.3em;box-sizing: border-box;text-align: center;}#sk-container-id-1 label.sk-toggleable__label-arrow:before {content: \"▸\";float: left;margin-right: 0.25em;color: #696969;}#sk-container-id-1 label.sk-toggleable__label-arrow:hover:before {color: black;}#sk-container-id-1 div.sk-estimator:hover label.sk-toggleable__label-arrow:before {color: black;}#sk-container-id-1 div.sk-toggleable__content {max-height: 0;max-width: 0;overflow: hidden;text-align: left;background-color: #f0f8ff;}#sk-container-id-1 div.sk-toggleable__content pre {margin: 0.2em;color: black;border-radius: 0.25em;background-color: #f0f8ff;}#sk-container-id-1 input.sk-toggleable__control:checked~div.sk-toggleable__content {max-height: 200px;max-width: 100%;overflow: auto;}#sk-container-id-1 input.sk-toggleable__control:checked~label.sk-toggleable__label-arrow:before {content: \"▾\";}#sk-container-id-1 div.sk-estimator input.sk-toggleable__control:checked~label.sk-toggleable__label {background-color: #d4ebff;}#sk-container-id-1 div.sk-label input.sk-toggleable__control:checked~label.sk-toggleable__label {background-color: #d4ebff;}#sk-container-id-1 input.sk-hidden--visually {border: 0;clip: rect(1px 1px 1px 1px);clip: rect(1px, 1px, 1px, 1px);height: 1px;margin: -1px;overflow: hidden;padding: 0;position: absolute;width: 1px;}#sk-container-id-1 div.sk-estimator {font-family: monospace;background-color: #f0f8ff;border: 1px dotted black;border-radius: 0.25em;box-sizing: border-box;margin-bottom: 0.5em;}#sk-container-id-1 div.sk-estimator:hover {background-color: #d4ebff;}#sk-container-id-1 div.sk-parallel-item::after {content: \"\";width: 100%;border-bottom: 1px solid gray;flex-grow: 1;}#sk-container-id-1 div.sk-label:hover label.sk-toggleable__label {background-color: #d4ebff;}#sk-container-id-1 div.sk-serial::before {content: \"\";position: absolute;border-left: 1px solid gray;box-sizing: border-box;top: 0;bottom: 0;left: 50%;z-index: 0;}#sk-container-id-1 div.sk-serial {display: flex;flex-direction: column;align-items: center;background-color: white;padding-right: 0.2em;padding-left: 0.2em;position: relative;}#sk-container-id-1 div.sk-item {position: relative;z-index: 1;}#sk-container-id-1 div.sk-parallel {display: flex;align-items: stretch;justify-content: center;background-color: white;position: relative;}#sk-container-id-1 div.sk-item::before, #sk-container-id-1 div.sk-parallel-item::before {content: \"\";position: absolute;border-left: 1px solid gray;box-sizing: border-box;top: 0;bottom: 0;left: 50%;z-index: -1;}#sk-container-id-1 div.sk-parallel-item {display: flex;flex-direction: column;z-index: 1;position: relative;background-color: white;}#sk-container-id-1 div.sk-parallel-item:first-child::after {align-self: flex-end;width: 50%;}#sk-container-id-1 div.sk-parallel-item:last-child::after {align-self: flex-start;width: 50%;}#sk-container-id-1 div.sk-parallel-item:only-child::after {width: 0;}#sk-container-id-1 div.sk-dashed-wrapped {border: 1px dashed gray;margin: 0 0.4em 0.5em 0.4em;box-sizing: border-box;padding-bottom: 0.4em;background-color: white;}#sk-container-id-1 div.sk-label label {font-family: monospace;font-weight: bold;display: inline-block;line-height: 1.2em;}#sk-container-id-1 div.sk-label-container {text-align: center;}#sk-container-id-1 div.sk-container {/* jupyter's `normalize.less` sets `[hidden] { display: none; }` but bootstrap.min.css set `[hidden] { display: none !important; }` so we also need the `!important` here to be able to override the default hidden behavior on the sphinx rendered scikit-learn.org. See: https://github.com/scikit-learn/scikit-learn/issues/21755 */display: inline-block !important;position: relative;}#sk-container-id-1 div.sk-text-repr-fallback {display: none;}</style><div id=\"sk-container-id-1\" class=\"sk-top-container\"><div class=\"sk-text-repr-fallback\"><pre>OrdinalEncoder()</pre><b>In a Jupyter environment, please rerun this cell to show the HTML representation or trust the notebook. <br />On GitHub, the HTML representation is unable to render, please try loading this page with nbviewer.org.</b></div><div class=\"sk-container\" hidden><div class=\"sk-item\"><div class=\"sk-estimator sk-toggleable\"><input class=\"sk-toggleable__control sk-hidden--visually\" id=\"sk-estimator-id-1\" type=\"checkbox\" checked><label for=\"sk-estimator-id-1\" class=\"sk-toggleable__label sk-toggleable__label-arrow\">OrdinalEncoder</label><div class=\"sk-toggleable__content\"><pre>OrdinalEncoder()</pre></div></div></div></div></div>"
      ],
      "text/plain": [
       "OrdinalEncoder()"
      ]
     },
     "execution_count": 17,
     "metadata": {},
     "output_type": "execute_result"
    }
   ],
   "source": [
    "oe.fit(y_train)"
   ]
  },
  {
   "cell_type": "code",
   "execution_count": 18,
   "id": "37109093-8da5-478a-a6e2-bf359c26c0c6",
   "metadata": {},
   "outputs": [],
   "source": [
    "y_train = pd.DataFrame(oe.transform(y_train), columns=y_train.columns)['Tip']"
   ]
  },
  {
   "cell_type": "code",
   "execution_count": 19,
   "id": "55f6062f-89b7-492e-9605-4b7fb05f1132",
   "metadata": {},
   "outputs": [],
   "source": [
    "y_test = pd.DataFrame(oe.transform(y_test), columns=y_test.columns)['Tip']"
   ]
  },
  {
   "cell_type": "code",
   "execution_count": 31,
   "id": "de319ab4-3ad5-44b3-9257-071dc1a7fa34",
   "metadata": {},
   "outputs": [
    {
     "data": {
      "text/html": [
       "<style>#sk-container-id-2 {color: black;}#sk-container-id-2 pre{padding: 0;}#sk-container-id-2 div.sk-toggleable {background-color: white;}#sk-container-id-2 label.sk-toggleable__label {cursor: pointer;display: block;width: 100%;margin-bottom: 0;padding: 0.3em;box-sizing: border-box;text-align: center;}#sk-container-id-2 label.sk-toggleable__label-arrow:before {content: \"▸\";float: left;margin-right: 0.25em;color: #696969;}#sk-container-id-2 label.sk-toggleable__label-arrow:hover:before {color: black;}#sk-container-id-2 div.sk-estimator:hover label.sk-toggleable__label-arrow:before {color: black;}#sk-container-id-2 div.sk-toggleable__content {max-height: 0;max-width: 0;overflow: hidden;text-align: left;background-color: #f0f8ff;}#sk-container-id-2 div.sk-toggleable__content pre {margin: 0.2em;color: black;border-radius: 0.25em;background-color: #f0f8ff;}#sk-container-id-2 input.sk-toggleable__control:checked~div.sk-toggleable__content {max-height: 200px;max-width: 100%;overflow: auto;}#sk-container-id-2 input.sk-toggleable__control:checked~label.sk-toggleable__label-arrow:before {content: \"▾\";}#sk-container-id-2 div.sk-estimator input.sk-toggleable__control:checked~label.sk-toggleable__label {background-color: #d4ebff;}#sk-container-id-2 div.sk-label input.sk-toggleable__control:checked~label.sk-toggleable__label {background-color: #d4ebff;}#sk-container-id-2 input.sk-hidden--visually {border: 0;clip: rect(1px 1px 1px 1px);clip: rect(1px, 1px, 1px, 1px);height: 1px;margin: -1px;overflow: hidden;padding: 0;position: absolute;width: 1px;}#sk-container-id-2 div.sk-estimator {font-family: monospace;background-color: #f0f8ff;border: 1px dotted black;border-radius: 0.25em;box-sizing: border-box;margin-bottom: 0.5em;}#sk-container-id-2 div.sk-estimator:hover {background-color: #d4ebff;}#sk-container-id-2 div.sk-parallel-item::after {content: \"\";width: 100%;border-bottom: 1px solid gray;flex-grow: 1;}#sk-container-id-2 div.sk-label:hover label.sk-toggleable__label {background-color: #d4ebff;}#sk-container-id-2 div.sk-serial::before {content: \"\";position: absolute;border-left: 1px solid gray;box-sizing: border-box;top: 0;bottom: 0;left: 50%;z-index: 0;}#sk-container-id-2 div.sk-serial {display: flex;flex-direction: column;align-items: center;background-color: white;padding-right: 0.2em;padding-left: 0.2em;position: relative;}#sk-container-id-2 div.sk-item {position: relative;z-index: 1;}#sk-container-id-2 div.sk-parallel {display: flex;align-items: stretch;justify-content: center;background-color: white;position: relative;}#sk-container-id-2 div.sk-item::before, #sk-container-id-2 div.sk-parallel-item::before {content: \"\";position: absolute;border-left: 1px solid gray;box-sizing: border-box;top: 0;bottom: 0;left: 50%;z-index: -1;}#sk-container-id-2 div.sk-parallel-item {display: flex;flex-direction: column;z-index: 1;position: relative;background-color: white;}#sk-container-id-2 div.sk-parallel-item:first-child::after {align-self: flex-end;width: 50%;}#sk-container-id-2 div.sk-parallel-item:last-child::after {align-self: flex-start;width: 50%;}#sk-container-id-2 div.sk-parallel-item:only-child::after {width: 0;}#sk-container-id-2 div.sk-dashed-wrapped {border: 1px dashed gray;margin: 0 0.4em 0.5em 0.4em;box-sizing: border-box;padding-bottom: 0.4em;background-color: white;}#sk-container-id-2 div.sk-label label {font-family: monospace;font-weight: bold;display: inline-block;line-height: 1.2em;}#sk-container-id-2 div.sk-label-container {text-align: center;}#sk-container-id-2 div.sk-container {/* jupyter's `normalize.less` sets `[hidden] { display: none; }` but bootstrap.min.css set `[hidden] { display: none !important; }` so we also need the `!important` here to be able to override the default hidden behavior on the sphinx rendered scikit-learn.org. See: https://github.com/scikit-learn/scikit-learn/issues/21755 */display: inline-block !important;position: relative;}#sk-container-id-2 div.sk-text-repr-fallback {display: none;}</style><div id=\"sk-container-id-2\" class=\"sk-top-container\"><div class=\"sk-text-repr-fallback\"><pre>OrdinalEncoder()</pre><b>In a Jupyter environment, please rerun this cell to show the HTML representation or trust the notebook. <br />On GitHub, the HTML representation is unable to render, please try loading this page with nbviewer.org.</b></div><div class=\"sk-container\" hidden><div class=\"sk-item\"><div class=\"sk-estimator sk-toggleable\"><input class=\"sk-toggleable__control sk-hidden--visually\" id=\"sk-estimator-id-2\" type=\"checkbox\" checked><label for=\"sk-estimator-id-2\" class=\"sk-toggleable__label sk-toggleable__label-arrow\">OrdinalEncoder</label><div class=\"sk-toggleable__content\"><pre>OrdinalEncoder()</pre></div></div></div></div></div>"
      ],
      "text/plain": [
       "OrdinalEncoder()"
      ]
     },
     "execution_count": 31,
     "metadata": {},
     "output_type": "execute_result"
    }
   ],
   "source": [
    "oe.fit(y_train_SMOTE)"
   ]
  },
  {
   "cell_type": "code",
   "execution_count": 32,
   "id": "b3a56ea6-a8f1-4ef6-99ed-51b2837ed329",
   "metadata": {},
   "outputs": [],
   "source": [
    "y_train_SMOTE = pd.DataFrame(oe.transform(y_train_SMOTE), columns=y_train_SMOTE.columns)['Tip']"
   ]
  },
  {
   "cell_type": "code",
   "execution_count": 36,
   "id": "33f73fbb-4638-4489-bc98-b8652ceec996",
   "metadata": {},
   "outputs": [
    {
     "data": {
      "text/plain": [
       "array([0.3591716 , 1.10363636, 0.3591716 , 1.10363636, 0.3591716 ,\n",
       "       1.61866667, 0.3591716 , 1.73428571, 0.3591716 , 8.67142857,\n",
       "       0.3591716 , 0.3591716 , 1.73428571, 0.3591716 , 1.61866667,\n",
       "       1.10363636, 1.10363636, 0.3591716 , 0.3591716 , 0.3591716 ,\n",
       "       1.10363636, 0.3591716 , 1.61866667, 8.67142857, 1.10363636,\n",
       "       1.10363636, 1.10363636, 0.3591716 , 0.3591716 , 0.3591716 ,\n",
       "       1.10363636, 0.3591716 , 0.3591716 , 0.3591716 , 8.67142857,\n",
       "       1.10363636, 0.3591716 , 0.3591716 , 0.3591716 , 1.61866667,\n",
       "       1.73428571, 0.3591716 , 0.3591716 , 0.3591716 , 1.73428571,\n",
       "       0.3591716 , 0.3591716 , 0.3591716 , 0.3591716 , 1.61866667,\n",
       "       0.3591716 , 1.10363636, 0.3591716 , 1.10363636, 0.3591716 ,\n",
       "       1.61866667, 0.3591716 , 0.3591716 , 0.3591716 , 0.3591716 ,\n",
       "       0.3591716 , 1.61866667, 1.73428571, 1.10363636, 0.3591716 ,\n",
       "       0.3591716 , 0.3591716 , 0.3591716 , 8.67142857, 1.10363636,\n",
       "       0.3591716 , 0.3591716 , 1.61866667, 8.67142857, 0.3591716 ,\n",
       "       0.3591716 , 0.3591716 , 0.3591716 , 0.3591716 , 1.61866667,\n",
       "       1.61866667, 0.3591716 , 1.61866667, 0.3591716 , 8.67142857,\n",
       "       8.67142857, 0.3591716 , 0.3591716 , 1.61866667, 1.61866667,\n",
       "       0.3591716 , 0.3591716 , 0.3591716 , 0.3591716 , 1.61866667,\n",
       "       1.61866667, 1.61866667, 1.73428571, 0.3591716 , 0.3591716 ,\n",
       "       0.3591716 , 1.61866667, 0.3591716 , 0.3591716 , 1.73428571,\n",
       "       0.3591716 , 1.10363636, 1.73428571, 1.10363636, 0.3591716 ,\n",
       "       1.10363636, 0.3591716 , 0.3591716 , 0.3591716 , 0.3591716 ,\n",
       "       0.3591716 , 0.3591716 , 0.3591716 , 1.73428571, 1.61866667,\n",
       "       0.3591716 , 1.10363636, 1.10363636, 1.10363636, 0.3591716 ,\n",
       "       1.10363636, 1.61866667, 1.61866667, 0.3591716 , 0.3591716 ,\n",
       "       1.73428571, 0.3591716 , 0.3591716 , 0.3591716 , 0.3591716 ,\n",
       "       1.10363636, 1.73428571, 0.3591716 , 0.3591716 , 1.10363636,\n",
       "       1.10363636, 0.3591716 , 1.10363636, 0.3591716 , 0.3591716 ,\n",
       "       0.3591716 , 0.3591716 , 0.3591716 , 0.3591716 , 0.3591716 ,\n",
       "       0.3591716 , 8.67142857, 0.3591716 , 0.3591716 , 1.73428571,\n",
       "       1.73428571, 1.73428571, 1.61866667, 0.3591716 , 1.73428571,\n",
       "       0.3591716 , 0.3591716 , 0.3591716 , 0.3591716 , 1.10363636,\n",
       "       1.10363636, 1.73428571, 0.3591716 , 0.3591716 , 0.3591716 ,\n",
       "       0.3591716 , 0.3591716 , 0.3591716 , 1.73428571, 0.3591716 ,\n",
       "       1.10363636, 0.3591716 , 1.10363636, 1.73428571, 0.3591716 ,\n",
       "       1.10363636, 1.73428571, 0.3591716 , 0.3591716 , 0.3591716 ,\n",
       "       1.61866667, 0.3591716 , 1.61866667, 0.3591716 , 1.10363636,\n",
       "       1.61866667, 0.3591716 , 1.10363636, 1.73428571, 1.10363636,\n",
       "       0.3591716 , 0.3591716 , 0.3591716 , 0.3591716 , 1.61866667,\n",
       "       1.61866667, 1.73428571, 1.73428571, 0.3591716 , 0.3591716 ,\n",
       "       0.3591716 , 1.10363636, 1.73428571, 0.3591716 , 0.3591716 ,\n",
       "       8.67142857, 0.3591716 , 1.61866667, 1.73428571, 0.3591716 ,\n",
       "       1.10363636, 0.3591716 , 0.3591716 , 1.10363636, 0.3591716 ,\n",
       "       1.61866667, 0.3591716 , 0.3591716 , 0.3591716 , 0.3591716 ,\n",
       "       1.73428571, 0.3591716 , 1.73428571, 0.3591716 , 0.3591716 ,\n",
       "       1.73428571, 1.61866667, 0.3591716 , 0.3591716 , 0.3591716 ,\n",
       "       1.10363636, 1.61866667, 0.3591716 , 0.3591716 , 0.3591716 ,\n",
       "       1.73428571, 0.3591716 , 0.3591716 , 0.3591716 , 1.73428571,\n",
       "       0.3591716 , 0.3591716 , 0.3591716 , 1.73428571, 0.3591716 ,\n",
       "       1.10363636, 1.61866667, 1.10363636, 0.3591716 , 0.3591716 ,\n",
       "       1.10363636, 0.3591716 , 0.3591716 , 0.3591716 , 0.3591716 ,\n",
       "       0.3591716 , 1.10363636, 1.73428571, 1.73428571, 1.10363636,\n",
       "       1.61866667, 0.3591716 , 1.10363636, 1.10363636, 0.3591716 ,\n",
       "       1.10363636, 0.3591716 , 0.3591716 , 1.10363636, 1.10363636,\n",
       "       1.10363636, 0.3591716 , 1.61866667, 0.3591716 , 0.3591716 ,\n",
       "       0.3591716 , 1.61866667, 1.10363636, 0.3591716 , 1.73428571,\n",
       "       0.3591716 , 1.73428571, 0.3591716 , 0.3591716 , 1.61866667,\n",
       "       0.3591716 , 0.3591716 , 0.3591716 , 0.3591716 , 0.3591716 ,\n",
       "       1.61866667, 1.10363636, 0.3591716 , 1.73428571, 0.3591716 ,\n",
       "       0.3591716 , 1.61866667, 0.3591716 , 0.3591716 , 1.61866667,\n",
       "       0.3591716 , 0.3591716 , 0.3591716 , 1.61866667, 1.73428571,\n",
       "       0.3591716 , 0.3591716 , 0.3591716 , 1.10363636, 1.10363636,\n",
       "       0.3591716 , 1.73428571, 0.3591716 , 0.3591716 , 0.3591716 ,\n",
       "       0.3591716 , 0.3591716 , 0.3591716 , 1.73428571, 1.10363636,\n",
       "       0.3591716 , 0.3591716 , 1.10363636, 0.3591716 , 0.3591716 ,\n",
       "       0.3591716 , 0.3591716 , 1.61866667, 1.10363636, 0.3591716 ,\n",
       "       0.3591716 , 1.10363636, 1.61866667, 0.3591716 , 1.61866667,\n",
       "       0.3591716 , 1.73428571, 0.3591716 , 1.61866667, 1.61866667,\n",
       "       0.3591716 , 1.10363636, 0.3591716 , 1.73428571, 1.61866667,\n",
       "       1.61866667, 0.3591716 , 1.73428571, 0.3591716 , 0.3591716 ,\n",
       "       0.3591716 , 1.10363636, 0.3591716 , 1.10363636, 0.3591716 ,\n",
       "       0.3591716 , 1.10363636, 0.3591716 , 1.10363636, 1.73428571,\n",
       "       1.10363636, 0.3591716 , 1.10363636, 0.3591716 , 0.3591716 ,\n",
       "       0.3591716 , 0.3591716 , 0.3591716 , 1.10363636, 0.3591716 ,\n",
       "       1.61866667, 0.3591716 , 1.73428571, 1.73428571, 0.3591716 ,\n",
       "       1.73428571, 0.3591716 , 0.3591716 , 0.3591716 , 0.3591716 ,\n",
       "       1.73428571, 0.3591716 , 1.10363636, 8.67142857, 0.3591716 ,\n",
       "       0.3591716 , 0.3591716 , 1.73428571, 1.73428571, 1.10363636,\n",
       "       1.10363636, 0.3591716 , 0.3591716 , 1.73428571, 1.10363636,\n",
       "       0.3591716 , 1.10363636, 0.3591716 , 0.3591716 , 0.3591716 ,\n",
       "       1.61866667, 1.10363636, 1.61866667, 1.10363636, 1.10363636,\n",
       "       0.3591716 , 1.10363636, 0.3591716 , 1.10363636, 0.3591716 ,\n",
       "       0.3591716 , 0.3591716 , 0.3591716 , 1.61866667, 0.3591716 ,\n",
       "       1.10363636, 1.73428571, 1.73428571, 1.61866667, 1.10363636,\n",
       "       1.61866667, 1.61866667, 1.73428571, 1.61866667, 0.3591716 ,\n",
       "       1.73428571, 1.10363636, 0.3591716 , 1.61866667, 1.10363636,\n",
       "       1.10363636, 0.3591716 , 0.3591716 , 1.61866667, 1.10363636,\n",
       "       0.3591716 , 1.61866667, 1.10363636, 1.10363636, 1.73428571,\n",
       "       0.3591716 , 8.67142857, 0.3591716 , 0.3591716 , 1.10363636,\n",
       "       0.3591716 , 1.61866667, 1.61866667, 1.10363636, 0.3591716 ,\n",
       "       1.10363636, 1.73428571, 1.73428571, 1.61866667, 1.73428571,\n",
       "       1.61866667, 0.3591716 , 1.73428571, 0.3591716 , 0.3591716 ,\n",
       "       1.10363636, 0.3591716 , 0.3591716 , 0.3591716 , 0.3591716 ,\n",
       "       1.73428571, 1.73428571, 1.73428571, 0.3591716 , 0.3591716 ,\n",
       "       0.3591716 , 1.61866667, 0.3591716 , 0.3591716 , 1.73428571,\n",
       "       1.10363636, 0.3591716 , 0.3591716 , 1.61866667, 0.3591716 ,\n",
       "       0.3591716 , 1.61866667, 1.61866667, 0.3591716 , 1.10363636,\n",
       "       1.73428571, 0.3591716 , 0.3591716 , 0.3591716 , 1.10363636,\n",
       "       8.67142857, 1.10363636, 0.3591716 , 1.73428571, 0.3591716 ,\n",
       "       0.3591716 , 0.3591716 , 1.10363636, 0.3591716 , 1.10363636,\n",
       "       1.61866667, 8.67142857, 8.67142857, 0.3591716 , 0.3591716 ,\n",
       "       1.73428571, 0.3591716 , 1.61866667, 1.10363636, 0.3591716 ,\n",
       "       0.3591716 , 0.3591716 , 0.3591716 , 0.3591716 , 0.3591716 ,\n",
       "       0.3591716 , 0.3591716 , 0.3591716 , 1.10363636, 0.3591716 ,\n",
       "       0.3591716 , 0.3591716 , 1.10363636, 1.61866667, 0.3591716 ,\n",
       "       0.3591716 , 0.3591716 , 0.3591716 , 1.10363636, 0.3591716 ,\n",
       "       0.3591716 , 0.3591716 , 1.10363636, 0.3591716 , 1.61866667,\n",
       "       0.3591716 , 0.3591716 , 1.10363636, 1.10363636, 0.3591716 ,\n",
       "       1.10363636, 1.10363636, 0.3591716 , 0.3591716 , 1.10363636,\n",
       "       0.3591716 , 1.10363636, 0.3591716 , 0.3591716 , 1.10363636,\n",
       "       1.61866667, 0.3591716 , 0.3591716 , 0.3591716 , 1.61866667,\n",
       "       1.61866667, 0.3591716 , 1.73428571, 0.3591716 , 0.3591716 ,\n",
       "       0.3591716 , 0.3591716 , 1.61866667, 0.3591716 , 1.73428571,\n",
       "       0.3591716 , 1.73428571, 0.3591716 , 1.10363636, 1.10363636,\n",
       "       0.3591716 , 0.3591716 , 0.3591716 , 0.3591716 , 0.3591716 ,\n",
       "       0.3591716 , 0.3591716 , 0.3591716 , 0.3591716 , 0.3591716 ,\n",
       "       0.3591716 , 0.3591716 , 1.10363636, 1.73428571, 0.3591716 ,\n",
       "       1.73428571, 1.10363636, 0.3591716 , 0.3591716 , 0.3591716 ,\n",
       "       1.10363636, 0.3591716 , 0.3591716 , 0.3591716 , 1.61866667,\n",
       "       0.3591716 , 1.61866667, 0.3591716 , 0.3591716 , 0.3591716 ,\n",
       "       1.10363636, 0.3591716 ])"
      ]
     },
     "execution_count": 36,
     "metadata": {},
     "output_type": "execute_result"
    }
   ],
   "source": [
    "from sklearn.utils import class_weight\n",
    "classes_weights = class_weight.compute_sample_weight(\n",
    "    class_weight='balanced',\n",
    "    y=y_train\n",
    ")\n",
    "classes_weights"
   ]
  },
  {
   "cell_type": "code",
   "execution_count": null,
   "id": "d7f0c2cf-51ab-40f0-81ff-6764d37a076d",
   "metadata": {},
   "outputs": [],
   "source": []
  },
  {
   "cell_type": "code",
   "execution_count": 20,
   "id": "6dc43547-d320-4cea-a9d1-1bbe34a82f16",
   "metadata": {},
   "outputs": [
    {
     "name": "stdout",
     "output_type": "stream",
     "text": [
      "Fitting 5 folds for each of 24 candidates, totalling 120 fits\n",
      "[CV 1/5] END booster=gbtree, learning_rate=0.1, max_leaves=0, n_estimators=100;, score=0.795 total time=   2.4s\n",
      "[CV 2/5] END booster=gbtree, learning_rate=0.1, max_leaves=0, n_estimators=100;, score=0.803 total time=   0.8s\n",
      "[CV 3/5] END booster=gbtree, learning_rate=0.1, max_leaves=0, n_estimators=100;, score=0.884 total time=   0.8s\n",
      "[CV 4/5] END booster=gbtree, learning_rate=0.1, max_leaves=0, n_estimators=100;, score=0.843 total time=   0.8s\n",
      "[CV 5/5] END booster=gbtree, learning_rate=0.1, max_leaves=0, n_estimators=100;, score=0.843 total time=   0.8s\n",
      "[CV 1/5] END booster=gbtree, learning_rate=0.1, max_leaves=0, n_estimators=200;, score=0.795 total time=   1.1s\n",
      "[CV 2/5] END booster=gbtree, learning_rate=0.1, max_leaves=0, n_estimators=200;, score=0.787 total time=   1.2s\n",
      "[CV 3/5] END booster=gbtree, learning_rate=0.1, max_leaves=0, n_estimators=200;, score=0.876 total time=   1.2s\n",
      "[CV 4/5] END booster=gbtree, learning_rate=0.1, max_leaves=0, n_estimators=200;, score=0.843 total time=   1.3s\n",
      "[CV 5/5] END booster=gbtree, learning_rate=0.1, max_leaves=0, n_estimators=200;, score=0.835 total time=   1.2s\n",
      "[CV 1/5] END booster=gbtree, learning_rate=0.1, max_leaves=0, n_estimators=300;, score=0.795 total time=   1.5s\n",
      "[CV 2/5] END booster=gbtree, learning_rate=0.1, max_leaves=0, n_estimators=300;, score=0.770 total time=   1.5s\n",
      "[CV 3/5] END booster=gbtree, learning_rate=0.1, max_leaves=0, n_estimators=300;, score=0.884 total time=   1.6s\n",
      "[CV 4/5] END booster=gbtree, learning_rate=0.1, max_leaves=0, n_estimators=300;, score=0.851 total time=   1.6s\n",
      "[CV 5/5] END booster=gbtree, learning_rate=0.1, max_leaves=0, n_estimators=300;, score=0.826 total time=   1.5s\n",
      "[CV 1/5] END booster=gbtree, learning_rate=0.1, max_leaves=5, n_estimators=100;, score=0.811 total time=   0.4s\n",
      "[CV 2/5] END booster=gbtree, learning_rate=0.1, max_leaves=5, n_estimators=100;, score=0.795 total time=   0.4s\n",
      "[CV 3/5] END booster=gbtree, learning_rate=0.1, max_leaves=5, n_estimators=100;, score=0.851 total time=   0.4s\n",
      "[CV 4/5] END booster=gbtree, learning_rate=0.1, max_leaves=5, n_estimators=100;, score=0.826 total time=   0.4s\n",
      "[CV 5/5] END booster=gbtree, learning_rate=0.1, max_leaves=5, n_estimators=100;, score=0.810 total time=   0.4s\n",
      "[CV 1/5] END booster=gbtree, learning_rate=0.1, max_leaves=5, n_estimators=200;, score=0.811 total time=   0.8s\n",
      "[CV 2/5] END booster=gbtree, learning_rate=0.1, max_leaves=5, n_estimators=200;, score=0.795 total time=   0.8s\n",
      "[CV 3/5] END booster=gbtree, learning_rate=0.1, max_leaves=5, n_estimators=200;, score=0.860 total time=   0.8s\n",
      "[CV 4/5] END booster=gbtree, learning_rate=0.1, max_leaves=5, n_estimators=200;, score=0.818 total time=   0.8s\n",
      "[CV 5/5] END booster=gbtree, learning_rate=0.1, max_leaves=5, n_estimators=200;, score=0.843 total time=   0.8s\n",
      "[CV 1/5] END booster=gbtree, learning_rate=0.1, max_leaves=5, n_estimators=300;, score=0.811 total time=   1.2s\n",
      "[CV 2/5] END booster=gbtree, learning_rate=0.1, max_leaves=5, n_estimators=300;, score=0.795 total time=   1.2s\n",
      "[CV 3/5] END booster=gbtree, learning_rate=0.1, max_leaves=5, n_estimators=300;, score=0.876 total time=   1.2s\n",
      "[CV 4/5] END booster=gbtree, learning_rate=0.1, max_leaves=5, n_estimators=300;, score=0.826 total time=   1.2s\n",
      "[CV 5/5] END booster=gbtree, learning_rate=0.1, max_leaves=5, n_estimators=300;, score=0.843 total time=   1.2s\n",
      "[CV 1/5] END booster=gbtree, learning_rate=0.2, max_leaves=0, n_estimators=100;, score=0.795 total time=   0.6s\n",
      "[CV 2/5] END booster=gbtree, learning_rate=0.2, max_leaves=0, n_estimators=100;, score=0.770 total time=   0.5s\n",
      "[CV 3/5] END booster=gbtree, learning_rate=0.2, max_leaves=0, n_estimators=100;, score=0.876 total time=   0.6s\n",
      "[CV 4/5] END booster=gbtree, learning_rate=0.2, max_leaves=0, n_estimators=100;, score=0.843 total time=   0.7s\n",
      "[CV 5/5] END booster=gbtree, learning_rate=0.2, max_leaves=0, n_estimators=100;, score=0.835 total time=   0.7s\n",
      "[CV 1/5] END booster=gbtree, learning_rate=0.2, max_leaves=0, n_estimators=200;, score=0.795 total time=   0.9s\n",
      "[CV 2/5] END booster=gbtree, learning_rate=0.2, max_leaves=0, n_estimators=200;, score=0.770 total time=   1.0s\n",
      "[CV 3/5] END booster=gbtree, learning_rate=0.2, max_leaves=0, n_estimators=200;, score=0.884 total time=   1.0s\n",
      "[CV 4/5] END booster=gbtree, learning_rate=0.2, max_leaves=0, n_estimators=200;, score=0.843 total time=   1.0s\n",
      "[CV 5/5] END booster=gbtree, learning_rate=0.2, max_leaves=0, n_estimators=200;, score=0.818 total time=   0.9s\n",
      "[CV 1/5] END booster=gbtree, learning_rate=0.2, max_leaves=0, n_estimators=300;, score=0.795 total time=   1.2s\n",
      "[CV 2/5] END booster=gbtree, learning_rate=0.2, max_leaves=0, n_estimators=300;, score=0.770 total time=   1.3s\n",
      "[CV 3/5] END booster=gbtree, learning_rate=0.2, max_leaves=0, n_estimators=300;, score=0.876 total time=   1.3s\n",
      "[CV 4/5] END booster=gbtree, learning_rate=0.2, max_leaves=0, n_estimators=300;, score=0.843 total time=   1.3s\n",
      "[CV 5/5] END booster=gbtree, learning_rate=0.2, max_leaves=0, n_estimators=300;, score=0.826 total time=   1.4s\n",
      "[CV 1/5] END booster=gbtree, learning_rate=0.2, max_leaves=5, n_estimators=100;, score=0.820 total time=   0.4s\n",
      "[CV 2/5] END booster=gbtree, learning_rate=0.2, max_leaves=5, n_estimators=100;, score=0.779 total time=   0.4s\n",
      "[CV 3/5] END booster=gbtree, learning_rate=0.2, max_leaves=5, n_estimators=100;, score=0.868 total time=   0.4s\n",
      "[CV 4/5] END booster=gbtree, learning_rate=0.2, max_leaves=5, n_estimators=100;, score=0.826 total time=   0.4s\n",
      "[CV 5/5] END booster=gbtree, learning_rate=0.2, max_leaves=5, n_estimators=100;, score=0.860 total time=   0.4s\n",
      "[CV 1/5] END booster=gbtree, learning_rate=0.2, max_leaves=5, n_estimators=200;, score=0.828 total time=   0.8s\n",
      "[CV 2/5] END booster=gbtree, learning_rate=0.2, max_leaves=5, n_estimators=200;, score=0.795 total time=   0.8s\n",
      "[CV 3/5] END booster=gbtree, learning_rate=0.2, max_leaves=5, n_estimators=200;, score=0.893 total time=   0.8s\n",
      "[CV 4/5] END booster=gbtree, learning_rate=0.2, max_leaves=5, n_estimators=200;, score=0.826 total time=   0.8s\n",
      "[CV 5/5] END booster=gbtree, learning_rate=0.2, max_leaves=5, n_estimators=200;, score=0.843 total time=   0.8s\n",
      "[CV 1/5] END booster=gbtree, learning_rate=0.2, max_leaves=5, n_estimators=300;, score=0.828 total time=   1.1s\n",
      "[CV 2/5] END booster=gbtree, learning_rate=0.2, max_leaves=5, n_estimators=300;, score=0.795 total time=   1.1s\n",
      "[CV 3/5] END booster=gbtree, learning_rate=0.2, max_leaves=5, n_estimators=300;, score=0.901 total time=   1.1s\n",
      "[CV 4/5] END booster=gbtree, learning_rate=0.2, max_leaves=5, n_estimators=300;, score=0.826 total time=   1.1s\n",
      "[CV 5/5] END booster=gbtree, learning_rate=0.2, max_leaves=5, n_estimators=300;, score=0.843 total time=   1.0s\n",
      "[CV 1/5] END booster=gblinear, learning_rate=0.1, max_leaves=0, n_estimators=100;, score=0.574 total time=   0.0s\n"
     ]
    },
    {
     "name": "stderr",
     "output_type": "stream",
     "text": [
      "C:\\Users\\mihai\\anaconda3\\Lib\\site-packages\\xgboost\\core.py:160: UserWarning: [05:05:09] WARNING: C:\\buildkite-agent\\builds\\buildkite-windows-cpu-autoscaling-group-i-0b3782d1791676daf-1\\xgboost\\xgboost-ci-windows\\src\\learner.cc:742: \n",
      "Parameters: { \"max_leaves\" } are not used.\n",
      "\n",
      "  warnings.warn(smsg, UserWarning)\n",
      "C:\\Users\\mihai\\anaconda3\\Lib\\site-packages\\xgboost\\core.py:160: UserWarning: [05:05:09] WARNING: C:\\buildkite-agent\\builds\\buildkite-windows-cpu-autoscaling-group-i-0b3782d1791676daf-1\\xgboost\\xgboost-ci-windows\\src\\learner.cc:742: \n",
      "Parameters: { \"max_leaves\" } are not used.\n",
      "\n",
      "  warnings.warn(smsg, UserWarning)\n",
      "C:\\Users\\mihai\\anaconda3\\Lib\\site-packages\\xgboost\\core.py:160: UserWarning: [05:05:09] WARNING: C:\\buildkite-agent\\builds\\buildkite-windows-cpu-autoscaling-group-i-0b3782d1791676daf-1\\xgboost\\xgboost-ci-windows\\src\\learner.cc:742: \n",
      "Parameters: { \"max_leaves\" } are not used.\n",
      "\n",
      "  warnings.warn(smsg, UserWarning)\n"
     ]
    },
    {
     "name": "stdout",
     "output_type": "stream",
     "text": [
      "[CV 2/5] END booster=gblinear, learning_rate=0.1, max_leaves=0, n_estimators=100;, score=0.623 total time=   0.0s\n",
      "[CV 3/5] END booster=gblinear, learning_rate=0.1, max_leaves=0, n_estimators=100;, score=0.653 total time=   0.0s\n"
     ]
    },
    {
     "name": "stderr",
     "output_type": "stream",
     "text": [
      "C:\\Users\\mihai\\anaconda3\\Lib\\site-packages\\xgboost\\core.py:160: UserWarning: [05:05:09] WARNING: C:\\buildkite-agent\\builds\\buildkite-windows-cpu-autoscaling-group-i-0b3782d1791676daf-1\\xgboost\\xgboost-ci-windows\\src\\learner.cc:742: \n",
      "Parameters: { \"max_leaves\" } are not used.\n",
      "\n",
      "  warnings.warn(smsg, UserWarning)\n",
      "C:\\Users\\mihai\\anaconda3\\Lib\\site-packages\\xgboost\\core.py:160: UserWarning: [05:05:09] WARNING: C:\\buildkite-agent\\builds\\buildkite-windows-cpu-autoscaling-group-i-0b3782d1791676daf-1\\xgboost\\xgboost-ci-windows\\src\\learner.cc:742: \n",
      "Parameters: { \"max_leaves\" } are not used.\n",
      "\n",
      "  warnings.warn(smsg, UserWarning)\n",
      "C:\\Users\\mihai\\anaconda3\\Lib\\site-packages\\xgboost\\core.py:160: UserWarning: [05:05:10] WARNING: C:\\buildkite-agent\\builds\\buildkite-windows-cpu-autoscaling-group-i-0b3782d1791676daf-1\\xgboost\\xgboost-ci-windows\\src\\learner.cc:742: \n",
      "Parameters: { \"max_leaves\" } are not used.\n",
      "\n",
      "  warnings.warn(smsg, UserWarning)\n"
     ]
    },
    {
     "name": "stdout",
     "output_type": "stream",
     "text": [
      "[CV 4/5] END booster=gblinear, learning_rate=0.1, max_leaves=0, n_estimators=100;, score=0.661 total time=   0.0s\n",
      "[CV 5/5] END booster=gblinear, learning_rate=0.1, max_leaves=0, n_estimators=100;, score=0.636 total time=   0.0s\n",
      "[CV 1/5] END booster=gblinear, learning_rate=0.1, max_leaves=0, n_estimators=200;, score=0.574 total time=   0.1s\n",
      "[CV 2/5] END booster=gblinear, learning_rate=0.1, max_leaves=0, n_estimators=200;, score=0.623 total time=   0.1s\n"
     ]
    },
    {
     "name": "stderr",
     "output_type": "stream",
     "text": [
      "C:\\Users\\mihai\\anaconda3\\Lib\\site-packages\\xgboost\\core.py:160: UserWarning: [05:05:10] WARNING: C:\\buildkite-agent\\builds\\buildkite-windows-cpu-autoscaling-group-i-0b3782d1791676daf-1\\xgboost\\xgboost-ci-windows\\src\\learner.cc:742: \n",
      "Parameters: { \"max_leaves\" } are not used.\n",
      "\n",
      "  warnings.warn(smsg, UserWarning)\n",
      "C:\\Users\\mihai\\anaconda3\\Lib\\site-packages\\xgboost\\core.py:160: UserWarning: [05:05:10] WARNING: C:\\buildkite-agent\\builds\\buildkite-windows-cpu-autoscaling-group-i-0b3782d1791676daf-1\\xgboost\\xgboost-ci-windows\\src\\learner.cc:742: \n",
      "Parameters: { \"max_leaves\" } are not used.\n",
      "\n",
      "  warnings.warn(smsg, UserWarning)\n"
     ]
    },
    {
     "name": "stdout",
     "output_type": "stream",
     "text": [
      "[CV 3/5] END booster=gblinear, learning_rate=0.1, max_leaves=0, n_estimators=200;, score=0.661 total time=   0.1s\n",
      "[CV 4/5] END booster=gblinear, learning_rate=0.1, max_leaves=0, n_estimators=200;, score=0.661 total time=   0.1s\n"
     ]
    },
    {
     "name": "stderr",
     "output_type": "stream",
     "text": [
      "C:\\Users\\mihai\\anaconda3\\Lib\\site-packages\\xgboost\\core.py:160: UserWarning: [05:05:10] WARNING: C:\\buildkite-agent\\builds\\buildkite-windows-cpu-autoscaling-group-i-0b3782d1791676daf-1\\xgboost\\xgboost-ci-windows\\src\\learner.cc:742: \n",
      "Parameters: { \"max_leaves\" } are not used.\n",
      "\n",
      "  warnings.warn(smsg, UserWarning)\n",
      "C:\\Users\\mihai\\anaconda3\\Lib\\site-packages\\xgboost\\core.py:160: UserWarning: [05:05:10] WARNING: C:\\buildkite-agent\\builds\\buildkite-windows-cpu-autoscaling-group-i-0b3782d1791676daf-1\\xgboost\\xgboost-ci-windows\\src\\learner.cc:742: \n",
      "Parameters: { \"max_leaves\" } are not used.\n",
      "\n",
      "  warnings.warn(smsg, UserWarning)\n"
     ]
    },
    {
     "name": "stdout",
     "output_type": "stream",
     "text": [
      "[CV 5/5] END booster=gblinear, learning_rate=0.1, max_leaves=0, n_estimators=200;, score=0.636 total time=   0.1s\n"
     ]
    },
    {
     "name": "stderr",
     "output_type": "stream",
     "text": [
      "C:\\Users\\mihai\\anaconda3\\Lib\\site-packages\\xgboost\\core.py:160: UserWarning: [05:05:10] WARNING: C:\\buildkite-agent\\builds\\buildkite-windows-cpu-autoscaling-group-i-0b3782d1791676daf-1\\xgboost\\xgboost-ci-windows\\src\\learner.cc:742: \n",
      "Parameters: { \"max_leaves\" } are not used.\n",
      "\n",
      "  warnings.warn(smsg, UserWarning)\n"
     ]
    },
    {
     "name": "stdout",
     "output_type": "stream",
     "text": [
      "[CV 1/5] END booster=gblinear, learning_rate=0.1, max_leaves=0, n_estimators=300;, score=0.639 total time=   0.2s\n"
     ]
    },
    {
     "name": "stderr",
     "output_type": "stream",
     "text": [
      "C:\\Users\\mihai\\anaconda3\\Lib\\site-packages\\xgboost\\core.py:160: UserWarning: [05:05:11] WARNING: C:\\buildkite-agent\\builds\\buildkite-windows-cpu-autoscaling-group-i-0b3782d1791676daf-1\\xgboost\\xgboost-ci-windows\\src\\learner.cc:742: \n",
      "Parameters: { \"max_leaves\" } are not used.\n",
      "\n",
      "  warnings.warn(smsg, UserWarning)\n"
     ]
    },
    {
     "name": "stdout",
     "output_type": "stream",
     "text": [
      "[CV 2/5] END booster=gblinear, learning_rate=0.1, max_leaves=0, n_estimators=300;, score=0.697 total time=   0.2s\n"
     ]
    },
    {
     "name": "stderr",
     "output_type": "stream",
     "text": [
      "C:\\Users\\mihai\\anaconda3\\Lib\\site-packages\\xgboost\\core.py:160: UserWarning: [05:05:11] WARNING: C:\\buildkite-agent\\builds\\buildkite-windows-cpu-autoscaling-group-i-0b3782d1791676daf-1\\xgboost\\xgboost-ci-windows\\src\\learner.cc:742: \n",
      "Parameters: { \"max_leaves\" } are not used.\n",
      "\n",
      "  warnings.warn(smsg, UserWarning)\n"
     ]
    },
    {
     "name": "stdout",
     "output_type": "stream",
     "text": [
      "[CV 3/5] END booster=gblinear, learning_rate=0.1, max_leaves=0, n_estimators=300;, score=0.736 total time=   0.1s\n"
     ]
    },
    {
     "name": "stderr",
     "output_type": "stream",
     "text": [
      "C:\\Users\\mihai\\anaconda3\\Lib\\site-packages\\xgboost\\core.py:160: UserWarning: [05:05:11] WARNING: C:\\buildkite-agent\\builds\\buildkite-windows-cpu-autoscaling-group-i-0b3782d1791676daf-1\\xgboost\\xgboost-ci-windows\\src\\learner.cc:742: \n",
      "Parameters: { \"max_leaves\" } are not used.\n",
      "\n",
      "  warnings.warn(smsg, UserWarning)\n"
     ]
    },
    {
     "name": "stdout",
     "output_type": "stream",
     "text": [
      "[CV 4/5] END booster=gblinear, learning_rate=0.1, max_leaves=0, n_estimators=300;, score=0.686 total time=   0.2s\n"
     ]
    },
    {
     "name": "stderr",
     "output_type": "stream",
     "text": [
      "C:\\Users\\mihai\\anaconda3\\Lib\\site-packages\\xgboost\\core.py:160: UserWarning: [05:05:11] WARNING: C:\\buildkite-agent\\builds\\buildkite-windows-cpu-autoscaling-group-i-0b3782d1791676daf-1\\xgboost\\xgboost-ci-windows\\src\\learner.cc:742: \n",
      "Parameters: { \"max_leaves\" } are not used.\n",
      "\n",
      "  warnings.warn(smsg, UserWarning)\n"
     ]
    },
    {
     "name": "stdout",
     "output_type": "stream",
     "text": [
      "[CV 5/5] END booster=gblinear, learning_rate=0.1, max_leaves=0, n_estimators=300;, score=0.653 total time=   0.1s\n",
      "[CV 1/5] END booster=gblinear, learning_rate=0.1, max_leaves=5, n_estimators=100;, score=0.574 total time=   0.0s\n"
     ]
    },
    {
     "name": "stderr",
     "output_type": "stream",
     "text": [
      "C:\\Users\\mihai\\anaconda3\\Lib\\site-packages\\xgboost\\core.py:160: UserWarning: [05:05:12] WARNING: C:\\buildkite-agent\\builds\\buildkite-windows-cpu-autoscaling-group-i-0b3782d1791676daf-1\\xgboost\\xgboost-ci-windows\\src\\learner.cc:742: \n",
      "Parameters: { \"max_leaves\" } are not used.\n",
      "\n",
      "  warnings.warn(smsg, UserWarning)\n",
      "C:\\Users\\mihai\\anaconda3\\Lib\\site-packages\\xgboost\\core.py:160: UserWarning: [05:05:12] WARNING: C:\\buildkite-agent\\builds\\buildkite-windows-cpu-autoscaling-group-i-0b3782d1791676daf-1\\xgboost\\xgboost-ci-windows\\src\\learner.cc:742: \n",
      "Parameters: { \"max_leaves\" } are not used.\n",
      "\n",
      "  warnings.warn(smsg, UserWarning)\n"
     ]
    },
    {
     "name": "stdout",
     "output_type": "stream",
     "text": [
      "[CV 2/5] END booster=gblinear, learning_rate=0.1, max_leaves=5, n_estimators=100;, score=0.623 total time=   0.0s\n",
      "[CV 3/5] END booster=gblinear, learning_rate=0.1, max_leaves=5, n_estimators=100;, score=0.653 total time=   0.0s\n"
     ]
    },
    {
     "name": "stderr",
     "output_type": "stream",
     "text": [
      "C:\\Users\\mihai\\anaconda3\\Lib\\site-packages\\xgboost\\core.py:160: UserWarning: [05:05:12] WARNING: C:\\buildkite-agent\\builds\\buildkite-windows-cpu-autoscaling-group-i-0b3782d1791676daf-1\\xgboost\\xgboost-ci-windows\\src\\learner.cc:742: \n",
      "Parameters: { \"max_leaves\" } are not used.\n",
      "\n",
      "  warnings.warn(smsg, UserWarning)\n",
      "C:\\Users\\mihai\\anaconda3\\Lib\\site-packages\\xgboost\\core.py:160: UserWarning: [05:05:12] WARNING: C:\\buildkite-agent\\builds\\buildkite-windows-cpu-autoscaling-group-i-0b3782d1791676daf-1\\xgboost\\xgboost-ci-windows\\src\\learner.cc:742: \n",
      "Parameters: { \"max_leaves\" } are not used.\n",
      "\n",
      "  warnings.warn(smsg, UserWarning)\n"
     ]
    },
    {
     "name": "stdout",
     "output_type": "stream",
     "text": [
      "[CV 4/5] END booster=gblinear, learning_rate=0.1, max_leaves=5, n_estimators=100;, score=0.661 total time=   0.0s\n",
      "[CV 5/5] END booster=gblinear, learning_rate=0.1, max_leaves=5, n_estimators=100;, score=0.636 total time=   0.0s\n"
     ]
    },
    {
     "name": "stderr",
     "output_type": "stream",
     "text": [
      "C:\\Users\\mihai\\anaconda3\\Lib\\site-packages\\xgboost\\core.py:160: UserWarning: [05:05:12] WARNING: C:\\buildkite-agent\\builds\\buildkite-windows-cpu-autoscaling-group-i-0b3782d1791676daf-1\\xgboost\\xgboost-ci-windows\\src\\learner.cc:742: \n",
      "Parameters: { \"max_leaves\" } are not used.\n",
      "\n",
      "  warnings.warn(smsg, UserWarning)\n",
      "C:\\Users\\mihai\\anaconda3\\Lib\\site-packages\\xgboost\\core.py:160: UserWarning: [05:05:12] WARNING: C:\\buildkite-agent\\builds\\buildkite-windows-cpu-autoscaling-group-i-0b3782d1791676daf-1\\xgboost\\xgboost-ci-windows\\src\\learner.cc:742: \n",
      "Parameters: { \"max_leaves\" } are not used.\n",
      "\n",
      "  warnings.warn(smsg, UserWarning)\n"
     ]
    },
    {
     "name": "stdout",
     "output_type": "stream",
     "text": [
      "[CV 1/5] END booster=gblinear, learning_rate=0.1, max_leaves=5, n_estimators=200;, score=0.574 total time=   0.1s\n",
      "[CV 2/5] END booster=gblinear, learning_rate=0.1, max_leaves=5, n_estimators=200;, score=0.623 total time=   0.1s\n"
     ]
    },
    {
     "name": "stderr",
     "output_type": "stream",
     "text": [
      "C:\\Users\\mihai\\anaconda3\\Lib\\site-packages\\xgboost\\core.py:160: UserWarning: [05:05:12] WARNING: C:\\buildkite-agent\\builds\\buildkite-windows-cpu-autoscaling-group-i-0b3782d1791676daf-1\\xgboost\\xgboost-ci-windows\\src\\learner.cc:742: \n",
      "Parameters: { \"max_leaves\" } are not used.\n",
      "\n",
      "  warnings.warn(smsg, UserWarning)\n",
      "C:\\Users\\mihai\\anaconda3\\Lib\\site-packages\\xgboost\\core.py:160: UserWarning: [05:05:13] WARNING: C:\\buildkite-agent\\builds\\buildkite-windows-cpu-autoscaling-group-i-0b3782d1791676daf-1\\xgboost\\xgboost-ci-windows\\src\\learner.cc:742: \n",
      "Parameters: { \"max_leaves\" } are not used.\n",
      "\n",
      "  warnings.warn(smsg, UserWarning)\n"
     ]
    },
    {
     "name": "stdout",
     "output_type": "stream",
     "text": [
      "[CV 3/5] END booster=gblinear, learning_rate=0.1, max_leaves=5, n_estimators=200;, score=0.661 total time=   0.1s\n",
      "[CV 4/5] END booster=gblinear, learning_rate=0.1, max_leaves=5, n_estimators=200;, score=0.661 total time=   0.1s\n"
     ]
    },
    {
     "name": "stderr",
     "output_type": "stream",
     "text": [
      "C:\\Users\\mihai\\anaconda3\\Lib\\site-packages\\xgboost\\core.py:160: UserWarning: [05:05:13] WARNING: C:\\buildkite-agent\\builds\\buildkite-windows-cpu-autoscaling-group-i-0b3782d1791676daf-1\\xgboost\\xgboost-ci-windows\\src\\learner.cc:742: \n",
      "Parameters: { \"max_leaves\" } are not used.\n",
      "\n",
      "  warnings.warn(smsg, UserWarning)\n",
      "C:\\Users\\mihai\\anaconda3\\Lib\\site-packages\\xgboost\\core.py:160: UserWarning: [05:05:13] WARNING: C:\\buildkite-agent\\builds\\buildkite-windows-cpu-autoscaling-group-i-0b3782d1791676daf-1\\xgboost\\xgboost-ci-windows\\src\\learner.cc:742: \n",
      "Parameters: { \"max_leaves\" } are not used.\n",
      "\n",
      "  warnings.warn(smsg, UserWarning)\n"
     ]
    },
    {
     "name": "stdout",
     "output_type": "stream",
     "text": [
      "[CV 5/5] END booster=gblinear, learning_rate=0.1, max_leaves=5, n_estimators=200;, score=0.636 total time=   0.1s\n"
     ]
    },
    {
     "name": "stderr",
     "output_type": "stream",
     "text": [
      "C:\\Users\\mihai\\anaconda3\\Lib\\site-packages\\xgboost\\core.py:160: UserWarning: [05:05:13] WARNING: C:\\buildkite-agent\\builds\\buildkite-windows-cpu-autoscaling-group-i-0b3782d1791676daf-1\\xgboost\\xgboost-ci-windows\\src\\learner.cc:742: \n",
      "Parameters: { \"max_leaves\" } are not used.\n",
      "\n",
      "  warnings.warn(smsg, UserWarning)\n"
     ]
    },
    {
     "name": "stdout",
     "output_type": "stream",
     "text": [
      "[CV 1/5] END booster=gblinear, learning_rate=0.1, max_leaves=5, n_estimators=300;, score=0.631 total time=   0.2s\n"
     ]
    },
    {
     "name": "stderr",
     "output_type": "stream",
     "text": [
      "C:\\Users\\mihai\\anaconda3\\Lib\\site-packages\\xgboost\\core.py:160: UserWarning: [05:05:13] WARNING: C:\\buildkite-agent\\builds\\buildkite-windows-cpu-autoscaling-group-i-0b3782d1791676daf-1\\xgboost\\xgboost-ci-windows\\src\\learner.cc:742: \n",
      "Parameters: { \"max_leaves\" } are not used.\n",
      "\n",
      "  warnings.warn(smsg, UserWarning)\n"
     ]
    },
    {
     "name": "stdout",
     "output_type": "stream",
     "text": [
      "[CV 2/5] END booster=gblinear, learning_rate=0.1, max_leaves=5, n_estimators=300;, score=0.697 total time=   0.2s\n"
     ]
    },
    {
     "name": "stderr",
     "output_type": "stream",
     "text": [
      "C:\\Users\\mihai\\anaconda3\\Lib\\site-packages\\xgboost\\core.py:160: UserWarning: [05:05:14] WARNING: C:\\buildkite-agent\\builds\\buildkite-windows-cpu-autoscaling-group-i-0b3782d1791676daf-1\\xgboost\\xgboost-ci-windows\\src\\learner.cc:742: \n",
      "Parameters: { \"max_leaves\" } are not used.\n",
      "\n",
      "  warnings.warn(smsg, UserWarning)\n"
     ]
    },
    {
     "name": "stdout",
     "output_type": "stream",
     "text": [
      "[CV 3/5] END booster=gblinear, learning_rate=0.1, max_leaves=5, n_estimators=300;, score=0.727 total time=   0.2s\n"
     ]
    },
    {
     "name": "stderr",
     "output_type": "stream",
     "text": [
      "C:\\Users\\mihai\\anaconda3\\Lib\\site-packages\\xgboost\\core.py:160: UserWarning: [05:05:14] WARNING: C:\\buildkite-agent\\builds\\buildkite-windows-cpu-autoscaling-group-i-0b3782d1791676daf-1\\xgboost\\xgboost-ci-windows\\src\\learner.cc:742: \n",
      "Parameters: { \"max_leaves\" } are not used.\n",
      "\n",
      "  warnings.warn(smsg, UserWarning)\n"
     ]
    },
    {
     "name": "stdout",
     "output_type": "stream",
     "text": [
      "[CV 4/5] END booster=gblinear, learning_rate=0.1, max_leaves=5, n_estimators=300;, score=0.686 total time=   0.1s\n"
     ]
    },
    {
     "name": "stderr",
     "output_type": "stream",
     "text": [
      "C:\\Users\\mihai\\anaconda3\\Lib\\site-packages\\xgboost\\core.py:160: UserWarning: [05:05:14] WARNING: C:\\buildkite-agent\\builds\\buildkite-windows-cpu-autoscaling-group-i-0b3782d1791676daf-1\\xgboost\\xgboost-ci-windows\\src\\learner.cc:742: \n",
      "Parameters: { \"max_leaves\" } are not used.\n",
      "\n",
      "  warnings.warn(smsg, UserWarning)\n"
     ]
    },
    {
     "name": "stdout",
     "output_type": "stream",
     "text": [
      "[CV 5/5] END booster=gblinear, learning_rate=0.1, max_leaves=5, n_estimators=300;, score=0.653 total time=   0.2s\n",
      "[CV 1/5] END booster=gblinear, learning_rate=0.2, max_leaves=0, n_estimators=100;, score=0.574 total time=   0.0s\n"
     ]
    },
    {
     "name": "stderr",
     "output_type": "stream",
     "text": [
      "C:\\Users\\mihai\\anaconda3\\Lib\\site-packages\\xgboost\\core.py:160: UserWarning: [05:05:14] WARNING: C:\\buildkite-agent\\builds\\buildkite-windows-cpu-autoscaling-group-i-0b3782d1791676daf-1\\xgboost\\xgboost-ci-windows\\src\\learner.cc:742: \n",
      "Parameters: { \"max_leaves\" } are not used.\n",
      "\n",
      "  warnings.warn(smsg, UserWarning)\n",
      "C:\\Users\\mihai\\anaconda3\\Lib\\site-packages\\xgboost\\core.py:160: UserWarning: [05:05:14] WARNING: C:\\buildkite-agent\\builds\\buildkite-windows-cpu-autoscaling-group-i-0b3782d1791676daf-1\\xgboost\\xgboost-ci-windows\\src\\learner.cc:742: \n",
      "Parameters: { \"max_leaves\" } are not used.\n",
      "\n",
      "  warnings.warn(smsg, UserWarning)\n"
     ]
    },
    {
     "name": "stdout",
     "output_type": "stream",
     "text": [
      "[CV 2/5] END booster=gblinear, learning_rate=0.2, max_leaves=0, n_estimators=100;, score=0.623 total time=   0.0s\n",
      "[CV 3/5] END booster=gblinear, learning_rate=0.2, max_leaves=0, n_estimators=100;, score=0.661 total time=   0.0s\n"
     ]
    },
    {
     "name": "stderr",
     "output_type": "stream",
     "text": [
      "C:\\Users\\mihai\\anaconda3\\Lib\\site-packages\\xgboost\\core.py:160: UserWarning: [05:05:15] WARNING: C:\\buildkite-agent\\builds\\buildkite-windows-cpu-autoscaling-group-i-0b3782d1791676daf-1\\xgboost\\xgboost-ci-windows\\src\\learner.cc:742: \n",
      "Parameters: { \"max_leaves\" } are not used.\n",
      "\n",
      "  warnings.warn(smsg, UserWarning)\n",
      "C:\\Users\\mihai\\anaconda3\\Lib\\site-packages\\xgboost\\core.py:160: UserWarning: [05:05:15] WARNING: C:\\buildkite-agent\\builds\\buildkite-windows-cpu-autoscaling-group-i-0b3782d1791676daf-1\\xgboost\\xgboost-ci-windows\\src\\learner.cc:742: \n",
      "Parameters: { \"max_leaves\" } are not used.\n",
      "\n",
      "  warnings.warn(smsg, UserWarning)\n"
     ]
    },
    {
     "name": "stdout",
     "output_type": "stream",
     "text": [
      "[CV 4/5] END booster=gblinear, learning_rate=0.2, max_leaves=0, n_estimators=100;, score=0.661 total time=   0.0s\n",
      "[CV 5/5] END booster=gblinear, learning_rate=0.2, max_leaves=0, n_estimators=100;, score=0.636 total time=   0.0s\n"
     ]
    },
    {
     "name": "stderr",
     "output_type": "stream",
     "text": [
      "C:\\Users\\mihai\\anaconda3\\Lib\\site-packages\\xgboost\\core.py:160: UserWarning: [05:05:15] WARNING: C:\\buildkite-agent\\builds\\buildkite-windows-cpu-autoscaling-group-i-0b3782d1791676daf-1\\xgboost\\xgboost-ci-windows\\src\\learner.cc:742: \n",
      "Parameters: { \"max_leaves\" } are not used.\n",
      "\n",
      "  warnings.warn(smsg, UserWarning)\n",
      "C:\\Users\\mihai\\anaconda3\\Lib\\site-packages\\xgboost\\core.py:160: UserWarning: [05:05:15] WARNING: C:\\buildkite-agent\\builds\\buildkite-windows-cpu-autoscaling-group-i-0b3782d1791676daf-1\\xgboost\\xgboost-ci-windows\\src\\learner.cc:742: \n",
      "Parameters: { \"max_leaves\" } are not used.\n",
      "\n",
      "  warnings.warn(smsg, UserWarning)\n"
     ]
    },
    {
     "name": "stdout",
     "output_type": "stream",
     "text": [
      "[CV 1/5] END booster=gblinear, learning_rate=0.2, max_leaves=0, n_estimators=200;, score=0.639 total time=   0.1s\n"
     ]
    },
    {
     "name": "stderr",
     "output_type": "stream",
     "text": [
      "C:\\Users\\mihai\\anaconda3\\Lib\\site-packages\\xgboost\\core.py:160: UserWarning: [05:05:15] WARNING: C:\\buildkite-agent\\builds\\buildkite-windows-cpu-autoscaling-group-i-0b3782d1791676daf-1\\xgboost\\xgboost-ci-windows\\src\\learner.cc:742: \n",
      "Parameters: { \"max_leaves\" } are not used.\n",
      "\n",
      "  warnings.warn(smsg, UserWarning)\n"
     ]
    },
    {
     "name": "stdout",
     "output_type": "stream",
     "text": [
      "[CV 2/5] END booster=gblinear, learning_rate=0.2, max_leaves=0, n_estimators=200;, score=0.721 total time=   0.1s\n"
     ]
    },
    {
     "name": "stderr",
     "output_type": "stream",
     "text": [
      "C:\\Users\\mihai\\anaconda3\\Lib\\site-packages\\xgboost\\core.py:160: UserWarning: [05:05:15] WARNING: C:\\buildkite-agent\\builds\\buildkite-windows-cpu-autoscaling-group-i-0b3782d1791676daf-1\\xgboost\\xgboost-ci-windows\\src\\learner.cc:742: \n",
      "Parameters: { \"max_leaves\" } are not used.\n",
      "\n",
      "  warnings.warn(smsg, UserWarning)\n"
     ]
    },
    {
     "name": "stdout",
     "output_type": "stream",
     "text": [
      "[CV 3/5] END booster=gblinear, learning_rate=0.2, max_leaves=0, n_estimators=200;, score=0.769 total time=   0.2s\n",
      "[CV 4/5] END booster=gblinear, learning_rate=0.2, max_leaves=0, n_estimators=200;, score=0.736 total time=   0.1s\n"
     ]
    },
    {
     "name": "stderr",
     "output_type": "stream",
     "text": [
      "C:\\Users\\mihai\\anaconda3\\Lib\\site-packages\\xgboost\\core.py:160: UserWarning: [05:05:16] WARNING: C:\\buildkite-agent\\builds\\buildkite-windows-cpu-autoscaling-group-i-0b3782d1791676daf-1\\xgboost\\xgboost-ci-windows\\src\\learner.cc:742: \n",
      "Parameters: { \"max_leaves\" } are not used.\n",
      "\n",
      "  warnings.warn(smsg, UserWarning)\n",
      "C:\\Users\\mihai\\anaconda3\\Lib\\site-packages\\xgboost\\core.py:160: UserWarning: [05:05:16] WARNING: C:\\buildkite-agent\\builds\\buildkite-windows-cpu-autoscaling-group-i-0b3782d1791676daf-1\\xgboost\\xgboost-ci-windows\\src\\learner.cc:742: \n",
      "Parameters: { \"max_leaves\" } are not used.\n",
      "\n",
      "  warnings.warn(smsg, UserWarning)\n",
      "C:\\Users\\mihai\\anaconda3\\Lib\\site-packages\\xgboost\\core.py:160: UserWarning: [05:05:16] WARNING: C:\\buildkite-agent\\builds\\buildkite-windows-cpu-autoscaling-group-i-0b3782d1791676daf-1\\xgboost\\xgboost-ci-windows\\src\\learner.cc:742: \n",
      "Parameters: { \"max_leaves\" } are not used.\n",
      "\n",
      "  warnings.warn(smsg, UserWarning)\n"
     ]
    },
    {
     "name": "stdout",
     "output_type": "stream",
     "text": [
      "[CV 5/5] END booster=gblinear, learning_rate=0.2, max_leaves=0, n_estimators=200;, score=0.686 total time=   0.1s\n",
      "[CV 1/5] END booster=gblinear, learning_rate=0.2, max_leaves=0, n_estimators=300;, score=0.656 total time=   0.1s\n"
     ]
    },
    {
     "name": "stderr",
     "output_type": "stream",
     "text": [
      "C:\\Users\\mihai\\anaconda3\\Lib\\site-packages\\xgboost\\core.py:160: UserWarning: [05:05:16] WARNING: C:\\buildkite-agent\\builds\\buildkite-windows-cpu-autoscaling-group-i-0b3782d1791676daf-1\\xgboost\\xgboost-ci-windows\\src\\learner.cc:742: \n",
      "Parameters: { \"max_leaves\" } are not used.\n",
      "\n",
      "  warnings.warn(smsg, UserWarning)\n"
     ]
    },
    {
     "name": "stdout",
     "output_type": "stream",
     "text": [
      "[CV 2/5] END booster=gblinear, learning_rate=0.2, max_leaves=0, n_estimators=300;, score=0.705 total time=   0.2s\n"
     ]
    },
    {
     "name": "stderr",
     "output_type": "stream",
     "text": [
      "C:\\Users\\mihai\\anaconda3\\Lib\\site-packages\\xgboost\\core.py:160: UserWarning: [05:05:16] WARNING: C:\\buildkite-agent\\builds\\buildkite-windows-cpu-autoscaling-group-i-0b3782d1791676daf-1\\xgboost\\xgboost-ci-windows\\src\\learner.cc:742: \n",
      "Parameters: { \"max_leaves\" } are not used.\n",
      "\n",
      "  warnings.warn(smsg, UserWarning)\n"
     ]
    },
    {
     "name": "stdout",
     "output_type": "stream",
     "text": [
      "[CV 3/5] END booster=gblinear, learning_rate=0.2, max_leaves=0, n_estimators=300;, score=0.785 total time=   0.1s\n"
     ]
    },
    {
     "name": "stderr",
     "output_type": "stream",
     "text": [
      "C:\\Users\\mihai\\anaconda3\\Lib\\site-packages\\xgboost\\core.py:160: UserWarning: [05:05:17] WARNING: C:\\buildkite-agent\\builds\\buildkite-windows-cpu-autoscaling-group-i-0b3782d1791676daf-1\\xgboost\\xgboost-ci-windows\\src\\learner.cc:742: \n",
      "Parameters: { \"max_leaves\" } are not used.\n",
      "\n",
      "  warnings.warn(smsg, UserWarning)\n"
     ]
    },
    {
     "name": "stdout",
     "output_type": "stream",
     "text": [
      "[CV 4/5] END booster=gblinear, learning_rate=0.2, max_leaves=0, n_estimators=300;, score=0.777 total time=   0.1s\n"
     ]
    },
    {
     "name": "stderr",
     "output_type": "stream",
     "text": [
      "C:\\Users\\mihai\\anaconda3\\Lib\\site-packages\\xgboost\\core.py:160: UserWarning: [05:05:17] WARNING: C:\\buildkite-agent\\builds\\buildkite-windows-cpu-autoscaling-group-i-0b3782d1791676daf-1\\xgboost\\xgboost-ci-windows\\src\\learner.cc:742: \n",
      "Parameters: { \"max_leaves\" } are not used.\n",
      "\n",
      "  warnings.warn(smsg, UserWarning)\n"
     ]
    },
    {
     "name": "stdout",
     "output_type": "stream",
     "text": [
      "[CV 5/5] END booster=gblinear, learning_rate=0.2, max_leaves=0, n_estimators=300;, score=0.752 total time=   0.1s\n",
      "[CV 1/5] END booster=gblinear, learning_rate=0.2, max_leaves=5, n_estimators=100;, score=0.574 total time=   0.0s\n",
      "[CV 2/5] END booster=gblinear, learning_rate=0.2, max_leaves=5, n_estimators=100;, score=0.623 total time=   0.0s\n"
     ]
    },
    {
     "name": "stderr",
     "output_type": "stream",
     "text": [
      "C:\\Users\\mihai\\anaconda3\\Lib\\site-packages\\xgboost\\core.py:160: UserWarning: [05:05:17] WARNING: C:\\buildkite-agent\\builds\\buildkite-windows-cpu-autoscaling-group-i-0b3782d1791676daf-1\\xgboost\\xgboost-ci-windows\\src\\learner.cc:742: \n",
      "Parameters: { \"max_leaves\" } are not used.\n",
      "\n",
      "  warnings.warn(smsg, UserWarning)\n",
      "C:\\Users\\mihai\\anaconda3\\Lib\\site-packages\\xgboost\\core.py:160: UserWarning: [05:05:17] WARNING: C:\\buildkite-agent\\builds\\buildkite-windows-cpu-autoscaling-group-i-0b3782d1791676daf-1\\xgboost\\xgboost-ci-windows\\src\\learner.cc:742: \n",
      "Parameters: { \"max_leaves\" } are not used.\n",
      "\n",
      "  warnings.warn(smsg, UserWarning)\n",
      "C:\\Users\\mihai\\anaconda3\\Lib\\site-packages\\xgboost\\core.py:160: UserWarning: [05:05:17] WARNING: C:\\buildkite-agent\\builds\\buildkite-windows-cpu-autoscaling-group-i-0b3782d1791676daf-1\\xgboost\\xgboost-ci-windows\\src\\learner.cc:742: \n",
      "Parameters: { \"max_leaves\" } are not used.\n",
      "\n",
      "  warnings.warn(smsg, UserWarning)\n",
      "C:\\Users\\mihai\\anaconda3\\Lib\\site-packages\\xgboost\\core.py:160: UserWarning: [05:05:17] WARNING: C:\\buildkite-agent\\builds\\buildkite-windows-cpu-autoscaling-group-i-0b3782d1791676daf-1\\xgboost\\xgboost-ci-windows\\src\\learner.cc:742: \n",
      "Parameters: { \"max_leaves\" } are not used.\n",
      "\n",
      "  warnings.warn(smsg, UserWarning)\n"
     ]
    },
    {
     "name": "stdout",
     "output_type": "stream",
     "text": [
      "[CV 3/5] END booster=gblinear, learning_rate=0.2, max_leaves=5, n_estimators=100;, score=0.661 total time=   0.0s\n",
      "[CV 4/5] END booster=gblinear, learning_rate=0.2, max_leaves=5, n_estimators=100;, score=0.661 total time=   0.0s\n"
     ]
    },
    {
     "name": "stderr",
     "output_type": "stream",
     "text": [
      "C:\\Users\\mihai\\anaconda3\\Lib\\site-packages\\xgboost\\core.py:160: UserWarning: [05:05:18] WARNING: C:\\buildkite-agent\\builds\\buildkite-windows-cpu-autoscaling-group-i-0b3782d1791676daf-1\\xgboost\\xgboost-ci-windows\\src\\learner.cc:742: \n",
      "Parameters: { \"max_leaves\" } are not used.\n",
      "\n",
      "  warnings.warn(smsg, UserWarning)\n",
      "C:\\Users\\mihai\\anaconda3\\Lib\\site-packages\\xgboost\\core.py:160: UserWarning: [05:05:18] WARNING: C:\\buildkite-agent\\builds\\buildkite-windows-cpu-autoscaling-group-i-0b3782d1791676daf-1\\xgboost\\xgboost-ci-windows\\src\\learner.cc:742: \n",
      "Parameters: { \"max_leaves\" } are not used.\n",
      "\n",
      "  warnings.warn(smsg, UserWarning)\n"
     ]
    },
    {
     "name": "stdout",
     "output_type": "stream",
     "text": [
      "[CV 5/5] END booster=gblinear, learning_rate=0.2, max_leaves=5, n_estimators=100;, score=0.636 total time=   0.0s\n",
      "[CV 1/5] END booster=gblinear, learning_rate=0.2, max_leaves=5, n_estimators=200;, score=0.639 total time=   0.1s\n"
     ]
    },
    {
     "name": "stderr",
     "output_type": "stream",
     "text": [
      "C:\\Users\\mihai\\anaconda3\\Lib\\site-packages\\xgboost\\core.py:160: UserWarning: [05:05:18] WARNING: C:\\buildkite-agent\\builds\\buildkite-windows-cpu-autoscaling-group-i-0b3782d1791676daf-1\\xgboost\\xgboost-ci-windows\\src\\learner.cc:742: \n",
      "Parameters: { \"max_leaves\" } are not used.\n",
      "\n",
      "  warnings.warn(smsg, UserWarning)\n",
      "C:\\Users\\mihai\\anaconda3\\Lib\\site-packages\\xgboost\\core.py:160: UserWarning: [05:05:18] WARNING: C:\\buildkite-agent\\builds\\buildkite-windows-cpu-autoscaling-group-i-0b3782d1791676daf-1\\xgboost\\xgboost-ci-windows\\src\\learner.cc:742: \n",
      "Parameters: { \"max_leaves\" } are not used.\n",
      "\n",
      "  warnings.warn(smsg, UserWarning)\n"
     ]
    },
    {
     "name": "stdout",
     "output_type": "stream",
     "text": [
      "[CV 2/5] END booster=gblinear, learning_rate=0.2, max_leaves=5, n_estimators=200;, score=0.721 total time=   0.1s\n",
      "[CV 3/5] END booster=gblinear, learning_rate=0.2, max_leaves=5, n_estimators=200;, score=0.769 total time=   0.1s\n"
     ]
    },
    {
     "name": "stderr",
     "output_type": "stream",
     "text": [
      "C:\\Users\\mihai\\anaconda3\\Lib\\site-packages\\xgboost\\core.py:160: UserWarning: [05:05:18] WARNING: C:\\buildkite-agent\\builds\\buildkite-windows-cpu-autoscaling-group-i-0b3782d1791676daf-1\\xgboost\\xgboost-ci-windows\\src\\learner.cc:742: \n",
      "Parameters: { \"max_leaves\" } are not used.\n",
      "\n",
      "  warnings.warn(smsg, UserWarning)\n",
      "C:\\Users\\mihai\\anaconda3\\Lib\\site-packages\\xgboost\\core.py:160: UserWarning: [05:05:18] WARNING: C:\\buildkite-agent\\builds\\buildkite-windows-cpu-autoscaling-group-i-0b3782d1791676daf-1\\xgboost\\xgboost-ci-windows\\src\\learner.cc:742: \n",
      "Parameters: { \"max_leaves\" } are not used.\n",
      "\n",
      "  warnings.warn(smsg, UserWarning)\n"
     ]
    },
    {
     "name": "stdout",
     "output_type": "stream",
     "text": [
      "[CV 4/5] END booster=gblinear, learning_rate=0.2, max_leaves=5, n_estimators=200;, score=0.736 total time=   0.1s\n",
      "[CV 5/5] END booster=gblinear, learning_rate=0.2, max_leaves=5, n_estimators=200;, score=0.686 total time=   0.1s\n"
     ]
    },
    {
     "name": "stderr",
     "output_type": "stream",
     "text": [
      "C:\\Users\\mihai\\anaconda3\\Lib\\site-packages\\xgboost\\core.py:160: UserWarning: [05:05:19] WARNING: C:\\buildkite-agent\\builds\\buildkite-windows-cpu-autoscaling-group-i-0b3782d1791676daf-1\\xgboost\\xgboost-ci-windows\\src\\learner.cc:742: \n",
      "Parameters: { \"max_leaves\" } are not used.\n",
      "\n",
      "  warnings.warn(smsg, UserWarning)\n"
     ]
    },
    {
     "name": "stdout",
     "output_type": "stream",
     "text": [
      "[CV 1/5] END booster=gblinear, learning_rate=0.2, max_leaves=5, n_estimators=300;, score=0.648 total time=   0.1s\n"
     ]
    },
    {
     "name": "stderr",
     "output_type": "stream",
     "text": [
      "C:\\Users\\mihai\\anaconda3\\Lib\\site-packages\\xgboost\\core.py:160: UserWarning: [05:05:19] WARNING: C:\\buildkite-agent\\builds\\buildkite-windows-cpu-autoscaling-group-i-0b3782d1791676daf-1\\xgboost\\xgboost-ci-windows\\src\\learner.cc:742: \n",
      "Parameters: { \"max_leaves\" } are not used.\n",
      "\n",
      "  warnings.warn(smsg, UserWarning)\n"
     ]
    },
    {
     "name": "stdout",
     "output_type": "stream",
     "text": [
      "[CV 2/5] END booster=gblinear, learning_rate=0.2, max_leaves=5, n_estimators=300;, score=0.705 total time=   0.1s\n"
     ]
    },
    {
     "name": "stderr",
     "output_type": "stream",
     "text": [
      "C:\\Users\\mihai\\anaconda3\\Lib\\site-packages\\xgboost\\core.py:160: UserWarning: [05:05:19] WARNING: C:\\buildkite-agent\\builds\\buildkite-windows-cpu-autoscaling-group-i-0b3782d1791676daf-1\\xgboost\\xgboost-ci-windows\\src\\learner.cc:742: \n",
      "Parameters: { \"max_leaves\" } are not used.\n",
      "\n",
      "  warnings.warn(smsg, UserWarning)\n"
     ]
    },
    {
     "name": "stdout",
     "output_type": "stream",
     "text": [
      "[CV 3/5] END booster=gblinear, learning_rate=0.2, max_leaves=5, n_estimators=300;, score=0.785 total time=   0.1s\n"
     ]
    },
    {
     "name": "stderr",
     "output_type": "stream",
     "text": [
      "C:\\Users\\mihai\\anaconda3\\Lib\\site-packages\\xgboost\\core.py:160: UserWarning: [05:05:19] WARNING: C:\\buildkite-agent\\builds\\buildkite-windows-cpu-autoscaling-group-i-0b3782d1791676daf-1\\xgboost\\xgboost-ci-windows\\src\\learner.cc:742: \n",
      "Parameters: { \"max_leaves\" } are not used.\n",
      "\n",
      "  warnings.warn(smsg, UserWarning)\n"
     ]
    },
    {
     "name": "stdout",
     "output_type": "stream",
     "text": [
      "[CV 4/5] END booster=gblinear, learning_rate=0.2, max_leaves=5, n_estimators=300;, score=0.777 total time=   0.1s\n"
     ]
    },
    {
     "name": "stderr",
     "output_type": "stream",
     "text": [
      "C:\\Users\\mihai\\anaconda3\\Lib\\site-packages\\xgboost\\core.py:160: UserWarning: [05:05:20] WARNING: C:\\buildkite-agent\\builds\\buildkite-windows-cpu-autoscaling-group-i-0b3782d1791676daf-1\\xgboost\\xgboost-ci-windows\\src\\learner.cc:742: \n",
      "Parameters: { \"max_leaves\" } are not used.\n",
      "\n",
      "  warnings.warn(smsg, UserWarning)\n"
     ]
    },
    {
     "name": "stdout",
     "output_type": "stream",
     "text": [
      "[CV 5/5] END booster=gblinear, learning_rate=0.2, max_leaves=5, n_estimators=300;, score=0.752 total time=   0.1s\n",
      "\n",
      "Najbolji parametri: {'booster': 'gbtree', 'learning_rate': 0.2, 'max_leaves': 5, 'n_estimators': 300}\n",
      "Preciznost modela sa najboljim parametrima: 0.81579\n",
      "\n",
      "Izvestaj o klasifikaciji:\n",
      "               precision    recall  f1-score   support\n",
      "\n",
      "         0.0       0.91      0.94      0.92        82\n",
      "         1.0       0.70      0.64      0.67        25\n",
      "         2.0       0.88      0.88      0.88        25\n",
      "         3.0       0.33      0.25      0.29         4\n",
      "         4.0       0.50      0.50      0.50        16\n",
      "\n",
      "    accuracy                           0.82       152\n",
      "   macro avg       0.66      0.64      0.65       152\n",
      "weighted avg       0.81      0.82      0.81       152\n",
      "\n"
     ]
    }
   ],
   "source": [
    "param_grid = {\n",
    "    'n_estimators': [100, 200, 300],\n",
    "    'learning_rate': [0.1, 0.2],\n",
    "    'max_leaves': [0, 5],\n",
    "    'booster': ['gbtree', 'gblinear'],\n",
    "}\n",
    "\n",
    "clf = XGBClassifier(objective=\"multi:softmax\", random_state=42, num_class=5)\n",
    "\n",
    "grid_search = GridSearchCV(clf, param_grid, cv=5, scoring='accuracy', verbose=4)\n",
    "grid_search.fit(X_train, y_train)\n",
    "\n",
    "best_params = grid_search.best_params_\n",
    "\n",
    "best_clf = XGBClassifier(objective=\"multi:softmax\", random_state=42, num_class=5, **best_params)\n",
    "best_clf.fit(X_train, y_train)\n",
    "\n",
    "y_pred_best = best_clf.predict(X_test)\n",
    "accuracy_best = accuracy_score(y_test, y_pred_best)\n",
    "\n",
    "classification_rep = classification_report(y_test, y_pred_best)\n",
    "\n",
    "print(\"\\nNajbolji parametri:\", best_params)\n",
    "print(\"Preciznost modela sa najboljim parametrima:\", round(accuracy_best, 5))\n",
    "print(\"\\nIzvestaj o klasifikaciji:\\n\", classification_rep)"
   ]
  },
  {
   "cell_type": "code",
   "execution_count": null,
   "id": "8b408d21-ffbc-475e-84b9-381b404304d5",
   "metadata": {},
   "outputs": [],
   "source": []
  },
  {
   "cell_type": "code",
   "execution_count": 33,
   "id": "de1c1b7e-9678-4f2f-a49a-768520993358",
   "metadata": {},
   "outputs": [
    {
     "name": "stdout",
     "output_type": "stream",
     "text": [
      "Fitting 5 folds for each of 24 candidates, totalling 120 fits\n",
      "[CV 1/5] END booster=gbtree, learning_rate=0.1, max_leaves=0, n_estimators=100;, score=0.896 total time=   1.1s\n",
      "[CV 2/5] END booster=gbtree, learning_rate=0.1, max_leaves=0, n_estimators=100;, score=0.944 total time=   1.1s\n",
      "[CV 3/5] END booster=gbtree, learning_rate=0.1, max_leaves=0, n_estimators=100;, score=0.950 total time=   1.3s\n",
      "[CV 4/5] END booster=gbtree, learning_rate=0.1, max_leaves=0, n_estimators=100;, score=0.956 total time=   1.2s\n",
      "[CV 5/5] END booster=gbtree, learning_rate=0.1, max_leaves=0, n_estimators=100;, score=0.941 total time=   1.2s\n",
      "[CV 1/5] END booster=gbtree, learning_rate=0.1, max_leaves=0, n_estimators=200;, score=0.914 total time=   1.8s\n",
      "[CV 2/5] END booster=gbtree, learning_rate=0.1, max_leaves=0, n_estimators=200;, score=0.941 total time=   1.9s\n",
      "[CV 3/5] END booster=gbtree, learning_rate=0.1, max_leaves=0, n_estimators=200;, score=0.959 total time=   1.9s\n",
      "[CV 4/5] END booster=gbtree, learning_rate=0.1, max_leaves=0, n_estimators=200;, score=0.950 total time=   2.0s\n",
      "[CV 5/5] END booster=gbtree, learning_rate=0.1, max_leaves=0, n_estimators=200;, score=0.953 total time=   2.3s\n",
      "[CV 1/5] END booster=gbtree, learning_rate=0.1, max_leaves=0, n_estimators=300;, score=0.914 total time=   2.3s\n",
      "[CV 2/5] END booster=gbtree, learning_rate=0.1, max_leaves=0, n_estimators=300;, score=0.941 total time=   2.6s\n",
      "[CV 3/5] END booster=gbtree, learning_rate=0.1, max_leaves=0, n_estimators=300;, score=0.959 total time=   2.6s\n",
      "[CV 4/5] END booster=gbtree, learning_rate=0.1, max_leaves=0, n_estimators=300;, score=0.953 total time=   2.5s\n",
      "[CV 5/5] END booster=gbtree, learning_rate=0.1, max_leaves=0, n_estimators=300;, score=0.953 total time=   2.5s\n",
      "[CV 1/5] END booster=gbtree, learning_rate=0.1, max_leaves=5, n_estimators=100;, score=0.876 total time=   0.5s\n",
      "[CV 2/5] END booster=gbtree, learning_rate=0.1, max_leaves=5, n_estimators=100;, score=0.914 total time=   0.5s\n",
      "[CV 3/5] END booster=gbtree, learning_rate=0.1, max_leaves=5, n_estimators=100;, score=0.932 total time=   0.5s\n",
      "[CV 4/5] END booster=gbtree, learning_rate=0.1, max_leaves=5, n_estimators=100;, score=0.908 total time=   0.5s\n",
      "[CV 5/5] END booster=gbtree, learning_rate=0.1, max_leaves=5, n_estimators=100;, score=0.926 total time=   0.5s\n",
      "[CV 1/5] END booster=gbtree, learning_rate=0.1, max_leaves=5, n_estimators=200;, score=0.914 total time=   1.0s\n",
      "[CV 2/5] END booster=gbtree, learning_rate=0.1, max_leaves=5, n_estimators=200;, score=0.929 total time=   1.0s\n",
      "[CV 3/5] END booster=gbtree, learning_rate=0.1, max_leaves=5, n_estimators=200;, score=0.950 total time=   1.0s\n",
      "[CV 4/5] END booster=gbtree, learning_rate=0.1, max_leaves=5, n_estimators=200;, score=0.950 total time=   1.0s\n",
      "[CV 5/5] END booster=gbtree, learning_rate=0.1, max_leaves=5, n_estimators=200;, score=0.938 total time=   1.0s\n",
      "[CV 1/5] END booster=gbtree, learning_rate=0.1, max_leaves=5, n_estimators=300;, score=0.908 total time=   1.6s\n",
      "[CV 2/5] END booster=gbtree, learning_rate=0.1, max_leaves=5, n_estimators=300;, score=0.938 total time=   1.7s\n",
      "[CV 3/5] END booster=gbtree, learning_rate=0.1, max_leaves=5, n_estimators=300;, score=0.950 total time=   1.5s\n",
      "[CV 4/5] END booster=gbtree, learning_rate=0.1, max_leaves=5, n_estimators=300;, score=0.950 total time=   1.5s\n",
      "[CV 5/5] END booster=gbtree, learning_rate=0.1, max_leaves=5, n_estimators=300;, score=0.941 total time=   1.5s\n",
      "[CV 1/5] END booster=gbtree, learning_rate=0.2, max_leaves=0, n_estimators=100;, score=0.908 total time=   1.1s\n",
      "[CV 2/5] END booster=gbtree, learning_rate=0.2, max_leaves=0, n_estimators=100;, score=0.938 total time=   1.0s\n",
      "[CV 3/5] END booster=gbtree, learning_rate=0.2, max_leaves=0, n_estimators=100;, score=0.959 total time=   0.9s\n",
      "[CV 4/5] END booster=gbtree, learning_rate=0.2, max_leaves=0, n_estimators=100;, score=0.956 total time=   0.9s\n",
      "[CV 5/5] END booster=gbtree, learning_rate=0.2, max_leaves=0, n_estimators=100;, score=0.947 total time=   1.0s\n",
      "[CV 1/5] END booster=gbtree, learning_rate=0.2, max_leaves=0, n_estimators=200;, score=0.908 total time=   1.4s\n",
      "[CV 2/5] END booster=gbtree, learning_rate=0.2, max_leaves=0, n_estimators=200;, score=0.941 total time=   1.4s\n",
      "[CV 3/5] END booster=gbtree, learning_rate=0.2, max_leaves=0, n_estimators=200;, score=0.956 total time=   1.5s\n",
      "[CV 4/5] END booster=gbtree, learning_rate=0.2, max_leaves=0, n_estimators=200;, score=0.953 total time=   1.5s\n",
      "[CV 5/5] END booster=gbtree, learning_rate=0.2, max_leaves=0, n_estimators=200;, score=0.953 total time=   1.4s\n",
      "[CV 1/5] END booster=gbtree, learning_rate=0.2, max_leaves=0, n_estimators=300;, score=0.908 total time=   1.7s\n",
      "[CV 2/5] END booster=gbtree, learning_rate=0.2, max_leaves=0, n_estimators=300;, score=0.941 total time=   1.9s\n",
      "[CV 3/5] END booster=gbtree, learning_rate=0.2, max_leaves=0, n_estimators=300;, score=0.956 total time=   1.9s\n",
      "[CV 4/5] END booster=gbtree, learning_rate=0.2, max_leaves=0, n_estimators=300;, score=0.947 total time=   2.0s\n",
      "[CV 5/5] END booster=gbtree, learning_rate=0.2, max_leaves=0, n_estimators=300;, score=0.953 total time=   1.8s\n",
      "[CV 1/5] END booster=gbtree, learning_rate=0.2, max_leaves=5, n_estimators=100;, score=0.914 total time=   0.5s\n",
      "[CV 2/5] END booster=gbtree, learning_rate=0.2, max_leaves=5, n_estimators=100;, score=0.935 total time=   0.5s\n",
      "[CV 3/5] END booster=gbtree, learning_rate=0.2, max_leaves=5, n_estimators=100;, score=0.938 total time=   0.5s\n",
      "[CV 4/5] END booster=gbtree, learning_rate=0.2, max_leaves=5, n_estimators=100;, score=0.947 total time=   0.5s\n",
      "[CV 5/5] END booster=gbtree, learning_rate=0.2, max_leaves=5, n_estimators=100;, score=0.935 total time=   0.5s\n",
      "[CV 1/5] END booster=gbtree, learning_rate=0.2, max_leaves=5, n_estimators=200;, score=0.908 total time=   1.0s\n",
      "[CV 2/5] END booster=gbtree, learning_rate=0.2, max_leaves=5, n_estimators=200;, score=0.932 total time=   1.0s\n",
      "[CV 3/5] END booster=gbtree, learning_rate=0.2, max_leaves=5, n_estimators=200;, score=0.941 total time=   1.0s\n",
      "[CV 4/5] END booster=gbtree, learning_rate=0.2, max_leaves=5, n_estimators=200;, score=0.950 total time=   1.0s\n",
      "[CV 5/5] END booster=gbtree, learning_rate=0.2, max_leaves=5, n_estimators=200;, score=0.929 total time=   1.0s\n",
      "[CV 1/5] END booster=gbtree, learning_rate=0.2, max_leaves=5, n_estimators=300;, score=0.914 total time=   1.4s\n",
      "[CV 2/5] END booster=gbtree, learning_rate=0.2, max_leaves=5, n_estimators=300;, score=0.935 total time=   1.6s\n",
      "[CV 3/5] END booster=gbtree, learning_rate=0.2, max_leaves=5, n_estimators=300;, score=0.947 total time=   1.5s\n",
      "[CV 4/5] END booster=gbtree, learning_rate=0.2, max_leaves=5, n_estimators=300;, score=0.964 total time=   1.5s\n",
      "[CV 5/5] END booster=gbtree, learning_rate=0.2, max_leaves=5, n_estimators=300;, score=0.935 total time=   1.5s\n",
      "[CV 1/5] END booster=gblinear, learning_rate=0.1, max_leaves=0, n_estimators=100;, score=0.512 total time=   0.1s\n"
     ]
    },
    {
     "name": "stderr",
     "output_type": "stream",
     "text": [
      "C:\\Users\\mihai\\anaconda3\\Lib\\site-packages\\xgboost\\core.py:160: UserWarning: [05:12:12] WARNING: C:\\buildkite-agent\\builds\\buildkite-windows-cpu-autoscaling-group-i-0b3782d1791676daf-1\\xgboost\\xgboost-ci-windows\\src\\learner.cc:742: \n",
      "Parameters: { \"max_leaves\" } are not used.\n",
      "\n",
      "  warnings.warn(smsg, UserWarning)\n",
      "C:\\Users\\mihai\\anaconda3\\Lib\\site-packages\\xgboost\\core.py:160: UserWarning: [05:12:12] WARNING: C:\\buildkite-agent\\builds\\buildkite-windows-cpu-autoscaling-group-i-0b3782d1791676daf-1\\xgboost\\xgboost-ci-windows\\src\\learner.cc:742: \n",
      "Parameters: { \"max_leaves\" } are not used.\n",
      "\n",
      "  warnings.warn(smsg, UserWarning)\n"
     ]
    },
    {
     "name": "stdout",
     "output_type": "stream",
     "text": [
      "[CV 2/5] END booster=gblinear, learning_rate=0.1, max_leaves=0, n_estimators=100;, score=0.568 total time=   0.1s\n",
      "[CV 3/5] END booster=gblinear, learning_rate=0.1, max_leaves=0, n_estimators=100;, score=0.562 total time=   0.1s\n"
     ]
    },
    {
     "name": "stderr",
     "output_type": "stream",
     "text": [
      "C:\\Users\\mihai\\anaconda3\\Lib\\site-packages\\xgboost\\core.py:160: UserWarning: [05:12:12] WARNING: C:\\buildkite-agent\\builds\\buildkite-windows-cpu-autoscaling-group-i-0b3782d1791676daf-1\\xgboost\\xgboost-ci-windows\\src\\learner.cc:742: \n",
      "Parameters: { \"max_leaves\" } are not used.\n",
      "\n",
      "  warnings.warn(smsg, UserWarning)\n",
      "C:\\Users\\mihai\\anaconda3\\Lib\\site-packages\\xgboost\\core.py:160: UserWarning: [05:12:12] WARNING: C:\\buildkite-agent\\builds\\buildkite-windows-cpu-autoscaling-group-i-0b3782d1791676daf-1\\xgboost\\xgboost-ci-windows\\src\\learner.cc:742: \n",
      "Parameters: { \"max_leaves\" } are not used.\n",
      "\n",
      "  warnings.warn(smsg, UserWarning)\n"
     ]
    },
    {
     "name": "stdout",
     "output_type": "stream",
     "text": [
      "[CV 4/5] END booster=gblinear, learning_rate=0.1, max_leaves=0, n_estimators=100;, score=0.577 total time=   0.1s\n",
      "[CV 5/5] END booster=gblinear, learning_rate=0.1, max_leaves=0, n_estimators=100;, score=0.530 total time=   0.1s\n"
     ]
    },
    {
     "name": "stderr",
     "output_type": "stream",
     "text": [
      "C:\\Users\\mihai\\anaconda3\\Lib\\site-packages\\xgboost\\core.py:160: UserWarning: [05:12:13] WARNING: C:\\buildkite-agent\\builds\\buildkite-windows-cpu-autoscaling-group-i-0b3782d1791676daf-1\\xgboost\\xgboost-ci-windows\\src\\learner.cc:742: \n",
      "Parameters: { \"max_leaves\" } are not used.\n",
      "\n",
      "  warnings.warn(smsg, UserWarning)\n",
      "C:\\Users\\mihai\\anaconda3\\Lib\\site-packages\\xgboost\\core.py:160: UserWarning: [05:12:13] WARNING: C:\\buildkite-agent\\builds\\buildkite-windows-cpu-autoscaling-group-i-0b3782d1791676daf-1\\xgboost\\xgboost-ci-windows\\src\\learner.cc:742: \n",
      "Parameters: { \"max_leaves\" } are not used.\n",
      "\n",
      "  warnings.warn(smsg, UserWarning)\n"
     ]
    },
    {
     "name": "stdout",
     "output_type": "stream",
     "text": [
      "[CV 1/5] END booster=gblinear, learning_rate=0.1, max_leaves=0, n_estimators=200;, score=0.550 total time=   0.2s\n"
     ]
    },
    {
     "name": "stderr",
     "output_type": "stream",
     "text": [
      "C:\\Users\\mihai\\anaconda3\\Lib\\site-packages\\xgboost\\core.py:160: UserWarning: [05:12:13] WARNING: C:\\buildkite-agent\\builds\\buildkite-windows-cpu-autoscaling-group-i-0b3782d1791676daf-1\\xgboost\\xgboost-ci-windows\\src\\learner.cc:742: \n",
      "Parameters: { \"max_leaves\" } are not used.\n",
      "\n",
      "  warnings.warn(smsg, UserWarning)\n"
     ]
    },
    {
     "name": "stdout",
     "output_type": "stream",
     "text": [
      "[CV 2/5] END booster=gblinear, learning_rate=0.1, max_leaves=0, n_estimators=200;, score=0.589 total time=   0.2s\n"
     ]
    },
    {
     "name": "stderr",
     "output_type": "stream",
     "text": [
      "C:\\Users\\mihai\\anaconda3\\Lib\\site-packages\\xgboost\\core.py:160: UserWarning: [05:12:13] WARNING: C:\\buildkite-agent\\builds\\buildkite-windows-cpu-autoscaling-group-i-0b3782d1791676daf-1\\xgboost\\xgboost-ci-windows\\src\\learner.cc:742: \n",
      "Parameters: { \"max_leaves\" } are not used.\n",
      "\n",
      "  warnings.warn(smsg, UserWarning)\n"
     ]
    },
    {
     "name": "stdout",
     "output_type": "stream",
     "text": [
      "[CV 3/5] END booster=gblinear, learning_rate=0.1, max_leaves=0, n_estimators=200;, score=0.565 total time=   0.2s\n"
     ]
    },
    {
     "name": "stderr",
     "output_type": "stream",
     "text": [
      "C:\\Users\\mihai\\anaconda3\\Lib\\site-packages\\xgboost\\core.py:160: UserWarning: [05:12:14] WARNING: C:\\buildkite-agent\\builds\\buildkite-windows-cpu-autoscaling-group-i-0b3782d1791676daf-1\\xgboost\\xgboost-ci-windows\\src\\learner.cc:742: \n",
      "Parameters: { \"max_leaves\" } are not used.\n",
      "\n",
      "  warnings.warn(smsg, UserWarning)\n"
     ]
    },
    {
     "name": "stdout",
     "output_type": "stream",
     "text": [
      "[CV 4/5] END booster=gblinear, learning_rate=0.1, max_leaves=0, n_estimators=200;, score=0.598 total time=   0.2s\n"
     ]
    },
    {
     "name": "stderr",
     "output_type": "stream",
     "text": [
      "C:\\Users\\mihai\\anaconda3\\Lib\\site-packages\\xgboost\\core.py:160: UserWarning: [05:12:14] WARNING: C:\\buildkite-agent\\builds\\buildkite-windows-cpu-autoscaling-group-i-0b3782d1791676daf-1\\xgboost\\xgboost-ci-windows\\src\\learner.cc:742: \n",
      "Parameters: { \"max_leaves\" } are not used.\n",
      "\n",
      "  warnings.warn(smsg, UserWarning)\n"
     ]
    },
    {
     "name": "stdout",
     "output_type": "stream",
     "text": [
      "[CV 5/5] END booster=gblinear, learning_rate=0.1, max_leaves=0, n_estimators=200;, score=0.571 total time=   0.2s\n"
     ]
    },
    {
     "name": "stderr",
     "output_type": "stream",
     "text": [
      "C:\\Users\\mihai\\anaconda3\\Lib\\site-packages\\xgboost\\core.py:160: UserWarning: [05:12:14] WARNING: C:\\buildkite-agent\\builds\\buildkite-windows-cpu-autoscaling-group-i-0b3782d1791676daf-1\\xgboost\\xgboost-ci-windows\\src\\learner.cc:742: \n",
      "Parameters: { \"max_leaves\" } are not used.\n",
      "\n",
      "  warnings.warn(smsg, UserWarning)\n"
     ]
    },
    {
     "name": "stdout",
     "output_type": "stream",
     "text": [
      "[CV 1/5] END booster=gblinear, learning_rate=0.1, max_leaves=0, n_estimators=300;, score=0.562 total time=   0.3s\n"
     ]
    },
    {
     "name": "stderr",
     "output_type": "stream",
     "text": [
      "C:\\Users\\mihai\\anaconda3\\Lib\\site-packages\\xgboost\\core.py:160: UserWarning: [05:12:15] WARNING: C:\\buildkite-agent\\builds\\buildkite-windows-cpu-autoscaling-group-i-0b3782d1791676daf-1\\xgboost\\xgboost-ci-windows\\src\\learner.cc:742: \n",
      "Parameters: { \"max_leaves\" } are not used.\n",
      "\n",
      "  warnings.warn(smsg, UserWarning)\n"
     ]
    },
    {
     "name": "stdout",
     "output_type": "stream",
     "text": [
      "[CV 2/5] END booster=gblinear, learning_rate=0.1, max_leaves=0, n_estimators=300;, score=0.580 total time=   0.3s\n"
     ]
    },
    {
     "name": "stderr",
     "output_type": "stream",
     "text": [
      "C:\\Users\\mihai\\anaconda3\\Lib\\site-packages\\xgboost\\core.py:160: UserWarning: [05:12:15] WARNING: C:\\buildkite-agent\\builds\\buildkite-windows-cpu-autoscaling-group-i-0b3782d1791676daf-1\\xgboost\\xgboost-ci-windows\\src\\learner.cc:742: \n",
      "Parameters: { \"max_leaves\" } are not used.\n",
      "\n",
      "  warnings.warn(smsg, UserWarning)\n"
     ]
    },
    {
     "name": "stdout",
     "output_type": "stream",
     "text": [
      "[CV 3/5] END booster=gblinear, learning_rate=0.1, max_leaves=0, n_estimators=300;, score=0.598 total time=   0.3s\n"
     ]
    },
    {
     "name": "stderr",
     "output_type": "stream",
     "text": [
      "C:\\Users\\mihai\\anaconda3\\Lib\\site-packages\\xgboost\\core.py:160: UserWarning: [05:12:16] WARNING: C:\\buildkite-agent\\builds\\buildkite-windows-cpu-autoscaling-group-i-0b3782d1791676daf-1\\xgboost\\xgboost-ci-windows\\src\\learner.cc:742: \n",
      "Parameters: { \"max_leaves\" } are not used.\n",
      "\n",
      "  warnings.warn(smsg, UserWarning)\n"
     ]
    },
    {
     "name": "stdout",
     "output_type": "stream",
     "text": [
      "[CV 4/5] END booster=gblinear, learning_rate=0.1, max_leaves=0, n_estimators=300;, score=0.598 total time=   0.3s\n"
     ]
    },
    {
     "name": "stderr",
     "output_type": "stream",
     "text": [
      "C:\\Users\\mihai\\anaconda3\\Lib\\site-packages\\xgboost\\core.py:160: UserWarning: [05:12:16] WARNING: C:\\buildkite-agent\\builds\\buildkite-windows-cpu-autoscaling-group-i-0b3782d1791676daf-1\\xgboost\\xgboost-ci-windows\\src\\learner.cc:742: \n",
      "Parameters: { \"max_leaves\" } are not used.\n",
      "\n",
      "  warnings.warn(smsg, UserWarning)\n"
     ]
    },
    {
     "name": "stdout",
     "output_type": "stream",
     "text": [
      "[CV 5/5] END booster=gblinear, learning_rate=0.1, max_leaves=0, n_estimators=300;, score=0.583 total time=   0.3s\n"
     ]
    },
    {
     "name": "stderr",
     "output_type": "stream",
     "text": [
      "C:\\Users\\mihai\\anaconda3\\Lib\\site-packages\\xgboost\\core.py:160: UserWarning: [05:12:16] WARNING: C:\\buildkite-agent\\builds\\buildkite-windows-cpu-autoscaling-group-i-0b3782d1791676daf-1\\xgboost\\xgboost-ci-windows\\src\\learner.cc:742: \n",
      "Parameters: { \"max_leaves\" } are not used.\n",
      "\n",
      "  warnings.warn(smsg, UserWarning)\n"
     ]
    },
    {
     "name": "stdout",
     "output_type": "stream",
     "text": [
      "[CV 1/5] END booster=gblinear, learning_rate=0.1, max_leaves=5, n_estimators=100;, score=0.515 total time=   0.1s\n",
      "[CV 2/5] END booster=gblinear, learning_rate=0.1, max_leaves=5, n_estimators=100;, score=0.565 total time=   0.1s\n"
     ]
    },
    {
     "name": "stderr",
     "output_type": "stream",
     "text": [
      "C:\\Users\\mihai\\anaconda3\\Lib\\site-packages\\xgboost\\core.py:160: UserWarning: [05:12:17] WARNING: C:\\buildkite-agent\\builds\\buildkite-windows-cpu-autoscaling-group-i-0b3782d1791676daf-1\\xgboost\\xgboost-ci-windows\\src\\learner.cc:742: \n",
      "Parameters: { \"max_leaves\" } are not used.\n",
      "\n",
      "  warnings.warn(smsg, UserWarning)\n",
      "C:\\Users\\mihai\\anaconda3\\Lib\\site-packages\\xgboost\\core.py:160: UserWarning: [05:12:17] WARNING: C:\\buildkite-agent\\builds\\buildkite-windows-cpu-autoscaling-group-i-0b3782d1791676daf-1\\xgboost\\xgboost-ci-windows\\src\\learner.cc:742: \n",
      "Parameters: { \"max_leaves\" } are not used.\n",
      "\n",
      "  warnings.warn(smsg, UserWarning)\n"
     ]
    },
    {
     "name": "stdout",
     "output_type": "stream",
     "text": [
      "[CV 3/5] END booster=gblinear, learning_rate=0.1, max_leaves=5, n_estimators=100;, score=0.562 total time=   0.1s\n",
      "[CV 4/5] END booster=gblinear, learning_rate=0.1, max_leaves=5, n_estimators=100;, score=0.583 total time=   0.1s\n"
     ]
    },
    {
     "name": "stderr",
     "output_type": "stream",
     "text": [
      "C:\\Users\\mihai\\anaconda3\\Lib\\site-packages\\xgboost\\core.py:160: UserWarning: [05:12:17] WARNING: C:\\buildkite-agent\\builds\\buildkite-windows-cpu-autoscaling-group-i-0b3782d1791676daf-1\\xgboost\\xgboost-ci-windows\\src\\learner.cc:742: \n",
      "Parameters: { \"max_leaves\" } are not used.\n",
      "\n",
      "  warnings.warn(smsg, UserWarning)\n",
      "C:\\Users\\mihai\\anaconda3\\Lib\\site-packages\\xgboost\\core.py:160: UserWarning: [05:12:17] WARNING: C:\\buildkite-agent\\builds\\buildkite-windows-cpu-autoscaling-group-i-0b3782d1791676daf-1\\xgboost\\xgboost-ci-windows\\src\\learner.cc:742: \n",
      "Parameters: { \"max_leaves\" } are not used.\n",
      "\n",
      "  warnings.warn(smsg, UserWarning)\n"
     ]
    },
    {
     "name": "stdout",
     "output_type": "stream",
     "text": [
      "[CV 5/5] END booster=gblinear, learning_rate=0.1, max_leaves=5, n_estimators=100;, score=0.530 total time=   0.1s\n"
     ]
    },
    {
     "name": "stderr",
     "output_type": "stream",
     "text": [
      "C:\\Users\\mihai\\anaconda3\\Lib\\site-packages\\xgboost\\core.py:160: UserWarning: [05:12:17] WARNING: C:\\buildkite-agent\\builds\\buildkite-windows-cpu-autoscaling-group-i-0b3782d1791676daf-1\\xgboost\\xgboost-ci-windows\\src\\learner.cc:742: \n",
      "Parameters: { \"max_leaves\" } are not used.\n",
      "\n",
      "  warnings.warn(smsg, UserWarning)\n"
     ]
    },
    {
     "name": "stdout",
     "output_type": "stream",
     "text": [
      "[CV 1/5] END booster=gblinear, learning_rate=0.1, max_leaves=5, n_estimators=200;, score=0.544 total time=   0.2s\n"
     ]
    },
    {
     "name": "stderr",
     "output_type": "stream",
     "text": [
      "C:\\Users\\mihai\\anaconda3\\Lib\\site-packages\\xgboost\\core.py:160: UserWarning: [05:12:18] WARNING: C:\\buildkite-agent\\builds\\buildkite-windows-cpu-autoscaling-group-i-0b3782d1791676daf-1\\xgboost\\xgboost-ci-windows\\src\\learner.cc:742: \n",
      "Parameters: { \"max_leaves\" } are not used.\n",
      "\n",
      "  warnings.warn(smsg, UserWarning)\n"
     ]
    },
    {
     "name": "stdout",
     "output_type": "stream",
     "text": [
      "[CV 2/5] END booster=gblinear, learning_rate=0.1, max_leaves=5, n_estimators=200;, score=0.586 total time=   0.2s\n"
     ]
    },
    {
     "name": "stderr",
     "output_type": "stream",
     "text": [
      "C:\\Users\\mihai\\anaconda3\\Lib\\site-packages\\xgboost\\core.py:160: UserWarning: [05:12:18] WARNING: C:\\buildkite-agent\\builds\\buildkite-windows-cpu-autoscaling-group-i-0b3782d1791676daf-1\\xgboost\\xgboost-ci-windows\\src\\learner.cc:742: \n",
      "Parameters: { \"max_leaves\" } are not used.\n",
      "\n",
      "  warnings.warn(smsg, UserWarning)\n"
     ]
    },
    {
     "name": "stdout",
     "output_type": "stream",
     "text": [
      "[CV 3/5] END booster=gblinear, learning_rate=0.1, max_leaves=5, n_estimators=200;, score=0.571 total time=   0.2s\n"
     ]
    },
    {
     "name": "stderr",
     "output_type": "stream",
     "text": [
      "C:\\Users\\mihai\\anaconda3\\Lib\\site-packages\\xgboost\\core.py:160: UserWarning: [05:12:18] WARNING: C:\\buildkite-agent\\builds\\buildkite-windows-cpu-autoscaling-group-i-0b3782d1791676daf-1\\xgboost\\xgboost-ci-windows\\src\\learner.cc:742: \n",
      "Parameters: { \"max_leaves\" } are not used.\n",
      "\n",
      "  warnings.warn(smsg, UserWarning)\n"
     ]
    },
    {
     "name": "stdout",
     "output_type": "stream",
     "text": [
      "[CV 4/5] END booster=gblinear, learning_rate=0.1, max_leaves=5, n_estimators=200;, score=0.604 total time=   0.2s\n"
     ]
    },
    {
     "name": "stderr",
     "output_type": "stream",
     "text": [
      "C:\\Users\\mihai\\anaconda3\\Lib\\site-packages\\xgboost\\core.py:160: UserWarning: [05:12:18] WARNING: C:\\buildkite-agent\\builds\\buildkite-windows-cpu-autoscaling-group-i-0b3782d1791676daf-1\\xgboost\\xgboost-ci-windows\\src\\learner.cc:742: \n",
      "Parameters: { \"max_leaves\" } are not used.\n",
      "\n",
      "  warnings.warn(smsg, UserWarning)\n"
     ]
    },
    {
     "name": "stdout",
     "output_type": "stream",
     "text": [
      "[CV 5/5] END booster=gblinear, learning_rate=0.1, max_leaves=5, n_estimators=200;, score=0.571 total time=   0.2s\n"
     ]
    },
    {
     "name": "stderr",
     "output_type": "stream",
     "text": [
      "C:\\Users\\mihai\\anaconda3\\Lib\\site-packages\\xgboost\\core.py:160: UserWarning: [05:12:19] WARNING: C:\\buildkite-agent\\builds\\buildkite-windows-cpu-autoscaling-group-i-0b3782d1791676daf-1\\xgboost\\xgboost-ci-windows\\src\\learner.cc:742: \n",
      "Parameters: { \"max_leaves\" } are not used.\n",
      "\n",
      "  warnings.warn(smsg, UserWarning)\n"
     ]
    },
    {
     "name": "stdout",
     "output_type": "stream",
     "text": [
      "[CV 1/5] END booster=gblinear, learning_rate=0.1, max_leaves=5, n_estimators=300;, score=0.556 total time=   0.3s\n"
     ]
    },
    {
     "name": "stderr",
     "output_type": "stream",
     "text": [
      "C:\\Users\\mihai\\anaconda3\\Lib\\site-packages\\xgboost\\core.py:160: UserWarning: [05:12:19] WARNING: C:\\buildkite-agent\\builds\\buildkite-windows-cpu-autoscaling-group-i-0b3782d1791676daf-1\\xgboost\\xgboost-ci-windows\\src\\learner.cc:742: \n",
      "Parameters: { \"max_leaves\" } are not used.\n",
      "\n",
      "  warnings.warn(smsg, UserWarning)\n"
     ]
    },
    {
     "name": "stdout",
     "output_type": "stream",
     "text": [
      "[CV 2/5] END booster=gblinear, learning_rate=0.1, max_leaves=5, n_estimators=300;, score=0.589 total time=   0.3s\n"
     ]
    },
    {
     "name": "stderr",
     "output_type": "stream",
     "text": [
      "C:\\Users\\mihai\\anaconda3\\Lib\\site-packages\\xgboost\\core.py:160: UserWarning: [05:12:20] WARNING: C:\\buildkite-agent\\builds\\buildkite-windows-cpu-autoscaling-group-i-0b3782d1791676daf-1\\xgboost\\xgboost-ci-windows\\src\\learner.cc:742: \n",
      "Parameters: { \"max_leaves\" } are not used.\n",
      "\n",
      "  warnings.warn(smsg, UserWarning)\n"
     ]
    },
    {
     "name": "stdout",
     "output_type": "stream",
     "text": [
      "[CV 3/5] END booster=gblinear, learning_rate=0.1, max_leaves=5, n_estimators=300;, score=0.601 total time=   0.3s\n"
     ]
    },
    {
     "name": "stderr",
     "output_type": "stream",
     "text": [
      "C:\\Users\\mihai\\anaconda3\\Lib\\site-packages\\xgboost\\core.py:160: UserWarning: [05:12:20] WARNING: C:\\buildkite-agent\\builds\\buildkite-windows-cpu-autoscaling-group-i-0b3782d1791676daf-1\\xgboost\\xgboost-ci-windows\\src\\learner.cc:742: \n",
      "Parameters: { \"max_leaves\" } are not used.\n",
      "\n",
      "  warnings.warn(smsg, UserWarning)\n"
     ]
    },
    {
     "name": "stdout",
     "output_type": "stream",
     "text": [
      "[CV 4/5] END booster=gblinear, learning_rate=0.1, max_leaves=5, n_estimators=300;, score=0.601 total time=   0.3s\n"
     ]
    },
    {
     "name": "stderr",
     "output_type": "stream",
     "text": [
      "C:\\Users\\mihai\\anaconda3\\Lib\\site-packages\\xgboost\\core.py:160: UserWarning: [05:12:20] WARNING: C:\\buildkite-agent\\builds\\buildkite-windows-cpu-autoscaling-group-i-0b3782d1791676daf-1\\xgboost\\xgboost-ci-windows\\src\\learner.cc:742: \n",
      "Parameters: { \"max_leaves\" } are not used.\n",
      "\n",
      "  warnings.warn(smsg, UserWarning)\n"
     ]
    },
    {
     "name": "stdout",
     "output_type": "stream",
     "text": [
      "[CV 5/5] END booster=gblinear, learning_rate=0.1, max_leaves=5, n_estimators=300;, score=0.580 total time=   0.3s\n",
      "[CV 1/5] END booster=gblinear, learning_rate=0.2, max_leaves=0, n_estimators=100;, score=0.547 total time=   0.1s\n"
     ]
    },
    {
     "name": "stderr",
     "output_type": "stream",
     "text": [
      "C:\\Users\\mihai\\anaconda3\\Lib\\site-packages\\xgboost\\core.py:160: UserWarning: [05:12:21] WARNING: C:\\buildkite-agent\\builds\\buildkite-windows-cpu-autoscaling-group-i-0b3782d1791676daf-1\\xgboost\\xgboost-ci-windows\\src\\learner.cc:742: \n",
      "Parameters: { \"max_leaves\" } are not used.\n",
      "\n",
      "  warnings.warn(smsg, UserWarning)\n",
      "C:\\Users\\mihai\\anaconda3\\Lib\\site-packages\\xgboost\\core.py:160: UserWarning: [05:12:21] WARNING: C:\\buildkite-agent\\builds\\buildkite-windows-cpu-autoscaling-group-i-0b3782d1791676daf-1\\xgboost\\xgboost-ci-windows\\src\\learner.cc:742: \n",
      "Parameters: { \"max_leaves\" } are not used.\n",
      "\n",
      "  warnings.warn(smsg, UserWarning)\n"
     ]
    },
    {
     "name": "stdout",
     "output_type": "stream",
     "text": [
      "[CV 2/5] END booster=gblinear, learning_rate=0.2, max_leaves=0, n_estimators=100;, score=0.583 total time=   0.1s\n",
      "[CV 3/5] END booster=gblinear, learning_rate=0.2, max_leaves=0, n_estimators=100;, score=0.568 total time=   0.1s\n"
     ]
    },
    {
     "name": "stderr",
     "output_type": "stream",
     "text": [
      "C:\\Users\\mihai\\anaconda3\\Lib\\site-packages\\xgboost\\core.py:160: UserWarning: [05:12:21] WARNING: C:\\buildkite-agent\\builds\\buildkite-windows-cpu-autoscaling-group-i-0b3782d1791676daf-1\\xgboost\\xgboost-ci-windows\\src\\learner.cc:742: \n",
      "Parameters: { \"max_leaves\" } are not used.\n",
      "\n",
      "  warnings.warn(smsg, UserWarning)\n",
      "C:\\Users\\mihai\\anaconda3\\Lib\\site-packages\\xgboost\\core.py:160: UserWarning: [05:12:21] WARNING: C:\\buildkite-agent\\builds\\buildkite-windows-cpu-autoscaling-group-i-0b3782d1791676daf-1\\xgboost\\xgboost-ci-windows\\src\\learner.cc:742: \n",
      "Parameters: { \"max_leaves\" } are not used.\n",
      "\n",
      "  warnings.warn(smsg, UserWarning)\n"
     ]
    },
    {
     "name": "stdout",
     "output_type": "stream",
     "text": [
      "[CV 4/5] END booster=gblinear, learning_rate=0.2, max_leaves=0, n_estimators=100;, score=0.598 total time=   0.1s\n",
      "[CV 5/5] END booster=gblinear, learning_rate=0.2, max_leaves=0, n_estimators=100;, score=0.571 total time=   0.1s\n"
     ]
    },
    {
     "name": "stderr",
     "output_type": "stream",
     "text": [
      "C:\\Users\\mihai\\anaconda3\\Lib\\site-packages\\xgboost\\core.py:160: UserWarning: [05:12:22] WARNING: C:\\buildkite-agent\\builds\\buildkite-windows-cpu-autoscaling-group-i-0b3782d1791676daf-1\\xgboost\\xgboost-ci-windows\\src\\learner.cc:742: \n",
      "Parameters: { \"max_leaves\" } are not used.\n",
      "\n",
      "  warnings.warn(smsg, UserWarning)\n",
      "C:\\Users\\mihai\\anaconda3\\Lib\\site-packages\\xgboost\\core.py:160: UserWarning: [05:12:22] WARNING: C:\\buildkite-agent\\builds\\buildkite-windows-cpu-autoscaling-group-i-0b3782d1791676daf-1\\xgboost\\xgboost-ci-windows\\src\\learner.cc:742: \n",
      "Parameters: { \"max_leaves\" } are not used.\n",
      "\n",
      "  warnings.warn(smsg, UserWarning)\n"
     ]
    },
    {
     "name": "stdout",
     "output_type": "stream",
     "text": [
      "[CV 1/5] END booster=gblinear, learning_rate=0.2, max_leaves=0, n_estimators=200;, score=0.562 total time=   0.2s\n"
     ]
    },
    {
     "name": "stderr",
     "output_type": "stream",
     "text": [
      "C:\\Users\\mihai\\anaconda3\\Lib\\site-packages\\xgboost\\core.py:160: UserWarning: [05:12:22] WARNING: C:\\buildkite-agent\\builds\\buildkite-windows-cpu-autoscaling-group-i-0b3782d1791676daf-1\\xgboost\\xgboost-ci-windows\\src\\learner.cc:742: \n",
      "Parameters: { \"max_leaves\" } are not used.\n",
      "\n",
      "  warnings.warn(smsg, UserWarning)\n"
     ]
    },
    {
     "name": "stdout",
     "output_type": "stream",
     "text": [
      "[CV 2/5] END booster=gblinear, learning_rate=0.2, max_leaves=0, n_estimators=200;, score=0.598 total time=   0.2s\n"
     ]
    },
    {
     "name": "stderr",
     "output_type": "stream",
     "text": [
      "C:\\Users\\mihai\\anaconda3\\Lib\\site-packages\\xgboost\\core.py:160: UserWarning: [05:12:22] WARNING: C:\\buildkite-agent\\builds\\buildkite-windows-cpu-autoscaling-group-i-0b3782d1791676daf-1\\xgboost\\xgboost-ci-windows\\src\\learner.cc:742: \n",
      "Parameters: { \"max_leaves\" } are not used.\n",
      "\n",
      "  warnings.warn(smsg, UserWarning)\n"
     ]
    },
    {
     "name": "stdout",
     "output_type": "stream",
     "text": [
      "[CV 3/5] END booster=gblinear, learning_rate=0.2, max_leaves=0, n_estimators=200;, score=0.615 total time=   0.2s\n"
     ]
    },
    {
     "name": "stderr",
     "output_type": "stream",
     "text": [
      "C:\\Users\\mihai\\anaconda3\\Lib\\site-packages\\xgboost\\core.py:160: UserWarning: [05:12:23] WARNING: C:\\buildkite-agent\\builds\\buildkite-windows-cpu-autoscaling-group-i-0b3782d1791676daf-1\\xgboost\\xgboost-ci-windows\\src\\learner.cc:742: \n",
      "Parameters: { \"max_leaves\" } are not used.\n",
      "\n",
      "  warnings.warn(smsg, UserWarning)\n"
     ]
    },
    {
     "name": "stdout",
     "output_type": "stream",
     "text": [
      "[CV 4/5] END booster=gblinear, learning_rate=0.2, max_leaves=0, n_estimators=200;, score=0.612 total time=   0.2s\n"
     ]
    },
    {
     "name": "stderr",
     "output_type": "stream",
     "text": [
      "C:\\Users\\mihai\\anaconda3\\Lib\\site-packages\\xgboost\\core.py:160: UserWarning: [05:12:23] WARNING: C:\\buildkite-agent\\builds\\buildkite-windows-cpu-autoscaling-group-i-0b3782d1791676daf-1\\xgboost\\xgboost-ci-windows\\src\\learner.cc:742: \n",
      "Parameters: { \"max_leaves\" } are not used.\n",
      "\n",
      "  warnings.warn(smsg, UserWarning)\n"
     ]
    },
    {
     "name": "stdout",
     "output_type": "stream",
     "text": [
      "[CV 5/5] END booster=gblinear, learning_rate=0.2, max_leaves=0, n_estimators=200;, score=0.604 total time=   0.2s\n"
     ]
    },
    {
     "name": "stderr",
     "output_type": "stream",
     "text": [
      "C:\\Users\\mihai\\anaconda3\\Lib\\site-packages\\xgboost\\core.py:160: UserWarning: [05:12:23] WARNING: C:\\buildkite-agent\\builds\\buildkite-windows-cpu-autoscaling-group-i-0b3782d1791676daf-1\\xgboost\\xgboost-ci-windows\\src\\learner.cc:742: \n",
      "Parameters: { \"max_leaves\" } are not used.\n",
      "\n",
      "  warnings.warn(smsg, UserWarning)\n"
     ]
    },
    {
     "name": "stdout",
     "output_type": "stream",
     "text": [
      "[CV 1/5] END booster=gblinear, learning_rate=0.2, max_leaves=0, n_estimators=300;, score=0.592 total time=   0.3s\n"
     ]
    },
    {
     "name": "stderr",
     "output_type": "stream",
     "text": [
      "C:\\Users\\mihai\\anaconda3\\Lib\\site-packages\\xgboost\\core.py:160: UserWarning: [05:12:24] WARNING: C:\\buildkite-agent\\builds\\buildkite-windows-cpu-autoscaling-group-i-0b3782d1791676daf-1\\xgboost\\xgboost-ci-windows\\src\\learner.cc:742: \n",
      "Parameters: { \"max_leaves\" } are not used.\n",
      "\n",
      "  warnings.warn(smsg, UserWarning)\n"
     ]
    },
    {
     "name": "stdout",
     "output_type": "stream",
     "text": [
      "[CV 2/5] END booster=gblinear, learning_rate=0.2, max_leaves=0, n_estimators=300;, score=0.624 total time=   0.3s\n"
     ]
    },
    {
     "name": "stderr",
     "output_type": "stream",
     "text": [
      "C:\\Users\\mihai\\anaconda3\\Lib\\site-packages\\xgboost\\core.py:160: UserWarning: [05:12:24] WARNING: C:\\buildkite-agent\\builds\\buildkite-windows-cpu-autoscaling-group-i-0b3782d1791676daf-1\\xgboost\\xgboost-ci-windows\\src\\learner.cc:742: \n",
      "Parameters: { \"max_leaves\" } are not used.\n",
      "\n",
      "  warnings.warn(smsg, UserWarning)\n"
     ]
    },
    {
     "name": "stdout",
     "output_type": "stream",
     "text": [
      "[CV 3/5] END booster=gblinear, learning_rate=0.2, max_leaves=0, n_estimators=300;, score=0.654 total time=   0.3s\n"
     ]
    },
    {
     "name": "stderr",
     "output_type": "stream",
     "text": [
      "C:\\Users\\mihai\\anaconda3\\Lib\\site-packages\\xgboost\\core.py:160: UserWarning: [05:12:24] WARNING: C:\\buildkite-agent\\builds\\buildkite-windows-cpu-autoscaling-group-i-0b3782d1791676daf-1\\xgboost\\xgboost-ci-windows\\src\\learner.cc:742: \n",
      "Parameters: { \"max_leaves\" } are not used.\n",
      "\n",
      "  warnings.warn(smsg, UserWarning)\n"
     ]
    },
    {
     "name": "stdout",
     "output_type": "stream",
     "text": [
      "[CV 4/5] END booster=gblinear, learning_rate=0.2, max_leaves=0, n_estimators=300;, score=0.624 total time=   0.3s\n"
     ]
    },
    {
     "name": "stderr",
     "output_type": "stream",
     "text": [
      "C:\\Users\\mihai\\anaconda3\\Lib\\site-packages\\xgboost\\core.py:160: UserWarning: [05:12:25] WARNING: C:\\buildkite-agent\\builds\\buildkite-windows-cpu-autoscaling-group-i-0b3782d1791676daf-1\\xgboost\\xgboost-ci-windows\\src\\learner.cc:742: \n",
      "Parameters: { \"max_leaves\" } are not used.\n",
      "\n",
      "  warnings.warn(smsg, UserWarning)\n"
     ]
    },
    {
     "name": "stdout",
     "output_type": "stream",
     "text": [
      "[CV 5/5] END booster=gblinear, learning_rate=0.2, max_leaves=0, n_estimators=300;, score=0.633 total time=   0.3s\n",
      "[CV 1/5] END booster=gblinear, learning_rate=0.2, max_leaves=5, n_estimators=100;, score=0.547 total time=   0.1s\n"
     ]
    },
    {
     "name": "stderr",
     "output_type": "stream",
     "text": [
      "C:\\Users\\mihai\\anaconda3\\Lib\\site-packages\\xgboost\\core.py:160: UserWarning: [05:12:25] WARNING: C:\\buildkite-agent\\builds\\buildkite-windows-cpu-autoscaling-group-i-0b3782d1791676daf-1\\xgboost\\xgboost-ci-windows\\src\\learner.cc:742: \n",
      "Parameters: { \"max_leaves\" } are not used.\n",
      "\n",
      "  warnings.warn(smsg, UserWarning)\n",
      "C:\\Users\\mihai\\anaconda3\\Lib\\site-packages\\xgboost\\core.py:160: UserWarning: [05:12:25] WARNING: C:\\buildkite-agent\\builds\\buildkite-windows-cpu-autoscaling-group-i-0b3782d1791676daf-1\\xgboost\\xgboost-ci-windows\\src\\learner.cc:742: \n",
      "Parameters: { \"max_leaves\" } are not used.\n",
      "\n",
      "  warnings.warn(smsg, UserWarning)\n"
     ]
    },
    {
     "name": "stdout",
     "output_type": "stream",
     "text": [
      "[CV 2/5] END booster=gblinear, learning_rate=0.2, max_leaves=5, n_estimators=100;, score=0.592 total time=   0.1s\n",
      "[CV 3/5] END booster=gblinear, learning_rate=0.2, max_leaves=5, n_estimators=100;, score=0.574 total time=   0.1s\n"
     ]
    },
    {
     "name": "stderr",
     "output_type": "stream",
     "text": [
      "C:\\Users\\mihai\\anaconda3\\Lib\\site-packages\\xgboost\\core.py:160: UserWarning: [05:12:26] WARNING: C:\\buildkite-agent\\builds\\buildkite-windows-cpu-autoscaling-group-i-0b3782d1791676daf-1\\xgboost\\xgboost-ci-windows\\src\\learner.cc:742: \n",
      "Parameters: { \"max_leaves\" } are not used.\n",
      "\n",
      "  warnings.warn(smsg, UserWarning)\n",
      "C:\\Users\\mihai\\anaconda3\\Lib\\site-packages\\xgboost\\core.py:160: UserWarning: [05:12:26] WARNING: C:\\buildkite-agent\\builds\\buildkite-windows-cpu-autoscaling-group-i-0b3782d1791676daf-1\\xgboost\\xgboost-ci-windows\\src\\learner.cc:742: \n",
      "Parameters: { \"max_leaves\" } are not used.\n",
      "\n",
      "  warnings.warn(smsg, UserWarning)\n"
     ]
    },
    {
     "name": "stdout",
     "output_type": "stream",
     "text": [
      "[CV 4/5] END booster=gblinear, learning_rate=0.2, max_leaves=5, n_estimators=100;, score=0.595 total time=   0.1s\n",
      "[CV 5/5] END booster=gblinear, learning_rate=0.2, max_leaves=5, n_estimators=100;, score=0.565 total time=   0.1s\n"
     ]
    },
    {
     "name": "stderr",
     "output_type": "stream",
     "text": [
      "C:\\Users\\mihai\\anaconda3\\Lib\\site-packages\\xgboost\\core.py:160: UserWarning: [05:12:26] WARNING: C:\\buildkite-agent\\builds\\buildkite-windows-cpu-autoscaling-group-i-0b3782d1791676daf-1\\xgboost\\xgboost-ci-windows\\src\\learner.cc:742: \n",
      "Parameters: { \"max_leaves\" } are not used.\n",
      "\n",
      "  warnings.warn(smsg, UserWarning)\n",
      "C:\\Users\\mihai\\anaconda3\\Lib\\site-packages\\xgboost\\core.py:160: UserWarning: [05:12:26] WARNING: C:\\buildkite-agent\\builds\\buildkite-windows-cpu-autoscaling-group-i-0b3782d1791676daf-1\\xgboost\\xgboost-ci-windows\\src\\learner.cc:742: \n",
      "Parameters: { \"max_leaves\" } are not used.\n",
      "\n",
      "  warnings.warn(smsg, UserWarning)\n"
     ]
    },
    {
     "name": "stdout",
     "output_type": "stream",
     "text": [
      "[CV 1/5] END booster=gblinear, learning_rate=0.2, max_leaves=5, n_estimators=200;, score=0.562 total time=   0.2s\n"
     ]
    },
    {
     "name": "stderr",
     "output_type": "stream",
     "text": [
      "C:\\Users\\mihai\\anaconda3\\Lib\\site-packages\\xgboost\\core.py:160: UserWarning: [05:12:26] WARNING: C:\\buildkite-agent\\builds\\buildkite-windows-cpu-autoscaling-group-i-0b3782d1791676daf-1\\xgboost\\xgboost-ci-windows\\src\\learner.cc:742: \n",
      "Parameters: { \"max_leaves\" } are not used.\n",
      "\n",
      "  warnings.warn(smsg, UserWarning)\n"
     ]
    },
    {
     "name": "stdout",
     "output_type": "stream",
     "text": [
      "[CV 2/5] END booster=gblinear, learning_rate=0.2, max_leaves=5, n_estimators=200;, score=0.595 total time=   0.2s\n"
     ]
    },
    {
     "name": "stderr",
     "output_type": "stream",
     "text": [
      "C:\\Users\\mihai\\anaconda3\\Lib\\site-packages\\xgboost\\core.py:160: UserWarning: [05:12:27] WARNING: C:\\buildkite-agent\\builds\\buildkite-windows-cpu-autoscaling-group-i-0b3782d1791676daf-1\\xgboost\\xgboost-ci-windows\\src\\learner.cc:742: \n",
      "Parameters: { \"max_leaves\" } are not used.\n",
      "\n",
      "  warnings.warn(smsg, UserWarning)\n"
     ]
    },
    {
     "name": "stdout",
     "output_type": "stream",
     "text": [
      "[CV 3/5] END booster=gblinear, learning_rate=0.2, max_leaves=5, n_estimators=200;, score=0.612 total time=   0.2s\n"
     ]
    },
    {
     "name": "stderr",
     "output_type": "stream",
     "text": [
      "C:\\Users\\mihai\\anaconda3\\Lib\\site-packages\\xgboost\\core.py:160: UserWarning: [05:12:27] WARNING: C:\\buildkite-agent\\builds\\buildkite-windows-cpu-autoscaling-group-i-0b3782d1791676daf-1\\xgboost\\xgboost-ci-windows\\src\\learner.cc:742: \n",
      "Parameters: { \"max_leaves\" } are not used.\n",
      "\n",
      "  warnings.warn(smsg, UserWarning)\n"
     ]
    },
    {
     "name": "stdout",
     "output_type": "stream",
     "text": [
      "[CV 4/5] END booster=gblinear, learning_rate=0.2, max_leaves=5, n_estimators=200;, score=0.609 total time=   0.2s\n"
     ]
    },
    {
     "name": "stderr",
     "output_type": "stream",
     "text": [
      "C:\\Users\\mihai\\anaconda3\\Lib\\site-packages\\xgboost\\core.py:160: UserWarning: [05:12:27] WARNING: C:\\buildkite-agent\\builds\\buildkite-windows-cpu-autoscaling-group-i-0b3782d1791676daf-1\\xgboost\\xgboost-ci-windows\\src\\learner.cc:742: \n",
      "Parameters: { \"max_leaves\" } are not used.\n",
      "\n",
      "  warnings.warn(smsg, UserWarning)\n"
     ]
    },
    {
     "name": "stdout",
     "output_type": "stream",
     "text": [
      "[CV 5/5] END booster=gblinear, learning_rate=0.2, max_leaves=5, n_estimators=200;, score=0.604 total time=   0.2s\n"
     ]
    },
    {
     "name": "stderr",
     "output_type": "stream",
     "text": [
      "C:\\Users\\mihai\\anaconda3\\Lib\\site-packages\\xgboost\\core.py:160: UserWarning: [05:12:28] WARNING: C:\\buildkite-agent\\builds\\buildkite-windows-cpu-autoscaling-group-i-0b3782d1791676daf-1\\xgboost\\xgboost-ci-windows\\src\\learner.cc:742: \n",
      "Parameters: { \"max_leaves\" } are not used.\n",
      "\n",
      "  warnings.warn(smsg, UserWarning)\n"
     ]
    },
    {
     "name": "stdout",
     "output_type": "stream",
     "text": [
      "[CV 1/5] END booster=gblinear, learning_rate=0.2, max_leaves=5, n_estimators=300;, score=0.589 total time=   0.3s\n"
     ]
    },
    {
     "name": "stderr",
     "output_type": "stream",
     "text": [
      "C:\\Users\\mihai\\anaconda3\\Lib\\site-packages\\xgboost\\core.py:160: UserWarning: [05:12:28] WARNING: C:\\buildkite-agent\\builds\\buildkite-windows-cpu-autoscaling-group-i-0b3782d1791676daf-1\\xgboost\\xgboost-ci-windows\\src\\learner.cc:742: \n",
      "Parameters: { \"max_leaves\" } are not used.\n",
      "\n",
      "  warnings.warn(smsg, UserWarning)\n"
     ]
    },
    {
     "name": "stdout",
     "output_type": "stream",
     "text": [
      "[CV 2/5] END booster=gblinear, learning_rate=0.2, max_leaves=5, n_estimators=300;, score=0.615 total time=   0.3s\n"
     ]
    },
    {
     "name": "stderr",
     "output_type": "stream",
     "text": [
      "C:\\Users\\mihai\\anaconda3\\Lib\\site-packages\\xgboost\\core.py:160: UserWarning: [05:12:28] WARNING: C:\\buildkite-agent\\builds\\buildkite-windows-cpu-autoscaling-group-i-0b3782d1791676daf-1\\xgboost\\xgboost-ci-windows\\src\\learner.cc:742: \n",
      "Parameters: { \"max_leaves\" } are not used.\n",
      "\n",
      "  warnings.warn(smsg, UserWarning)\n"
     ]
    },
    {
     "name": "stdout",
     "output_type": "stream",
     "text": [
      "[CV 3/5] END booster=gblinear, learning_rate=0.2, max_leaves=5, n_estimators=300;, score=0.654 total time=   0.3s\n"
     ]
    },
    {
     "name": "stderr",
     "output_type": "stream",
     "text": [
      "C:\\Users\\mihai\\anaconda3\\Lib\\site-packages\\xgboost\\core.py:160: UserWarning: [05:12:29] WARNING: C:\\buildkite-agent\\builds\\buildkite-windows-cpu-autoscaling-group-i-0b3782d1791676daf-1\\xgboost\\xgboost-ci-windows\\src\\learner.cc:742: \n",
      "Parameters: { \"max_leaves\" } are not used.\n",
      "\n",
      "  warnings.warn(smsg, UserWarning)\n"
     ]
    },
    {
     "name": "stdout",
     "output_type": "stream",
     "text": [
      "[CV 4/5] END booster=gblinear, learning_rate=0.2, max_leaves=5, n_estimators=300;, score=0.624 total time=   0.3s\n"
     ]
    },
    {
     "name": "stderr",
     "output_type": "stream",
     "text": [
      "C:\\Users\\mihai\\anaconda3\\Lib\\site-packages\\xgboost\\core.py:160: UserWarning: [05:12:29] WARNING: C:\\buildkite-agent\\builds\\buildkite-windows-cpu-autoscaling-group-i-0b3782d1791676daf-1\\xgboost\\xgboost-ci-windows\\src\\learner.cc:742: \n",
      "Parameters: { \"max_leaves\" } are not used.\n",
      "\n",
      "  warnings.warn(smsg, UserWarning)\n"
     ]
    },
    {
     "name": "stdout",
     "output_type": "stream",
     "text": [
      "[CV 5/5] END booster=gblinear, learning_rate=0.2, max_leaves=5, n_estimators=300;, score=0.630 total time=   0.3s\n",
      "\n",
      "Najbolji parametri: {'booster': 'gbtree', 'learning_rate': 0.1, 'max_leaves': 0, 'n_estimators': 300}\n",
      "Preciznost modela sa najboljim parametrima: 0.81579\n",
      "\n",
      "Izvestaj o klasifikaciji:\n",
      "               precision    recall  f1-score   support\n",
      "\n",
      "         0.0       0.92      0.95      0.93        82\n",
      "         1.0       0.68      0.60      0.64        25\n",
      "         2.0       0.96      0.88      0.92        25\n",
      "         3.0       0.20      0.25      0.22         4\n",
      "         4.0       0.47      0.50      0.48        16\n",
      "\n",
      "    accuracy                           0.82       152\n",
      "   macro avg       0.65      0.64      0.64       152\n",
      "weighted avg       0.82      0.82      0.82       152\n",
      "\n"
     ]
    }
   ],
   "source": [
    "param_grid = {\n",
    "    'n_estimators': [100, 200, 300],\n",
    "    'learning_rate': [0.1, 0.2],\n",
    "    'max_leaves': [0, 5],\n",
    "    'booster': ['gbtree', 'gblinear'],\n",
    "}\n",
    "\n",
    "clf = XGBClassifier(objective=\"multi:softmax\", random_state=42, num_class=5)\n",
    "\n",
    "grid_search = GridSearchCV(clf, param_grid, cv=5, scoring='accuracy', verbose=4)\n",
    "grid_search.fit(X_train_SMOTE, y_train_SMOTE)\n",
    "\n",
    "best_params = grid_search.best_params_\n",
    "\n",
    "best_clf = XGBClassifier(objective=\"multi:softmax\", random_state=42, num_class=5, **best_params)\n",
    "best_clf.fit(X_train_SMOTE, y_train_SMOTE)\n",
    "\n",
    "y_pred_best = best_clf.predict(X_test)\n",
    "accuracy_best = accuracy_score(y_test, y_pred_best)\n",
    "\n",
    "classification_rep = classification_report(y_test, y_pred_best)\n",
    "\n",
    "print(\"\\nNajbolji parametri:\", best_params)\n",
    "print(\"Preciznost modela sa najboljim parametrima:\", round(accuracy_best, 5))\n",
    "print(\"\\nIzvestaj o klasifikaciji:\\n\", classification_rep)"
   ]
  },
  {
   "cell_type": "code",
   "execution_count": null,
   "id": "d45d91cb-4ddf-4fee-8dff-23c280b7e94c",
   "metadata": {},
   "outputs": [],
   "source": []
  },
  {
   "cell_type": "code",
   "execution_count": 38,
   "id": "88393f92-161c-453f-a9eb-ef4405fdf4a7",
   "metadata": {},
   "outputs": [
    {
     "name": "stdout",
     "output_type": "stream",
     "text": [
      "Fitting 5 folds for each of 24 candidates, totalling 120 fits\n",
      "[CV 1/5] END booster=gbtree, learning_rate=0.1, max_leaves=0, n_estimators=100;, score=0.803 total time=   0.9s\n",
      "[CV 2/5] END booster=gbtree, learning_rate=0.1, max_leaves=0, n_estimators=100;, score=0.762 total time=   0.8s\n",
      "[CV 3/5] END booster=gbtree, learning_rate=0.1, max_leaves=0, n_estimators=100;, score=0.860 total time=   0.8s\n",
      "[CV 4/5] END booster=gbtree, learning_rate=0.1, max_leaves=0, n_estimators=100;, score=0.835 total time=   0.8s\n",
      "[CV 5/5] END booster=gbtree, learning_rate=0.1, max_leaves=0, n_estimators=100;, score=0.860 total time=   0.8s\n",
      "[CV 1/5] END booster=gbtree, learning_rate=0.1, max_leaves=0, n_estimators=200;, score=0.803 total time=   1.2s\n",
      "[CV 2/5] END booster=gbtree, learning_rate=0.1, max_leaves=0, n_estimators=200;, score=0.770 total time=   1.2s\n",
      "[CV 3/5] END booster=gbtree, learning_rate=0.1, max_leaves=0, n_estimators=200;, score=0.876 total time=   1.3s\n",
      "[CV 4/5] END booster=gbtree, learning_rate=0.1, max_leaves=0, n_estimators=200;, score=0.851 total time=   1.3s\n",
      "[CV 5/5] END booster=gbtree, learning_rate=0.1, max_leaves=0, n_estimators=200;, score=0.851 total time=   1.2s\n",
      "[CV 1/5] END booster=gbtree, learning_rate=0.1, max_leaves=0, n_estimators=300;, score=0.795 total time=   1.5s\n",
      "[CV 2/5] END booster=gbtree, learning_rate=0.1, max_leaves=0, n_estimators=300;, score=0.770 total time=   1.5s\n",
      "[CV 3/5] END booster=gbtree, learning_rate=0.1, max_leaves=0, n_estimators=300;, score=0.876 total time=   1.7s\n",
      "[CV 4/5] END booster=gbtree, learning_rate=0.1, max_leaves=0, n_estimators=300;, score=0.843 total time=   2.0s\n",
      "[CV 5/5] END booster=gbtree, learning_rate=0.1, max_leaves=0, n_estimators=300;, score=0.826 total time=   1.7s\n",
      "[CV 1/5] END booster=gbtree, learning_rate=0.1, max_leaves=5, n_estimators=100;, score=0.844 total time=   0.4s\n",
      "[CV 2/5] END booster=gbtree, learning_rate=0.1, max_leaves=5, n_estimators=100;, score=0.787 total time=   0.4s\n",
      "[CV 3/5] END booster=gbtree, learning_rate=0.1, max_leaves=5, n_estimators=100;, score=0.868 total time=   0.4s\n",
      "[CV 4/5] END booster=gbtree, learning_rate=0.1, max_leaves=5, n_estimators=100;, score=0.818 total time=   0.4s\n",
      "[CV 5/5] END booster=gbtree, learning_rate=0.1, max_leaves=5, n_estimators=100;, score=0.826 total time=   0.4s\n",
      "[CV 1/5] END booster=gbtree, learning_rate=0.1, max_leaves=5, n_estimators=200;, score=0.828 total time=   0.9s\n",
      "[CV 2/5] END booster=gbtree, learning_rate=0.1, max_leaves=5, n_estimators=200;, score=0.762 total time=   0.9s\n",
      "[CV 3/5] END booster=gbtree, learning_rate=0.1, max_leaves=5, n_estimators=200;, score=0.876 total time=   0.9s\n",
      "[CV 4/5] END booster=gbtree, learning_rate=0.1, max_leaves=5, n_estimators=200;, score=0.818 total time=   0.9s\n",
      "[CV 5/5] END booster=gbtree, learning_rate=0.1, max_leaves=5, n_estimators=200;, score=0.851 total time=   0.9s\n",
      "[CV 1/5] END booster=gbtree, learning_rate=0.1, max_leaves=5, n_estimators=300;, score=0.828 total time=   1.3s\n",
      "[CV 2/5] END booster=gbtree, learning_rate=0.1, max_leaves=5, n_estimators=300;, score=0.795 total time=   1.3s\n",
      "[CV 3/5] END booster=gbtree, learning_rate=0.1, max_leaves=5, n_estimators=300;, score=0.884 total time=   1.4s\n",
      "[CV 4/5] END booster=gbtree, learning_rate=0.1, max_leaves=5, n_estimators=300;, score=0.835 total time=   1.3s\n",
      "[CV 5/5] END booster=gbtree, learning_rate=0.1, max_leaves=5, n_estimators=300;, score=0.868 total time=   1.3s\n",
      "[CV 1/5] END booster=gbtree, learning_rate=0.2, max_leaves=0, n_estimators=100;, score=0.803 total time=   0.6s\n",
      "[CV 2/5] END booster=gbtree, learning_rate=0.2, max_leaves=0, n_estimators=100;, score=0.779 total time=   0.6s\n",
      "[CV 3/5] END booster=gbtree, learning_rate=0.2, max_leaves=0, n_estimators=100;, score=0.868 total time=   0.6s\n",
      "[CV 4/5] END booster=gbtree, learning_rate=0.2, max_leaves=0, n_estimators=100;, score=0.835 total time=   0.6s\n",
      "[CV 5/5] END booster=gbtree, learning_rate=0.2, max_leaves=0, n_estimators=100;, score=0.835 total time=   0.8s\n",
      "[CV 1/5] END booster=gbtree, learning_rate=0.2, max_leaves=0, n_estimators=200;, score=0.803 total time=   0.9s\n",
      "[CV 2/5] END booster=gbtree, learning_rate=0.2, max_leaves=0, n_estimators=200;, score=0.762 total time=   0.9s\n",
      "[CV 3/5] END booster=gbtree, learning_rate=0.2, max_leaves=0, n_estimators=200;, score=0.876 total time=   1.2s\n",
      "[CV 4/5] END booster=gbtree, learning_rate=0.2, max_leaves=0, n_estimators=200;, score=0.843 total time=   1.0s\n",
      "[CV 5/5] END booster=gbtree, learning_rate=0.2, max_leaves=0, n_estimators=200;, score=0.835 total time=   1.0s\n",
      "[CV 1/5] END booster=gbtree, learning_rate=0.2, max_leaves=0, n_estimators=300;, score=0.803 total time=   1.2s\n",
      "[CV 2/5] END booster=gbtree, learning_rate=0.2, max_leaves=0, n_estimators=300;, score=0.762 total time=   1.2s\n",
      "[CV 3/5] END booster=gbtree, learning_rate=0.2, max_leaves=0, n_estimators=300;, score=0.884 total time=   1.2s\n",
      "[CV 4/5] END booster=gbtree, learning_rate=0.2, max_leaves=0, n_estimators=300;, score=0.843 total time=   1.7s\n",
      "[CV 5/5] END booster=gbtree, learning_rate=0.2, max_leaves=0, n_estimators=300;, score=0.818 total time=   1.2s\n",
      "[CV 1/5] END booster=gbtree, learning_rate=0.2, max_leaves=5, n_estimators=100;, score=0.811 total time=   0.4s\n",
      "[CV 2/5] END booster=gbtree, learning_rate=0.2, max_leaves=5, n_estimators=100;, score=0.770 total time=   0.4s\n",
      "[CV 3/5] END booster=gbtree, learning_rate=0.2, max_leaves=5, n_estimators=100;, score=0.876 total time=   0.4s\n",
      "[CV 4/5] END booster=gbtree, learning_rate=0.2, max_leaves=5, n_estimators=100;, score=0.826 total time=   0.4s\n",
      "[CV 5/5] END booster=gbtree, learning_rate=0.2, max_leaves=5, n_estimators=100;, score=0.843 total time=   0.4s\n",
      "[CV 1/5] END booster=gbtree, learning_rate=0.2, max_leaves=5, n_estimators=200;, score=0.828 total time=   0.8s\n",
      "[CV 2/5] END booster=gbtree, learning_rate=0.2, max_leaves=5, n_estimators=200;, score=0.779 total time=   0.8s\n",
      "[CV 3/5] END booster=gbtree, learning_rate=0.2, max_leaves=5, n_estimators=200;, score=0.901 total time=   0.8s\n",
      "[CV 4/5] END booster=gbtree, learning_rate=0.2, max_leaves=5, n_estimators=200;, score=0.835 total time=   0.8s\n",
      "[CV 5/5] END booster=gbtree, learning_rate=0.2, max_leaves=5, n_estimators=200;, score=0.884 total time=   0.8s\n",
      "[CV 1/5] END booster=gbtree, learning_rate=0.2, max_leaves=5, n_estimators=300;, score=0.828 total time=   1.0s\n",
      "[CV 2/5] END booster=gbtree, learning_rate=0.2, max_leaves=5, n_estimators=300;, score=0.779 total time=   1.1s\n",
      "[CV 3/5] END booster=gbtree, learning_rate=0.2, max_leaves=5, n_estimators=300;, score=0.901 total time=   1.1s\n",
      "[CV 4/5] END booster=gbtree, learning_rate=0.2, max_leaves=5, n_estimators=300;, score=0.835 total time=   1.1s\n",
      "[CV 5/5] END booster=gbtree, learning_rate=0.2, max_leaves=5, n_estimators=300;, score=0.860 total time=   1.0s\n",
      "[CV 1/5] END booster=gblinear, learning_rate=0.1, max_leaves=0, n_estimators=100;, score=0.566 total time=   0.0s\n"
     ]
    },
    {
     "name": "stderr",
     "output_type": "stream",
     "text": [
      "C:\\Users\\mihai\\anaconda3\\Lib\\site-packages\\xgboost\\core.py:160: UserWarning: [05:26:33] WARNING: C:\\buildkite-agent\\builds\\buildkite-windows-cpu-autoscaling-group-i-0b3782d1791676daf-1\\xgboost\\xgboost-ci-windows\\src\\learner.cc:742: \n",
      "Parameters: { \"max_leaves\" } are not used.\n",
      "\n",
      "  warnings.warn(smsg, UserWarning)\n",
      "C:\\Users\\mihai\\anaconda3\\Lib\\site-packages\\xgboost\\core.py:160: UserWarning: [05:26:33] WARNING: C:\\buildkite-agent\\builds\\buildkite-windows-cpu-autoscaling-group-i-0b3782d1791676daf-1\\xgboost\\xgboost-ci-windows\\src\\learner.cc:742: \n",
      "Parameters: { \"max_leaves\" } are not used.\n",
      "\n",
      "  warnings.warn(smsg, UserWarning)\n"
     ]
    },
    {
     "name": "stdout",
     "output_type": "stream",
     "text": [
      "[CV 2/5] END booster=gblinear, learning_rate=0.1, max_leaves=0, n_estimators=100;, score=0.615 total time=   0.0s\n",
      "[CV 3/5] END booster=gblinear, learning_rate=0.1, max_leaves=0, n_estimators=100;, score=0.653 total time=   0.0s\n"
     ]
    },
    {
     "name": "stderr",
     "output_type": "stream",
     "text": [
      "C:\\Users\\mihai\\anaconda3\\Lib\\site-packages\\xgboost\\core.py:160: UserWarning: [05:26:34] WARNING: C:\\buildkite-agent\\builds\\buildkite-windows-cpu-autoscaling-group-i-0b3782d1791676daf-1\\xgboost\\xgboost-ci-windows\\src\\learner.cc:742: \n",
      "Parameters: { \"max_leaves\" } are not used.\n",
      "\n",
      "  warnings.warn(smsg, UserWarning)\n",
      "C:\\Users\\mihai\\anaconda3\\Lib\\site-packages\\xgboost\\core.py:160: UserWarning: [05:26:34] WARNING: C:\\buildkite-agent\\builds\\buildkite-windows-cpu-autoscaling-group-i-0b3782d1791676daf-1\\xgboost\\xgboost-ci-windows\\src\\learner.cc:742: \n",
      "Parameters: { \"max_leaves\" } are not used.\n",
      "\n",
      "  warnings.warn(smsg, UserWarning)\n"
     ]
    },
    {
     "name": "stdout",
     "output_type": "stream",
     "text": [
      "[CV 4/5] END booster=gblinear, learning_rate=0.1, max_leaves=0, n_estimators=100;, score=0.661 total time=   0.0s\n",
      "[CV 5/5] END booster=gblinear, learning_rate=0.1, max_leaves=0, n_estimators=100;, score=0.636 total time=   0.0s\n"
     ]
    },
    {
     "name": "stderr",
     "output_type": "stream",
     "text": [
      "C:\\Users\\mihai\\anaconda3\\Lib\\site-packages\\xgboost\\core.py:160: UserWarning: [05:26:34] WARNING: C:\\buildkite-agent\\builds\\buildkite-windows-cpu-autoscaling-group-i-0b3782d1791676daf-1\\xgboost\\xgboost-ci-windows\\src\\learner.cc:742: \n",
      "Parameters: { \"max_leaves\" } are not used.\n",
      "\n",
      "  warnings.warn(smsg, UserWarning)\n",
      "C:\\Users\\mihai\\anaconda3\\Lib\\site-packages\\xgboost\\core.py:160: UserWarning: [05:26:34] WARNING: C:\\buildkite-agent\\builds\\buildkite-windows-cpu-autoscaling-group-i-0b3782d1791676daf-1\\xgboost\\xgboost-ci-windows\\src\\learner.cc:742: \n",
      "Parameters: { \"max_leaves\" } are not used.\n",
      "\n",
      "  warnings.warn(smsg, UserWarning)\n"
     ]
    },
    {
     "name": "stdout",
     "output_type": "stream",
     "text": [
      "[CV 1/5] END booster=gblinear, learning_rate=0.1, max_leaves=0, n_estimators=200;, score=0.574 total time=   0.1s\n",
      "[CV 2/5] END booster=gblinear, learning_rate=0.1, max_leaves=0, n_estimators=200;, score=0.623 total time=   0.1s\n"
     ]
    },
    {
     "name": "stderr",
     "output_type": "stream",
     "text": [
      "C:\\Users\\mihai\\anaconda3\\Lib\\site-packages\\xgboost\\core.py:160: UserWarning: [05:26:34] WARNING: C:\\buildkite-agent\\builds\\buildkite-windows-cpu-autoscaling-group-i-0b3782d1791676daf-1\\xgboost\\xgboost-ci-windows\\src\\learner.cc:742: \n",
      "Parameters: { \"max_leaves\" } are not used.\n",
      "\n",
      "  warnings.warn(smsg, UserWarning)\n",
      "C:\\Users\\mihai\\anaconda3\\Lib\\site-packages\\xgboost\\core.py:160: UserWarning: [05:26:34] WARNING: C:\\buildkite-agent\\builds\\buildkite-windows-cpu-autoscaling-group-i-0b3782d1791676daf-1\\xgboost\\xgboost-ci-windows\\src\\learner.cc:742: \n",
      "Parameters: { \"max_leaves\" } are not used.\n",
      "\n",
      "  warnings.warn(smsg, UserWarning)\n"
     ]
    },
    {
     "name": "stdout",
     "output_type": "stream",
     "text": [
      "[CV 3/5] END booster=gblinear, learning_rate=0.1, max_leaves=0, n_estimators=200;, score=0.661 total time=   0.1s\n",
      "[CV 4/5] END booster=gblinear, learning_rate=0.1, max_leaves=0, n_estimators=200;, score=0.661 total time=   0.1s\n"
     ]
    },
    {
     "name": "stderr",
     "output_type": "stream",
     "text": [
      "C:\\Users\\mihai\\anaconda3\\Lib\\site-packages\\xgboost\\core.py:160: UserWarning: [05:26:34] WARNING: C:\\buildkite-agent\\builds\\buildkite-windows-cpu-autoscaling-group-i-0b3782d1791676daf-1\\xgboost\\xgboost-ci-windows\\src\\learner.cc:742: \n",
      "Parameters: { \"max_leaves\" } are not used.\n",
      "\n",
      "  warnings.warn(smsg, UserWarning)\n",
      "C:\\Users\\mihai\\anaconda3\\Lib\\site-packages\\xgboost\\core.py:160: UserWarning: [05:26:35] WARNING: C:\\buildkite-agent\\builds\\buildkite-windows-cpu-autoscaling-group-i-0b3782d1791676daf-1\\xgboost\\xgboost-ci-windows\\src\\learner.cc:742: \n",
      "Parameters: { \"max_leaves\" } are not used.\n",
      "\n",
      "  warnings.warn(smsg, UserWarning)\n"
     ]
    },
    {
     "name": "stdout",
     "output_type": "stream",
     "text": [
      "[CV 5/5] END booster=gblinear, learning_rate=0.1, max_leaves=0, n_estimators=200;, score=0.636 total time=   0.1s\n"
     ]
    },
    {
     "name": "stderr",
     "output_type": "stream",
     "text": [
      "C:\\Users\\mihai\\anaconda3\\Lib\\site-packages\\xgboost\\core.py:160: UserWarning: [05:26:35] WARNING: C:\\buildkite-agent\\builds\\buildkite-windows-cpu-autoscaling-group-i-0b3782d1791676daf-1\\xgboost\\xgboost-ci-windows\\src\\learner.cc:742: \n",
      "Parameters: { \"max_leaves\" } are not used.\n",
      "\n",
      "  warnings.warn(smsg, UserWarning)\n"
     ]
    },
    {
     "name": "stdout",
     "output_type": "stream",
     "text": [
      "[CV 1/5] END booster=gblinear, learning_rate=0.1, max_leaves=0, n_estimators=300;, score=0.615 total time=   0.2s\n"
     ]
    },
    {
     "name": "stderr",
     "output_type": "stream",
     "text": [
      "C:\\Users\\mihai\\anaconda3\\Lib\\site-packages\\xgboost\\core.py:160: UserWarning: [05:26:35] WARNING: C:\\buildkite-agent\\builds\\buildkite-windows-cpu-autoscaling-group-i-0b3782d1791676daf-1\\xgboost\\xgboost-ci-windows\\src\\learner.cc:742: \n",
      "Parameters: { \"max_leaves\" } are not used.\n",
      "\n",
      "  warnings.warn(smsg, UserWarning)\n"
     ]
    },
    {
     "name": "stdout",
     "output_type": "stream",
     "text": [
      "[CV 2/5] END booster=gblinear, learning_rate=0.1, max_leaves=0, n_estimators=300;, score=0.680 total time=   0.2s\n"
     ]
    },
    {
     "name": "stderr",
     "output_type": "stream",
     "text": [
      "C:\\Users\\mihai\\anaconda3\\Lib\\site-packages\\xgboost\\core.py:160: UserWarning: [05:26:35] WARNING: C:\\buildkite-agent\\builds\\buildkite-windows-cpu-autoscaling-group-i-0b3782d1791676daf-1\\xgboost\\xgboost-ci-windows\\src\\learner.cc:742: \n",
      "Parameters: { \"max_leaves\" } are not used.\n",
      "\n",
      "  warnings.warn(smsg, UserWarning)\n"
     ]
    },
    {
     "name": "stdout",
     "output_type": "stream",
     "text": [
      "[CV 3/5] END booster=gblinear, learning_rate=0.1, max_leaves=0, n_estimators=300;, score=0.719 total time=   0.1s\n"
     ]
    },
    {
     "name": "stderr",
     "output_type": "stream",
     "text": [
      "C:\\Users\\mihai\\anaconda3\\Lib\\site-packages\\xgboost\\core.py:160: UserWarning: [05:26:36] WARNING: C:\\buildkite-agent\\builds\\buildkite-windows-cpu-autoscaling-group-i-0b3782d1791676daf-1\\xgboost\\xgboost-ci-windows\\src\\learner.cc:742: \n",
      "Parameters: { \"max_leaves\" } are not used.\n",
      "\n",
      "  warnings.warn(smsg, UserWarning)\n"
     ]
    },
    {
     "name": "stdout",
     "output_type": "stream",
     "text": [
      "[CV 4/5] END booster=gblinear, learning_rate=0.1, max_leaves=0, n_estimators=300;, score=0.678 total time=   0.1s\n"
     ]
    },
    {
     "name": "stderr",
     "output_type": "stream",
     "text": [
      "C:\\Users\\mihai\\anaconda3\\Lib\\site-packages\\xgboost\\core.py:160: UserWarning: [05:26:36] WARNING: C:\\buildkite-agent\\builds\\buildkite-windows-cpu-autoscaling-group-i-0b3782d1791676daf-1\\xgboost\\xgboost-ci-windows\\src\\learner.cc:742: \n",
      "Parameters: { \"max_leaves\" } are not used.\n",
      "\n",
      "  warnings.warn(smsg, UserWarning)\n"
     ]
    },
    {
     "name": "stdout",
     "output_type": "stream",
     "text": [
      "[CV 5/5] END booster=gblinear, learning_rate=0.1, max_leaves=0, n_estimators=300;, score=0.653 total time=   0.2s\n",
      "[CV 1/5] END booster=gblinear, learning_rate=0.1, max_leaves=5, n_estimators=100;, score=0.566 total time=   0.0s\n",
      "[CV 2/5] END booster=gblinear, learning_rate=0.1, max_leaves=5, n_estimators=100;, score=0.615 total time=   0.0s\n"
     ]
    },
    {
     "name": "stderr",
     "output_type": "stream",
     "text": [
      "C:\\Users\\mihai\\anaconda3\\Lib\\site-packages\\xgboost\\core.py:160: UserWarning: [05:26:36] WARNING: C:\\buildkite-agent\\builds\\buildkite-windows-cpu-autoscaling-group-i-0b3782d1791676daf-1\\xgboost\\xgboost-ci-windows\\src\\learner.cc:742: \n",
      "Parameters: { \"max_leaves\" } are not used.\n",
      "\n",
      "  warnings.warn(smsg, UserWarning)\n",
      "C:\\Users\\mihai\\anaconda3\\Lib\\site-packages\\xgboost\\core.py:160: UserWarning: [05:26:36] WARNING: C:\\buildkite-agent\\builds\\buildkite-windows-cpu-autoscaling-group-i-0b3782d1791676daf-1\\xgboost\\xgboost-ci-windows\\src\\learner.cc:742: \n",
      "Parameters: { \"max_leaves\" } are not used.\n",
      "\n",
      "  warnings.warn(smsg, UserWarning)\n",
      "C:\\Users\\mihai\\anaconda3\\Lib\\site-packages\\xgboost\\core.py:160: UserWarning: [05:26:36] WARNING: C:\\buildkite-agent\\builds\\buildkite-windows-cpu-autoscaling-group-i-0b3782d1791676daf-1\\xgboost\\xgboost-ci-windows\\src\\learner.cc:742: \n",
      "Parameters: { \"max_leaves\" } are not used.\n",
      "\n",
      "  warnings.warn(smsg, UserWarning)\n",
      "C:\\Users\\mihai\\anaconda3\\Lib\\site-packages\\xgboost\\core.py:160: UserWarning: [05:26:36] WARNING: C:\\buildkite-agent\\builds\\buildkite-windows-cpu-autoscaling-group-i-0b3782d1791676daf-1\\xgboost\\xgboost-ci-windows\\src\\learner.cc:742: \n",
      "Parameters: { \"max_leaves\" } are not used.\n",
      "\n",
      "  warnings.warn(smsg, UserWarning)\n"
     ]
    },
    {
     "name": "stdout",
     "output_type": "stream",
     "text": [
      "[CV 3/5] END booster=gblinear, learning_rate=0.1, max_leaves=5, n_estimators=100;, score=0.653 total time=   0.0s\n",
      "[CV 4/5] END booster=gblinear, learning_rate=0.1, max_leaves=5, n_estimators=100;, score=0.661 total time=   0.0s\n"
     ]
    },
    {
     "name": "stderr",
     "output_type": "stream",
     "text": [
      "C:\\Users\\mihai\\anaconda3\\Lib\\site-packages\\xgboost\\core.py:160: UserWarning: [05:26:36] WARNING: C:\\buildkite-agent\\builds\\buildkite-windows-cpu-autoscaling-group-i-0b3782d1791676daf-1\\xgboost\\xgboost-ci-windows\\src\\learner.cc:742: \n",
      "Parameters: { \"max_leaves\" } are not used.\n",
      "\n",
      "  warnings.warn(smsg, UserWarning)\n",
      "C:\\Users\\mihai\\anaconda3\\Lib\\site-packages\\xgboost\\core.py:160: UserWarning: [05:26:37] WARNING: C:\\buildkite-agent\\builds\\buildkite-windows-cpu-autoscaling-group-i-0b3782d1791676daf-1\\xgboost\\xgboost-ci-windows\\src\\learner.cc:742: \n",
      "Parameters: { \"max_leaves\" } are not used.\n",
      "\n",
      "  warnings.warn(smsg, UserWarning)\n"
     ]
    },
    {
     "name": "stdout",
     "output_type": "stream",
     "text": [
      "[CV 5/5] END booster=gblinear, learning_rate=0.1, max_leaves=5, n_estimators=100;, score=0.636 total time=   0.0s\n",
      "[CV 1/5] END booster=gblinear, learning_rate=0.1, max_leaves=5, n_estimators=200;, score=0.574 total time=   0.1s\n"
     ]
    },
    {
     "name": "stderr",
     "output_type": "stream",
     "text": [
      "C:\\Users\\mihai\\anaconda3\\Lib\\site-packages\\xgboost\\core.py:160: UserWarning: [05:26:37] WARNING: C:\\buildkite-agent\\builds\\buildkite-windows-cpu-autoscaling-group-i-0b3782d1791676daf-1\\xgboost\\xgboost-ci-windows\\src\\learner.cc:742: \n",
      "Parameters: { \"max_leaves\" } are not used.\n",
      "\n",
      "  warnings.warn(smsg, UserWarning)\n",
      "C:\\Users\\mihai\\anaconda3\\Lib\\site-packages\\xgboost\\core.py:160: UserWarning: [05:26:37] WARNING: C:\\buildkite-agent\\builds\\buildkite-windows-cpu-autoscaling-group-i-0b3782d1791676daf-1\\xgboost\\xgboost-ci-windows\\src\\learner.cc:742: \n",
      "Parameters: { \"max_leaves\" } are not used.\n",
      "\n",
      "  warnings.warn(smsg, UserWarning)\n"
     ]
    },
    {
     "name": "stdout",
     "output_type": "stream",
     "text": [
      "[CV 2/5] END booster=gblinear, learning_rate=0.1, max_leaves=5, n_estimators=200;, score=0.623 total time=   0.1s\n",
      "[CV 3/5] END booster=gblinear, learning_rate=0.1, max_leaves=5, n_estimators=200;, score=0.661 total time=   0.1s\n"
     ]
    },
    {
     "name": "stderr",
     "output_type": "stream",
     "text": [
      "C:\\Users\\mihai\\anaconda3\\Lib\\site-packages\\xgboost\\core.py:160: UserWarning: [05:26:37] WARNING: C:\\buildkite-agent\\builds\\buildkite-windows-cpu-autoscaling-group-i-0b3782d1791676daf-1\\xgboost\\xgboost-ci-windows\\src\\learner.cc:742: \n",
      "Parameters: { \"max_leaves\" } are not used.\n",
      "\n",
      "  warnings.warn(smsg, UserWarning)\n",
      "C:\\Users\\mihai\\anaconda3\\Lib\\site-packages\\xgboost\\core.py:160: UserWarning: [05:26:37] WARNING: C:\\buildkite-agent\\builds\\buildkite-windows-cpu-autoscaling-group-i-0b3782d1791676daf-1\\xgboost\\xgboost-ci-windows\\src\\learner.cc:742: \n",
      "Parameters: { \"max_leaves\" } are not used.\n",
      "\n",
      "  warnings.warn(smsg, UserWarning)\n"
     ]
    },
    {
     "name": "stdout",
     "output_type": "stream",
     "text": [
      "[CV 4/5] END booster=gblinear, learning_rate=0.1, max_leaves=5, n_estimators=200;, score=0.661 total time=   0.1s\n",
      "[CV 5/5] END booster=gblinear, learning_rate=0.1, max_leaves=5, n_estimators=200;, score=0.636 total time=   0.1s\n"
     ]
    },
    {
     "name": "stderr",
     "output_type": "stream",
     "text": [
      "C:\\Users\\mihai\\anaconda3\\Lib\\site-packages\\xgboost\\core.py:160: UserWarning: [05:26:38] WARNING: C:\\buildkite-agent\\builds\\buildkite-windows-cpu-autoscaling-group-i-0b3782d1791676daf-1\\xgboost\\xgboost-ci-windows\\src\\learner.cc:742: \n",
      "Parameters: { \"max_leaves\" } are not used.\n",
      "\n",
      "  warnings.warn(smsg, UserWarning)\n"
     ]
    },
    {
     "name": "stdout",
     "output_type": "stream",
     "text": [
      "[CV 1/5] END booster=gblinear, learning_rate=0.1, max_leaves=5, n_estimators=300;, score=0.615 total time=   0.2s\n"
     ]
    },
    {
     "name": "stderr",
     "output_type": "stream",
     "text": [
      "C:\\Users\\mihai\\anaconda3\\Lib\\site-packages\\xgboost\\core.py:160: UserWarning: [05:26:38] WARNING: C:\\buildkite-agent\\builds\\buildkite-windows-cpu-autoscaling-group-i-0b3782d1791676daf-1\\xgboost\\xgboost-ci-windows\\src\\learner.cc:742: \n",
      "Parameters: { \"max_leaves\" } are not used.\n",
      "\n",
      "  warnings.warn(smsg, UserWarning)\n"
     ]
    },
    {
     "name": "stdout",
     "output_type": "stream",
     "text": [
      "[CV 2/5] END booster=gblinear, learning_rate=0.1, max_leaves=5, n_estimators=300;, score=0.689 total time=   0.1s\n"
     ]
    },
    {
     "name": "stderr",
     "output_type": "stream",
     "text": [
      "C:\\Users\\mihai\\anaconda3\\Lib\\site-packages\\xgboost\\core.py:160: UserWarning: [05:26:38] WARNING: C:\\buildkite-agent\\builds\\buildkite-windows-cpu-autoscaling-group-i-0b3782d1791676daf-1\\xgboost\\xgboost-ci-windows\\src\\learner.cc:742: \n",
      "Parameters: { \"max_leaves\" } are not used.\n",
      "\n",
      "  warnings.warn(smsg, UserWarning)\n"
     ]
    },
    {
     "name": "stdout",
     "output_type": "stream",
     "text": [
      "[CV 3/5] END booster=gblinear, learning_rate=0.1, max_leaves=5, n_estimators=300;, score=0.719 total time=   0.1s\n"
     ]
    },
    {
     "name": "stderr",
     "output_type": "stream",
     "text": [
      "C:\\Users\\mihai\\anaconda3\\Lib\\site-packages\\xgboost\\core.py:160: UserWarning: [05:26:38] WARNING: C:\\buildkite-agent\\builds\\buildkite-windows-cpu-autoscaling-group-i-0b3782d1791676daf-1\\xgboost\\xgboost-ci-windows\\src\\learner.cc:742: \n",
      "Parameters: { \"max_leaves\" } are not used.\n",
      "\n",
      "  warnings.warn(smsg, UserWarning)\n"
     ]
    },
    {
     "name": "stdout",
     "output_type": "stream",
     "text": [
      "[CV 4/5] END booster=gblinear, learning_rate=0.1, max_leaves=5, n_estimators=300;, score=0.678 total time=   0.1s\n"
     ]
    },
    {
     "name": "stderr",
     "output_type": "stream",
     "text": [
      "C:\\Users\\mihai\\anaconda3\\Lib\\site-packages\\xgboost\\core.py:160: UserWarning: [05:26:39] WARNING: C:\\buildkite-agent\\builds\\buildkite-windows-cpu-autoscaling-group-i-0b3782d1791676daf-1\\xgboost\\xgboost-ci-windows\\src\\learner.cc:742: \n",
      "Parameters: { \"max_leaves\" } are not used.\n",
      "\n",
      "  warnings.warn(smsg, UserWarning)\n"
     ]
    },
    {
     "name": "stdout",
     "output_type": "stream",
     "text": [
      "[CV 5/5] END booster=gblinear, learning_rate=0.1, max_leaves=5, n_estimators=300;, score=0.653 total time=   0.1s\n",
      "[CV 1/5] END booster=gblinear, learning_rate=0.2, max_leaves=0, n_estimators=100;, score=0.574 total time=   0.0s\n"
     ]
    },
    {
     "name": "stderr",
     "output_type": "stream",
     "text": [
      "C:\\Users\\mihai\\anaconda3\\Lib\\site-packages\\xgboost\\core.py:160: UserWarning: [05:26:39] WARNING: C:\\buildkite-agent\\builds\\buildkite-windows-cpu-autoscaling-group-i-0b3782d1791676daf-1\\xgboost\\xgboost-ci-windows\\src\\learner.cc:742: \n",
      "Parameters: { \"max_leaves\" } are not used.\n",
      "\n",
      "  warnings.warn(smsg, UserWarning)\n",
      "C:\\Users\\mihai\\anaconda3\\Lib\\site-packages\\xgboost\\core.py:160: UserWarning: [05:26:39] WARNING: C:\\buildkite-agent\\builds\\buildkite-windows-cpu-autoscaling-group-i-0b3782d1791676daf-1\\xgboost\\xgboost-ci-windows\\src\\learner.cc:742: \n",
      "Parameters: { \"max_leaves\" } are not used.\n",
      "\n",
      "  warnings.warn(smsg, UserWarning)\n"
     ]
    },
    {
     "name": "stdout",
     "output_type": "stream",
     "text": [
      "[CV 2/5] END booster=gblinear, learning_rate=0.2, max_leaves=0, n_estimators=100;, score=0.623 total time=   0.0s\n",
      "[CV 3/5] END booster=gblinear, learning_rate=0.2, max_leaves=0, n_estimators=100;, score=0.661 total time=   0.0s\n",
      "[CV 4/5] END booster=gblinear, learning_rate=0.2, max_leaves=0, n_estimators=100;, score=0.661 total time=   0.0s\n"
     ]
    },
    {
     "name": "stderr",
     "output_type": "stream",
     "text": [
      "C:\\Users\\mihai\\anaconda3\\Lib\\site-packages\\xgboost\\core.py:160: UserWarning: [05:26:39] WARNING: C:\\buildkite-agent\\builds\\buildkite-windows-cpu-autoscaling-group-i-0b3782d1791676daf-1\\xgboost\\xgboost-ci-windows\\src\\learner.cc:742: \n",
      "Parameters: { \"max_leaves\" } are not used.\n",
      "\n",
      "  warnings.warn(smsg, UserWarning)\n",
      "C:\\Users\\mihai\\anaconda3\\Lib\\site-packages\\xgboost\\core.py:160: UserWarning: [05:26:39] WARNING: C:\\buildkite-agent\\builds\\buildkite-windows-cpu-autoscaling-group-i-0b3782d1791676daf-1\\xgboost\\xgboost-ci-windows\\src\\learner.cc:742: \n",
      "Parameters: { \"max_leaves\" } are not used.\n",
      "\n",
      "  warnings.warn(smsg, UserWarning)\n",
      "C:\\Users\\mihai\\anaconda3\\Lib\\site-packages\\xgboost\\core.py:160: UserWarning: [05:26:39] WARNING: C:\\buildkite-agent\\builds\\buildkite-windows-cpu-autoscaling-group-i-0b3782d1791676daf-1\\xgboost\\xgboost-ci-windows\\src\\learner.cc:742: \n",
      "Parameters: { \"max_leaves\" } are not used.\n",
      "\n",
      "  warnings.warn(smsg, UserWarning)\n",
      "C:\\Users\\mihai\\anaconda3\\Lib\\site-packages\\xgboost\\core.py:160: UserWarning: [05:26:39] WARNING: C:\\buildkite-agent\\builds\\buildkite-windows-cpu-autoscaling-group-i-0b3782d1791676daf-1\\xgboost\\xgboost-ci-windows\\src\\learner.cc:742: \n",
      "Parameters: { \"max_leaves\" } are not used.\n",
      "\n",
      "  warnings.warn(smsg, UserWarning)\n"
     ]
    },
    {
     "name": "stdout",
     "output_type": "stream",
     "text": [
      "[CV 5/5] END booster=gblinear, learning_rate=0.2, max_leaves=0, n_estimators=100;, score=0.636 total time=   0.0s\n",
      "[CV 1/5] END booster=gblinear, learning_rate=0.2, max_leaves=0, n_estimators=200;, score=0.623 total time=   0.1s\n"
     ]
    },
    {
     "name": "stderr",
     "output_type": "stream",
     "text": [
      "C:\\Users\\mihai\\anaconda3\\Lib\\site-packages\\xgboost\\core.py:160: UserWarning: [05:26:39] WARNING: C:\\buildkite-agent\\builds\\buildkite-windows-cpu-autoscaling-group-i-0b3782d1791676daf-1\\xgboost\\xgboost-ci-windows\\src\\learner.cc:742: \n",
      "Parameters: { \"max_leaves\" } are not used.\n",
      "\n",
      "  warnings.warn(smsg, UserWarning)\n",
      "C:\\Users\\mihai\\anaconda3\\Lib\\site-packages\\xgboost\\core.py:160: UserWarning: [05:26:40] WARNING: C:\\buildkite-agent\\builds\\buildkite-windows-cpu-autoscaling-group-i-0b3782d1791676daf-1\\xgboost\\xgboost-ci-windows\\src\\learner.cc:742: \n",
      "Parameters: { \"max_leaves\" } are not used.\n",
      "\n",
      "  warnings.warn(smsg, UserWarning)\n"
     ]
    },
    {
     "name": "stdout",
     "output_type": "stream",
     "text": [
      "[CV 2/5] END booster=gblinear, learning_rate=0.2, max_leaves=0, n_estimators=200;, score=0.721 total time=   0.1s\n",
      "[CV 3/5] END booster=gblinear, learning_rate=0.2, max_leaves=0, n_estimators=200;, score=0.752 total time=   0.1s\n"
     ]
    },
    {
     "name": "stderr",
     "output_type": "stream",
     "text": [
      "C:\\Users\\mihai\\anaconda3\\Lib\\site-packages\\xgboost\\core.py:160: UserWarning: [05:26:40] WARNING: C:\\buildkite-agent\\builds\\buildkite-windows-cpu-autoscaling-group-i-0b3782d1791676daf-1\\xgboost\\xgboost-ci-windows\\src\\learner.cc:742: \n",
      "Parameters: { \"max_leaves\" } are not used.\n",
      "\n",
      "  warnings.warn(smsg, UserWarning)\n",
      "C:\\Users\\mihai\\anaconda3\\Lib\\site-packages\\xgboost\\core.py:160: UserWarning: [05:26:40] WARNING: C:\\buildkite-agent\\builds\\buildkite-windows-cpu-autoscaling-group-i-0b3782d1791676daf-1\\xgboost\\xgboost-ci-windows\\src\\learner.cc:742: \n",
      "Parameters: { \"max_leaves\" } are not used.\n",
      "\n",
      "  warnings.warn(smsg, UserWarning)\n"
     ]
    },
    {
     "name": "stdout",
     "output_type": "stream",
     "text": [
      "[CV 4/5] END booster=gblinear, learning_rate=0.2, max_leaves=0, n_estimators=200;, score=0.727 total time=   0.1s\n",
      "[CV 5/5] END booster=gblinear, learning_rate=0.2, max_leaves=0, n_estimators=200;, score=0.686 total time=   0.1s\n"
     ]
    },
    {
     "name": "stderr",
     "output_type": "stream",
     "text": [
      "C:\\Users\\mihai\\anaconda3\\Lib\\site-packages\\xgboost\\core.py:160: UserWarning: [05:26:40] WARNING: C:\\buildkite-agent\\builds\\buildkite-windows-cpu-autoscaling-group-i-0b3782d1791676daf-1\\xgboost\\xgboost-ci-windows\\src\\learner.cc:742: \n",
      "Parameters: { \"max_leaves\" } are not used.\n",
      "\n",
      "  warnings.warn(smsg, UserWarning)\n"
     ]
    },
    {
     "name": "stdout",
     "output_type": "stream",
     "text": [
      "[CV 1/5] END booster=gblinear, learning_rate=0.2, max_leaves=0, n_estimators=300;, score=0.639 total time=   0.2s\n"
     ]
    },
    {
     "name": "stderr",
     "output_type": "stream",
     "text": [
      "C:\\Users\\mihai\\anaconda3\\Lib\\site-packages\\xgboost\\core.py:160: UserWarning: [05:26:40] WARNING: C:\\buildkite-agent\\builds\\buildkite-windows-cpu-autoscaling-group-i-0b3782d1791676daf-1\\xgboost\\xgboost-ci-windows\\src\\learner.cc:742: \n",
      "Parameters: { \"max_leaves\" } are not used.\n",
      "\n",
      "  warnings.warn(smsg, UserWarning)\n"
     ]
    },
    {
     "name": "stdout",
     "output_type": "stream",
     "text": [
      "[CV 2/5] END booster=gblinear, learning_rate=0.2, max_leaves=0, n_estimators=300;, score=0.721 total time=   0.2s\n"
     ]
    },
    {
     "name": "stderr",
     "output_type": "stream",
     "text": [
      "C:\\Users\\mihai\\anaconda3\\Lib\\site-packages\\xgboost\\core.py:160: UserWarning: [05:26:41] WARNING: C:\\buildkite-agent\\builds\\buildkite-windows-cpu-autoscaling-group-i-0b3782d1791676daf-1\\xgboost\\xgboost-ci-windows\\src\\learner.cc:742: \n",
      "Parameters: { \"max_leaves\" } are not used.\n",
      "\n",
      "  warnings.warn(smsg, UserWarning)\n"
     ]
    },
    {
     "name": "stdout",
     "output_type": "stream",
     "text": [
      "[CV 3/5] END booster=gblinear, learning_rate=0.2, max_leaves=0, n_estimators=300;, score=0.769 total time=   0.2s\n"
     ]
    },
    {
     "name": "stderr",
     "output_type": "stream",
     "text": [
      "C:\\Users\\mihai\\anaconda3\\Lib\\site-packages\\xgboost\\core.py:160: UserWarning: [05:26:41] WARNING: C:\\buildkite-agent\\builds\\buildkite-windows-cpu-autoscaling-group-i-0b3782d1791676daf-1\\xgboost\\xgboost-ci-windows\\src\\learner.cc:742: \n",
      "Parameters: { \"max_leaves\" } are not used.\n",
      "\n",
      "  warnings.warn(smsg, UserWarning)\n"
     ]
    },
    {
     "name": "stdout",
     "output_type": "stream",
     "text": [
      "[CV 4/5] END booster=gblinear, learning_rate=0.2, max_leaves=0, n_estimators=300;, score=0.752 total time=   0.2s\n"
     ]
    },
    {
     "name": "stderr",
     "output_type": "stream",
     "text": [
      "C:\\Users\\mihai\\anaconda3\\Lib\\site-packages\\xgboost\\core.py:160: UserWarning: [05:26:41] WARNING: C:\\buildkite-agent\\builds\\buildkite-windows-cpu-autoscaling-group-i-0b3782d1791676daf-1\\xgboost\\xgboost-ci-windows\\src\\learner.cc:742: \n",
      "Parameters: { \"max_leaves\" } are not used.\n",
      "\n",
      "  warnings.warn(smsg, UserWarning)\n"
     ]
    },
    {
     "name": "stdout",
     "output_type": "stream",
     "text": [
      "[CV 5/5] END booster=gblinear, learning_rate=0.2, max_leaves=0, n_estimators=300;, score=0.752 total time=   0.2s\n",
      "[CV 1/5] END booster=gblinear, learning_rate=0.2, max_leaves=5, n_estimators=100;, score=0.574 total time=   0.0s\n",
      "[CV 2/5] END booster=gblinear, learning_rate=0.2, max_leaves=5, n_estimators=100;, score=0.623 total time=   0.0s\n"
     ]
    },
    {
     "name": "stderr",
     "output_type": "stream",
     "text": [
      "C:\\Users\\mihai\\anaconda3\\Lib\\site-packages\\xgboost\\core.py:160: UserWarning: [05:26:42] WARNING: C:\\buildkite-agent\\builds\\buildkite-windows-cpu-autoscaling-group-i-0b3782d1791676daf-1\\xgboost\\xgboost-ci-windows\\src\\learner.cc:742: \n",
      "Parameters: { \"max_leaves\" } are not used.\n",
      "\n",
      "  warnings.warn(smsg, UserWarning)\n",
      "C:\\Users\\mihai\\anaconda3\\Lib\\site-packages\\xgboost\\core.py:160: UserWarning: [05:26:42] WARNING: C:\\buildkite-agent\\builds\\buildkite-windows-cpu-autoscaling-group-i-0b3782d1791676daf-1\\xgboost\\xgboost-ci-windows\\src\\learner.cc:742: \n",
      "Parameters: { \"max_leaves\" } are not used.\n",
      "\n",
      "  warnings.warn(smsg, UserWarning)\n",
      "C:\\Users\\mihai\\anaconda3\\Lib\\site-packages\\xgboost\\core.py:160: UserWarning: [05:26:42] WARNING: C:\\buildkite-agent\\builds\\buildkite-windows-cpu-autoscaling-group-i-0b3782d1791676daf-1\\xgboost\\xgboost-ci-windows\\src\\learner.cc:742: \n",
      "Parameters: { \"max_leaves\" } are not used.\n",
      "\n",
      "  warnings.warn(smsg, UserWarning)\n",
      "C:\\Users\\mihai\\anaconda3\\Lib\\site-packages\\xgboost\\core.py:160: UserWarning: [05:26:42] WARNING: C:\\buildkite-agent\\builds\\buildkite-windows-cpu-autoscaling-group-i-0b3782d1791676daf-1\\xgboost\\xgboost-ci-windows\\src\\learner.cc:742: \n",
      "Parameters: { \"max_leaves\" } are not used.\n",
      "\n",
      "  warnings.warn(smsg, UserWarning)\n"
     ]
    },
    {
     "name": "stdout",
     "output_type": "stream",
     "text": [
      "[CV 3/5] END booster=gblinear, learning_rate=0.2, max_leaves=5, n_estimators=100;, score=0.669 total time=   0.0s\n",
      "[CV 4/5] END booster=gblinear, learning_rate=0.2, max_leaves=5, n_estimators=100;, score=0.661 total time=   0.0s\n"
     ]
    },
    {
     "name": "stderr",
     "output_type": "stream",
     "text": [
      "C:\\Users\\mihai\\anaconda3\\Lib\\site-packages\\xgboost\\core.py:160: UserWarning: [05:26:42] WARNING: C:\\buildkite-agent\\builds\\buildkite-windows-cpu-autoscaling-group-i-0b3782d1791676daf-1\\xgboost\\xgboost-ci-windows\\src\\learner.cc:742: \n",
      "Parameters: { \"max_leaves\" } are not used.\n",
      "\n",
      "  warnings.warn(smsg, UserWarning)\n",
      "C:\\Users\\mihai\\anaconda3\\Lib\\site-packages\\xgboost\\core.py:160: UserWarning: [05:26:42] WARNING: C:\\buildkite-agent\\builds\\buildkite-windows-cpu-autoscaling-group-i-0b3782d1791676daf-1\\xgboost\\xgboost-ci-windows\\src\\learner.cc:742: \n",
      "Parameters: { \"max_leaves\" } are not used.\n",
      "\n",
      "  warnings.warn(smsg, UserWarning)\n"
     ]
    },
    {
     "name": "stdout",
     "output_type": "stream",
     "text": [
      "[CV 5/5] END booster=gblinear, learning_rate=0.2, max_leaves=5, n_estimators=100;, score=0.636 total time=   0.0s\n",
      "[CV 1/5] END booster=gblinear, learning_rate=0.2, max_leaves=5, n_estimators=200;, score=0.631 total time=   0.1s\n"
     ]
    },
    {
     "name": "stderr",
     "output_type": "stream",
     "text": [
      "C:\\Users\\mihai\\anaconda3\\Lib\\site-packages\\xgboost\\core.py:160: UserWarning: [05:26:42] WARNING: C:\\buildkite-agent\\builds\\buildkite-windows-cpu-autoscaling-group-i-0b3782d1791676daf-1\\xgboost\\xgboost-ci-windows\\src\\learner.cc:742: \n",
      "Parameters: { \"max_leaves\" } are not used.\n",
      "\n",
      "  warnings.warn(smsg, UserWarning)\n",
      "C:\\Users\\mihai\\anaconda3\\Lib\\site-packages\\xgboost\\core.py:160: UserWarning: [05:26:42] WARNING: C:\\buildkite-agent\\builds\\buildkite-windows-cpu-autoscaling-group-i-0b3782d1791676daf-1\\xgboost\\xgboost-ci-windows\\src\\learner.cc:742: \n",
      "Parameters: { \"max_leaves\" } are not used.\n",
      "\n",
      "  warnings.warn(smsg, UserWarning)\n"
     ]
    },
    {
     "name": "stdout",
     "output_type": "stream",
     "text": [
      "[CV 2/5] END booster=gblinear, learning_rate=0.2, max_leaves=5, n_estimators=200;, score=0.721 total time=   0.1s\n",
      "[CV 3/5] END booster=gblinear, learning_rate=0.2, max_leaves=5, n_estimators=200;, score=0.769 total time=   0.1s\n"
     ]
    },
    {
     "name": "stderr",
     "output_type": "stream",
     "text": [
      "C:\\Users\\mihai\\anaconda3\\Lib\\site-packages\\xgboost\\core.py:160: UserWarning: [05:26:43] WARNING: C:\\buildkite-agent\\builds\\buildkite-windows-cpu-autoscaling-group-i-0b3782d1791676daf-1\\xgboost\\xgboost-ci-windows\\src\\learner.cc:742: \n",
      "Parameters: { \"max_leaves\" } are not used.\n",
      "\n",
      "  warnings.warn(smsg, UserWarning)\n",
      "C:\\Users\\mihai\\anaconda3\\Lib\\site-packages\\xgboost\\core.py:160: UserWarning: [05:26:43] WARNING: C:\\buildkite-agent\\builds\\buildkite-windows-cpu-autoscaling-group-i-0b3782d1791676daf-1\\xgboost\\xgboost-ci-windows\\src\\learner.cc:742: \n",
      "Parameters: { \"max_leaves\" } are not used.\n",
      "\n",
      "  warnings.warn(smsg, UserWarning)\n"
     ]
    },
    {
     "name": "stdout",
     "output_type": "stream",
     "text": [
      "[CV 4/5] END booster=gblinear, learning_rate=0.2, max_leaves=5, n_estimators=200;, score=0.727 total time=   0.1s\n",
      "[CV 5/5] END booster=gblinear, learning_rate=0.2, max_leaves=5, n_estimators=200;, score=0.686 total time=   0.1s\n"
     ]
    },
    {
     "name": "stderr",
     "output_type": "stream",
     "text": [
      "C:\\Users\\mihai\\anaconda3\\Lib\\site-packages\\xgboost\\core.py:160: UserWarning: [05:26:43] WARNING: C:\\buildkite-agent\\builds\\buildkite-windows-cpu-autoscaling-group-i-0b3782d1791676daf-1\\xgboost\\xgboost-ci-windows\\src\\learner.cc:742: \n",
      "Parameters: { \"max_leaves\" } are not used.\n",
      "\n",
      "  warnings.warn(smsg, UserWarning)\n"
     ]
    },
    {
     "name": "stdout",
     "output_type": "stream",
     "text": [
      "[CV 1/5] END booster=gblinear, learning_rate=0.2, max_leaves=5, n_estimators=300;, score=0.639 total time=   0.2s\n"
     ]
    },
    {
     "name": "stderr",
     "output_type": "stream",
     "text": [
      "C:\\Users\\mihai\\anaconda3\\Lib\\site-packages\\xgboost\\core.py:160: UserWarning: [05:26:43] WARNING: C:\\buildkite-agent\\builds\\buildkite-windows-cpu-autoscaling-group-i-0b3782d1791676daf-1\\xgboost\\xgboost-ci-windows\\src\\learner.cc:742: \n",
      "Parameters: { \"max_leaves\" } are not used.\n",
      "\n",
      "  warnings.warn(smsg, UserWarning)\n"
     ]
    },
    {
     "name": "stdout",
     "output_type": "stream",
     "text": [
      "[CV 2/5] END booster=gblinear, learning_rate=0.2, max_leaves=5, n_estimators=300;, score=0.721 total time=   0.2s\n"
     ]
    },
    {
     "name": "stderr",
     "output_type": "stream",
     "text": [
      "C:\\Users\\mihai\\anaconda3\\Lib\\site-packages\\xgboost\\core.py:160: UserWarning: [05:26:44] WARNING: C:\\buildkite-agent\\builds\\buildkite-windows-cpu-autoscaling-group-i-0b3782d1791676daf-1\\xgboost\\xgboost-ci-windows\\src\\learner.cc:742: \n",
      "Parameters: { \"max_leaves\" } are not used.\n",
      "\n",
      "  warnings.warn(smsg, UserWarning)\n"
     ]
    },
    {
     "name": "stdout",
     "output_type": "stream",
     "text": [
      "[CV 3/5] END booster=gblinear, learning_rate=0.2, max_leaves=5, n_estimators=300;, score=0.769 total time=   0.2s\n"
     ]
    },
    {
     "name": "stderr",
     "output_type": "stream",
     "text": [
      "C:\\Users\\mihai\\anaconda3\\Lib\\site-packages\\xgboost\\core.py:160: UserWarning: [05:26:44] WARNING: C:\\buildkite-agent\\builds\\buildkite-windows-cpu-autoscaling-group-i-0b3782d1791676daf-1\\xgboost\\xgboost-ci-windows\\src\\learner.cc:742: \n",
      "Parameters: { \"max_leaves\" } are not used.\n",
      "\n",
      "  warnings.warn(smsg, UserWarning)\n"
     ]
    },
    {
     "name": "stdout",
     "output_type": "stream",
     "text": [
      "[CV 4/5] END booster=gblinear, learning_rate=0.2, max_leaves=5, n_estimators=300;, score=0.752 total time=   0.2s\n"
     ]
    },
    {
     "name": "stderr",
     "output_type": "stream",
     "text": [
      "C:\\Users\\mihai\\anaconda3\\Lib\\site-packages\\xgboost\\core.py:160: UserWarning: [05:26:44] WARNING: C:\\buildkite-agent\\builds\\buildkite-windows-cpu-autoscaling-group-i-0b3782d1791676daf-1\\xgboost\\xgboost-ci-windows\\src\\learner.cc:742: \n",
      "Parameters: { \"max_leaves\" } are not used.\n",
      "\n",
      "  warnings.warn(smsg, UserWarning)\n"
     ]
    },
    {
     "name": "stdout",
     "output_type": "stream",
     "text": [
      "[CV 5/5] END booster=gblinear, learning_rate=0.2, max_leaves=5, n_estimators=300;, score=0.752 total time=   0.2s\n"
     ]
    },
    {
     "name": "stderr",
     "output_type": "stream",
     "text": [
      "C:\\Users\\mihai\\anaconda3\\Lib\\site-packages\\xgboost\\core.py:160: UserWarning: [05:26:45] WARNING: C:\\buildkite-agent\\builds\\buildkite-windows-cpu-autoscaling-group-i-0b3782d1791676daf-1\\xgboost\\xgboost-ci-windows\\src\\learner.cc:742: \n",
      "Parameters: { \"sample_weight\" } are not used.\n",
      "\n",
      "  warnings.warn(smsg, UserWarning)\n"
     ]
    },
    {
     "name": "stdout",
     "output_type": "stream",
     "text": [
      "\n",
      "Najbolji parametri: {'booster': 'gbtree', 'learning_rate': 0.2, 'max_leaves': 5, 'n_estimators': 200}\n",
      "Preciznost modela sa najboljim parametrima: 0.81579\n",
      "\n",
      "Izvestaj o klasifikaciji:\n",
      "               precision    recall  f1-score   support\n",
      "\n",
      "         0.0       0.91      0.94      0.92        82\n",
      "         1.0       0.70      0.64      0.67        25\n",
      "         2.0       0.88      0.88      0.88        25\n",
      "         3.0       0.33      0.25      0.29         4\n",
      "         4.0       0.50      0.50      0.50        16\n",
      "\n",
      "    accuracy                           0.82       152\n",
      "   macro avg       0.66      0.64      0.65       152\n",
      "weighted avg       0.81      0.82      0.81       152\n",
      "\n"
     ]
    }
   ],
   "source": [
    "param_grid = {\n",
    "    'n_estimators': [100, 200, 300],\n",
    "    'learning_rate': [0.1, 0.2],\n",
    "    'max_leaves': [0, 5],\n",
    "    'booster': ['gbtree', 'gblinear'],\n",
    "}\n",
    "\n",
    "clf = XGBClassifier(objective=\"multi:softmax\", random_state=42, num_class=5)\n",
    "\n",
    "grid_search = GridSearchCV(clf, param_grid, cv=5, scoring='accuracy', verbose=4)\n",
    "grid_search.fit(X_train, y_train)\n",
    "\n",
    "best_params = grid_search.best_params_\n",
    "\n",
    "best_clf = XGBClassifier(objective=\"multi:softmax\", random_state=42, num_class=5, **best_params, sample_weight=classes_weights)\n",
    "best_clf.fit(X_train, y_train)\n",
    "\n",
    "y_pred_best = best_clf.predict(X_test)\n",
    "accuracy_best = accuracy_score(y_test, y_pred_best)\n",
    "\n",
    "classification_rep = classification_report(y_test, y_pred_best)\n",
    "\n",
    "print(\"\\nNajbolji parametri:\", best_params)\n",
    "print(\"Preciznost modela sa najboljim parametrima:\", round(accuracy_best, 5))\n",
    "print(\"\\nIzvestaj o klasifikaciji:\\n\", classification_rep)"
   ]
  },
  {
   "cell_type": "code",
   "execution_count": null,
   "id": "c8b6721f-170b-43c5-9704-5bf9971f1213",
   "metadata": {},
   "outputs": [],
   "source": []
  }
 ],
 "metadata": {
  "kernelspec": {
   "display_name": "Python (GPU)",
   "language": "python",
   "name": "gpu_env"
  },
  "language_info": {
   "codemirror_mode": {
    "name": "ipython",
    "version": 3
   },
   "file_extension": ".py",
   "mimetype": "text/x-python",
   "name": "python",
   "nbconvert_exporter": "python",
   "pygments_lexer": "ipython3",
   "version": "3.11.6"
  }
 },
 "nbformat": 4,
 "nbformat_minor": 5
}
