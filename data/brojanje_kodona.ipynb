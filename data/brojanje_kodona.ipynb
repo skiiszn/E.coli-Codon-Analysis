{
 "cells": [
  {
   "cell_type": "code",
   "execution_count": 1,
   "metadata": {},
   "outputs": [],
   "source": [
    "import numpy as np\n",
    "import pandas as pd\n",
    "from itertools import product\n",
    "import os\n",
    "from Bio import SeqIO"
   ]
  },
  {
   "cell_type": "code",
   "execution_count": 2,
   "metadata": {},
   "outputs": [],
   "source": [
    "nucleotides = ['A', 'C', 'G', 'T']\n",
    "combinations_of_3 = list(product(nucleotides, repeat=3))\n",
    "\n",
    "kolone = [''.join(combination) for combination in combinations_of_3]"
   ]
  },
  {
   "cell_type": "code",
   "execution_count": 3,
   "metadata": {},
   "outputs": [],
   "source": [
    "# Sa greskom\n",
    "genoms = ['NC_008563','NC_004431','NC_002655','NC_017632','NC_017641']"
   ]
  },
  {
   "cell_type": "code",
   "execution_count": 4,
   "metadata": {},
   "outputs": [],
   "source": [
    "genoms = ['NC_017626', 'NC_017627', 'NC_013364', 'NC_013365', 'NC_013366', 'NC_013361', 'NC_013369', \n",
    "          'NC_013353', 'NC_013354', 'NC_018650', 'NC_018654', 'NC_018661', 'NC_018662', 'NC_018658', \n",
    "          'NC_018659', 'NC_018666', 'NC_008253', 'NC_011748', 'NC_017631', 'NC_008563', 'NC_009837', \n",
    "          'NC_009838', 'NC_020163', 'NC_010468', 'NC_012892', 'NC_012971', 'NC_013941', 'NC_017646', \n",
    "          'NC_004431', 'NC_017625', 'NC_017638', 'NC_011601', 'NC_009786', 'NC_009788', 'NC_009790', \n",
    "          'NC_009801', 'NC_011353', 'NC_011745', 'NC_002655', 'NC_007414', 'NC_017633', 'NC_012947', \n",
    "          'NC_009800', 'NC_011741', 'NC_011750', 'NC_017628', 'NC_007779', 'NC_010473', 'NC_012759', \n",
    "          'NC_020518', 'NC_000913', 'NC_016902', 'NC_016904', 'NC_017660', 'NC_011993', 'NC_022364', \n",
    "          'NC_017644', 'NC_017634', 'NC_017659', 'NC_017663', 'NC_022370', 'NC_012967', 'NC_017656', \n",
    "          'NC_017657', 'NC_011742', 'NC_011747', 'NC_011415', 'NC_011419', 'NC_013654', 'NC_013655', \n",
    "          'NC_010488', 'NC_010498', 'NC_002128', 'NC_002695', 'NC_013008', 'NC_013010', 'NC_017630', \n",
    "          'NC_017632', 'NC_011739', 'NC_011749', 'NC_011751', 'NC_017639', 'NC_017641', 'NC_017642', \n",
    "          'NC_017645', 'NC_007941', 'NC_007946', 'NC_017635', 'NC_017637', 'NC_017664', 'NC_017665', \n",
    "          'NC_017906', 'NC_017907', 'NC_017652', 'NC_017651']"
   ]
  },
  {
   "cell_type": "markdown",
   "metadata": {},
   "source": [
    "# Brojanje kodona za PAI ostrva"
   ]
  },
  {
   "cell_type": "code",
   "execution_count": 5,
   "metadata": {},
   "outputs": [],
   "source": [
    "for genom in genoms:\n",
    "\n",
    "    fasta_file = f\"{genom}/{genom}.fasta\"\n",
    "    sequences = SeqIO.parse(fasta_file, \"fasta\")\n",
    "\n",
    "    if os.path.exists(f\"{genom}/patogena_ostrva.csv\"):\n",
    "        pai_ostrva = pd.read_csv(f\"{genom}/patogena_ostrva.csv\")\n",
    "\n",
    "        niska = None\n",
    "        for record in sequences:\n",
    "            niska = record.seq\n",
    "\n",
    "        for index, row in pai_ostrva.iterrows():\n",
    "            i = row['Start']\n",
    "            while row['End'] != i + 2:\n",
    "                kodon = niska[i:i+3]\n",
    "                if kodon in pai_ostrva.columns:\n",
    "                    pai_ostrva.at[index, kodon] += 1\n",
    "                else:\n",
    "                    print(f\"Kodon {kodon} nije validan.\")\n",
    "                    break\n",
    "                i += 1\n",
    "        pai_ostrva.to_csv(f\"{genom}/patogena_ostrva.csv\", index=False)\n",
    "        print(f\"Zavrsen {genom}.\")\n",
    "    else:\n",
    "        print(\"Nema PAI ostrva.\")\n"
   ]
  },
  {
   "cell_type": "code",
   "execution_count": null,
   "metadata": {},
   "outputs": [],
   "source": [
    "konacna_tabela = pd.read_csv(\"konacna_tabela.csv\")\n",
    "print(konacna_tabela)\n",
    "for genom in genoms:\n",
    "        if os.path.exists(f\"{genom}/patogena_ostrva.csv\"):\n",
    "                pai_ostrva = pd.read_csv(f\"{genom}/patogena_ostrva.csv\")\n",
    "                for index, row in pai_ostrva.iterrows():\n",
    "                        novi_red = {'ID': genom}\n",
    "                        konacna_tabela = konacna_tabela.append(novi_red, ignore_index=True)\n",
    "                        novi_red_indeks = konacna_tabela.index[-1]\n",
    "                        if row['Type'] == 0:\n",
    "                                konacna_tabela.at[novi_red_indeks,\"Tip\"] = \"P\" \n",
    "                        elif row['Type'] == 1:\n",
    "                                 konacna_tabela.at[novi_red_indeks,\"Tip\"] = \"C\"\n",
    "                        else:\n",
    "                                konacna_tabela.at[novi_red_indeks,\"Tip\"] = \"N\"\n",
    "\n",
    "                        for kodon in kolone:\n",
    "                                if kodon in konacna_tabela.columns:\n",
    "                                        konacna_tabela.at[novi_red_indeks,kodon] = pai_ostrva.at[index,kodon]\n",
    "                                else:\n",
    "                                        print(f\"Kodon {kodon} nije validan.\")\n",
    "                konacna_tabela.to_csv(f\"{genom}/konacna_tabela.csv\", index=False)\n",
    "                print(f\"Zavrsen {genom}.\")\n",
    "        else:\n",
    "                print(\"Nema PAI ostrva.\")"
   ]
  }
 ],
 "metadata": {
  "kernelspec": {
   "display_name": "Python 3 (ipykernel)",
   "language": "python",
   "name": "python3"
  },
  "language_info": {
   "codemirror_mode": {
    "name": "ipython",
    "version": 3
   },
   "file_extension": ".py",
   "mimetype": "text/x-python",
   "name": "python",
   "nbconvert_exporter": "python",
   "pygments_lexer": "ipython3",
   "version": "3.7.16"
  }
 },
 "nbformat": 4,
 "nbformat_minor": 4
}
